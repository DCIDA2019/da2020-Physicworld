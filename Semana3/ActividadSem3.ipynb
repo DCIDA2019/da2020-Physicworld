{
  "nbformat": 4,
  "nbformat_minor": 0,
  "metadata": {
    "colab": {
      "name": "ActividadSem3.ipynb",
      "provenance": []
    },
    "kernelspec": {
      "name": "python3",
      "display_name": "Python 3"
    }
  },
  "cells": [
    {
      "cell_type": "markdown",
      "metadata": {
        "id": "sl3Qdb2kIQ_3",
        "colab_type": "text"
      },
      "source": [
        "# José Domingo Cajina Ramírez\n",
        "13/02/2020\n",
        "\n",
        "\n",
        "---\n",
        "\n",
        "\n",
        "\n",
        "\n",
        "\n",
        "\n",
        "Realizar graficos que ayuden a representar mejor los datos de las tablas: lluvias y temperaturas, salarios-minimos,tabulador."
      ]
    },
    {
      "cell_type": "code",
      "metadata": {
        "id": "x1JSr_oOfeLp",
        "colab_type": "code",
        "colab": {}
      },
      "source": [
        "#Importando librerias que usaremos\n",
        "import pandas as pd\n",
        "import numpy as np\n",
        "import matplotlib.pyplot as plt"
      ],
      "execution_count": 0,
      "outputs": []
    },
    {
      "cell_type": "code",
      "metadata": {
        "id": "pZQ0d_uRiOJX",
        "colab_type": "code",
        "colab": {}
      },
      "source": [
        "!wget -cq https://raw.githubusercontent.com/DCIDA2019/da2020-Physicworld/master/Semana2/201901010000Lluv.csv\n",
        "!wget -cq https://raw.githubusercontent.com/DCIDA2019/da2020-Physicworld/master/Semana2/201901010000TMax.csv\n",
        "!wget -cq https://raw.githubusercontent.com/DCIDA2019/da2020-Physicworld/master/Semana2/201901010000TMed.csv\n",
        "!wget -cq https://raw.githubusercontent.com/DCIDA2019/da2020-Physicworld/master/Semana2/201901010000TMin.csv"
      ],
      "execution_count": 0,
      "outputs": []
    },
    {
      "cell_type": "code",
      "metadata": {
        "id": "hr2VjBHAIfvi",
        "colab_type": "code",
        "colab": {}
      },
      "source": [
        "# 1)  Tabla de Lluvias y temperatura\n",
        "data_lluvia = pd.read_csv(\"201901010000Lluv.csv\", encoding='Latin-1')\n",
        "data_Tmax = pd.read_csv(\"201901010000TMax.csv\", encoding='Latin-1')\n",
        "data_Tmed = pd.read_csv(\"201901010000TMed.csv\", encoding='Latin-1')\n",
        "data_Tmin = pd.read_csv(\"201901010000TMin.csv\", encoding='Latin-1')\n"
      ],
      "execution_count": 0,
      "outputs": []
    },
    {
      "cell_type": "code",
      "metadata": {
        "id": "quCTbMQHiIHv",
        "colab_type": "code",
        "colab": {
          "base_uri": "https://localhost:8080/",
          "height": 424
        },
        "outputId": "bbfec772-99bb-4aaf-b7eb-0c7c0d1b37aa"
      },
      "source": [
        "temp = pd.merge(data_Tmax,data_Tmed)\n",
        "tempe = pd.merge(temp,data_Tmin)\n",
        "data_lluvia.rename(columns=lambda m: m.capitalize())"
      ],
      "execution_count": 14,
      "outputs": [
        {
          "output_type": "execute_result",
          "data": {
            "text/html": [
              "<div>\n",
              "<style scoped>\n",
              "    .dataframe tbody tr th:only-of-type {\n",
              "        vertical-align: middle;\n",
              "    }\n",
              "\n",
              "    .dataframe tbody tr th {\n",
              "        vertical-align: top;\n",
              "    }\n",
              "\n",
              "    .dataframe thead th {\n",
              "        text-align: right;\n",
              "    }\n",
              "</style>\n",
              "<table border=\"1\" class=\"dataframe\">\n",
              "  <thead>\n",
              "    <tr style=\"text-align: right;\">\n",
              "      <th></th>\n",
              "      <th>Lon</th>\n",
              "      <th>Lat</th>\n",
              "      <th>Edo</th>\n",
              "      <th>Clave_sih</th>\n",
              "      <th>Nombre</th>\n",
              "      <th>Ene</th>\n",
              "    </tr>\n",
              "  </thead>\n",
              "  <tbody>\n",
              "    <tr>\n",
              "      <th>0</th>\n",
              "      <td>-102.309722</td>\n",
              "      <td>21.895000</td>\n",
              "      <td>AGS</td>\n",
              "      <td>AGSAG</td>\n",
              "      <td>Aguascalientes, Ags.</td>\n",
              "      <td>6.61</td>\n",
              "    </tr>\n",
              "    <tr>\n",
              "      <th>1</th>\n",
              "      <td>-102.466944</td>\n",
              "      <td>22.188611</td>\n",
              "      <td>AGS</td>\n",
              "      <td>ANVAG</td>\n",
              "      <td>Cincuenta Aniversario, Ags.</td>\n",
              "      <td>10.60</td>\n",
              "    </tr>\n",
              "    <tr>\n",
              "      <th>2</th>\n",
              "      <td>-102.184167</td>\n",
              "      <td>21.738611</td>\n",
              "      <td>AGS</td>\n",
              "      <td>BRTAG</td>\n",
              "      <td>San Bartolo, Ags.</td>\n",
              "      <td>10.50</td>\n",
              "    </tr>\n",
              "    <tr>\n",
              "      <th>3</th>\n",
              "      <td>-102.712222</td>\n",
              "      <td>21.849167</td>\n",
              "      <td>AGS</td>\n",
              "      <td>CALVILLO</td>\n",
              "      <td>Calvillo, Ags. SMN*</td>\n",
              "      <td>18.17</td>\n",
              "    </tr>\n",
              "    <tr>\n",
              "      <th>4</th>\n",
              "      <td>-102.676944</td>\n",
              "      <td>21.997500</td>\n",
              "      <td>AGS</td>\n",
              "      <td>CDRAG</td>\n",
              "      <td>La Codorniz, Ags.</td>\n",
              "      <td>16.70</td>\n",
              "    </tr>\n",
              "    <tr>\n",
              "      <th>...</th>\n",
              "      <td>...</td>\n",
              "      <td>...</td>\n",
              "      <td>...</td>\n",
              "      <td>...</td>\n",
              "      <td>...</td>\n",
              "      <td>...</td>\n",
              "    </tr>\n",
              "    <tr>\n",
              "      <th>1236</th>\n",
              "      <td>-102.344167</td>\n",
              "      <td>23.288611</td>\n",
              "      <td>ZAC</td>\n",
              "      <td>VCOZC</td>\n",
              "      <td>Villa de Cos, Zac.</td>\n",
              "      <td>7.00</td>\n",
              "    </tr>\n",
              "    <tr>\n",
              "      <th>1237</th>\n",
              "      <td>-101.916944</td>\n",
              "      <td>22.520278</td>\n",
              "      <td>ZAC</td>\n",
              "      <td>VGOZC</td>\n",
              "      <td>Villa González Ortega, Zac.</td>\n",
              "      <td>32.32</td>\n",
              "    </tr>\n",
              "    <tr>\n",
              "      <th>1238</th>\n",
              "      <td>-101.715833</td>\n",
              "      <td>22.347500</td>\n",
              "      <td>ZAC</td>\n",
              "      <td>VHGZC</td>\n",
              "      <td>Villa Hidalgo, Zac.</td>\n",
              "      <td>9.70</td>\n",
              "    </tr>\n",
              "    <tr>\n",
              "      <th>1239</th>\n",
              "      <td>-103.337500</td>\n",
              "      <td>21.588889</td>\n",
              "      <td>ZAC</td>\n",
              "      <td>VILZC</td>\n",
              "      <td>José María Morelos, Zac.</td>\n",
              "      <td>15.20</td>\n",
              "    </tr>\n",
              "    <tr>\n",
              "      <th>1240</th>\n",
              "      <td>-102.576667</td>\n",
              "      <td>22.761389</td>\n",
              "      <td>ZAC</td>\n",
              "      <td>ZACZC</td>\n",
              "      <td>Zacatecas, Zac.</td>\n",
              "      <td>12.02</td>\n",
              "    </tr>\n",
              "  </tbody>\n",
              "</table>\n",
              "<p>1241 rows × 6 columns</p>\n",
              "</div>"
            ],
            "text/plain": [
              "             Lon        Lat  Edo Clave_sih                       Nombre    Ene\n",
              "0    -102.309722  21.895000  AGS     AGSAG         Aguascalientes, Ags.   6.61\n",
              "1    -102.466944  22.188611  AGS     ANVAG  Cincuenta Aniversario, Ags.  10.60\n",
              "2    -102.184167  21.738611  AGS     BRTAG            San Bartolo, Ags.  10.50\n",
              "3    -102.712222  21.849167  AGS  CALVILLO          Calvillo, Ags. SMN*  18.17\n",
              "4    -102.676944  21.997500  AGS     CDRAG            La Codorniz, Ags.  16.70\n",
              "...          ...        ...  ...       ...                          ...    ...\n",
              "1236 -102.344167  23.288611  ZAC     VCOZC           Villa de Cos, Zac.   7.00\n",
              "1237 -101.916944  22.520278  ZAC     VGOZC  Villa González Ortega, Zac.  32.32\n",
              "1238 -101.715833  22.347500  ZAC     VHGZC          Villa Hidalgo, Zac.   9.70\n",
              "1239 -103.337500  21.588889  ZAC     VILZC     José María Morelos, Zac.  15.20\n",
              "1240 -102.576667  22.761389  ZAC     ZACZC              Zacatecas, Zac.  12.02\n",
              "\n",
              "[1241 rows x 6 columns]"
            ]
          },
          "metadata": {
            "tags": []
          },
          "execution_count": 14
        }
      ]
    },
    {
      "cell_type": "code",
      "metadata": {
        "id": "iFBL1yjRiS3s",
        "colab_type": "code",
        "colab": {}
      },
      "source": [
        "Base_Data = pd.merge(tempe, data_lluvia, left_index=True, right_index=True)"
      ],
      "execution_count": 0,
      "outputs": []
    },
    {
      "cell_type": "code",
      "metadata": {
        "id": "hxuFQCOUihtN",
        "colab_type": "code",
        "colab": {
          "base_uri": "https://localhost:8080/",
          "height": 580
        },
        "outputId": "c8bd07df-6a15-4807-ad6d-a2c4aa021559"
      },
      "source": [
        "Base_Data"
      ],
      "execution_count": 17,
      "outputs": [
        {
          "output_type": "execute_result",
          "data": {
            "text/html": [
              "<div>\n",
              "<style scoped>\n",
              "    .dataframe tbody tr th:only-of-type {\n",
              "        vertical-align: middle;\n",
              "    }\n",
              "\n",
              "    .dataframe tbody tr th {\n",
              "        vertical-align: top;\n",
              "    }\n",
              "\n",
              "    .dataframe thead th {\n",
              "        text-align: right;\n",
              "    }\n",
              "</style>\n",
              "<table border=\"1\" class=\"dataframe\">\n",
              "  <thead>\n",
              "    <tr style=\"text-align: right;\">\n",
              "      <th></th>\n",
              "      <th>Lon</th>\n",
              "      <th>Lat</th>\n",
              "      <th>Clave</th>\n",
              "      <th>Edo</th>\n",
              "      <th>Est</th>\n",
              "      <th>Tmax</th>\n",
              "      <th>Tmed</th>\n",
              "      <th>Tmin</th>\n",
              "      <th>LON</th>\n",
              "      <th>LAT</th>\n",
              "      <th>EDO</th>\n",
              "      <th>CLAVE_SIH</th>\n",
              "      <th>NOMBRE</th>\n",
              "      <th>ENE</th>\n",
              "    </tr>\n",
              "  </thead>\n",
              "  <tbody>\n",
              "    <tr>\n",
              "      <th>0</th>\n",
              "      <td>-99.75</td>\n",
              "      <td>16.76</td>\n",
              "      <td>76805</td>\n",
              "      <td>GRO</td>\n",
              "      <td>ACAPULCO</td>\n",
              "      <td>33.277419</td>\n",
              "      <td>27.441935</td>\n",
              "      <td>21.606452</td>\n",
              "      <td>-102.309722</td>\n",
              "      <td>21.895000</td>\n",
              "      <td>AGS</td>\n",
              "      <td>AGSAG</td>\n",
              "      <td>Aguascalientes, Ags.</td>\n",
              "      <td>6.61</td>\n",
              "    </tr>\n",
              "    <tr>\n",
              "      <th>1</th>\n",
              "      <td>-111.83</td>\n",
              "      <td>30.71</td>\n",
              "      <td>76113</td>\n",
              "      <td>SON</td>\n",
              "      <td>ALTAR</td>\n",
              "      <td>20.868966</td>\n",
              "      <td>13.462069</td>\n",
              "      <td>6.055172</td>\n",
              "      <td>-102.466944</td>\n",
              "      <td>22.188611</td>\n",
              "      <td>AGS</td>\n",
              "      <td>ANVAG</td>\n",
              "      <td>Cincuenta Aniversario, Ags.</td>\n",
              "      <td>10.60</td>\n",
              "    </tr>\n",
              "    <tr>\n",
              "      <th>2</th>\n",
              "      <td>-93.90</td>\n",
              "      <td>16.24</td>\n",
              "      <td>76840</td>\n",
              "      <td>CHIS</td>\n",
              "      <td>ARRIAGA</td>\n",
              "      <td>34.464516</td>\n",
              "      <td>28.088710</td>\n",
              "      <td>21.712903</td>\n",
              "      <td>-102.184167</td>\n",
              "      <td>21.738611</td>\n",
              "      <td>AGS</td>\n",
              "      <td>BRTAG</td>\n",
              "      <td>San Bartolo, Ags.</td>\n",
              "      <td>10.50</td>\n",
              "    </tr>\n",
              "    <tr>\n",
              "      <th>3</th>\n",
              "      <td>-90.50</td>\n",
              "      <td>19.83</td>\n",
              "      <td>76695</td>\n",
              "      <td>CAMP</td>\n",
              "      <td>CAMPECHE</td>\n",
              "      <td>29.400000</td>\n",
              "      <td>23.374074</td>\n",
              "      <td>17.348148</td>\n",
              "      <td>-102.712222</td>\n",
              "      <td>21.849167</td>\n",
              "      <td>AGS</td>\n",
              "      <td>CALVILLO</td>\n",
              "      <td>Calvillo, Ags. SMN*</td>\n",
              "      <td>18.17</td>\n",
              "    </tr>\n",
              "    <tr>\n",
              "      <th>4</th>\n",
              "      <td>-111.65</td>\n",
              "      <td>25.01</td>\n",
              "      <td>76402</td>\n",
              "      <td>BCS</td>\n",
              "      <td>CD. CONSTITUCIÓN</td>\n",
              "      <td>27.429032</td>\n",
              "      <td>17.987097</td>\n",
              "      <td>8.545161</td>\n",
              "      <td>-102.676944</td>\n",
              "      <td>21.997500</td>\n",
              "      <td>AGS</td>\n",
              "      <td>CDRAG</td>\n",
              "      <td>La Codorniz, Ags.</td>\n",
              "      <td>16.70</td>\n",
              "    </tr>\n",
              "    <tr>\n",
              "      <th>...</th>\n",
              "      <td>...</td>\n",
              "      <td>...</td>\n",
              "      <td>...</td>\n",
              "      <td>...</td>\n",
              "      <td>...</td>\n",
              "      <td>...</td>\n",
              "      <td>...</td>\n",
              "      <td>...</td>\n",
              "      <td>...</td>\n",
              "      <td>...</td>\n",
              "      <td>...</td>\n",
              "      <td>...</td>\n",
              "      <td>...</td>\n",
              "      <td>...</td>\n",
              "    </tr>\n",
              "    <tr>\n",
              "      <th>630</th>\n",
              "      <td>-99.24</td>\n",
              "      <td>19.47</td>\n",
              "      <td>CCH N</td>\n",
              "      <td>MEX</td>\n",
              "      <td>CCH Naucalpan</td>\n",
              "      <td>22.187097</td>\n",
              "      <td>15.232258</td>\n",
              "      <td>8.277419</td>\n",
              "      <td>-101.050000</td>\n",
              "      <td>19.490000</td>\n",
              "      <td>MICH</td>\n",
              "      <td>PDBMC</td>\n",
              "      <td>Planta de Bombeo, Mich.</td>\n",
              "      <td>21.00</td>\n",
              "    </tr>\n",
              "    <tr>\n",
              "      <th>631</th>\n",
              "      <td>-99.80</td>\n",
              "      <td>19.63</td>\n",
              "      <td>SMLMX</td>\n",
              "      <td>MEX</td>\n",
              "      <td>Santa María del Llano Méx.</td>\n",
              "      <td>24.612903</td>\n",
              "      <td>11.161290</td>\n",
              "      <td>-2.290323</td>\n",
              "      <td>-102.601389</td>\n",
              "      <td>19.959167</td>\n",
              "      <td>MICH</td>\n",
              "      <td>PDEGONZALO</td>\n",
              "      <td>Presa de Gonzalo, Mich. SGT*</td>\n",
              "      <td>4.40</td>\n",
              "    </tr>\n",
              "    <tr>\n",
              "      <th>632</th>\n",
              "      <td>-95.93</td>\n",
              "      <td>17.15</td>\n",
              "      <td>ZACOX</td>\n",
              "      <td>OAX</td>\n",
              "      <td>Zacatepec Oax.</td>\n",
              "      <td>20.354167</td>\n",
              "      <td>16.697917</td>\n",
              "      <td>13.041667</td>\n",
              "      <td>-102.431389</td>\n",
              "      <td>20.303056</td>\n",
              "      <td>MICH</td>\n",
              "      <td>PJARIPO</td>\n",
              "      <td>Presa Jaripo, Mich. SGT*</td>\n",
              "      <td>14.00</td>\n",
              "    </tr>\n",
              "    <tr>\n",
              "      <th>633</th>\n",
              "      <td>-95.52</td>\n",
              "      <td>18.63</td>\n",
              "      <td>NLTVC</td>\n",
              "      <td>VER</td>\n",
              "      <td>Naranjal Lerdo de Tejada Ver.</td>\n",
              "      <td>26.692308</td>\n",
              "      <td>22.269231</td>\n",
              "      <td>17.846154</td>\n",
              "      <td>-101.600000</td>\n",
              "      <td>20.300000</td>\n",
              "      <td>MICH</td>\n",
              "      <td>PORMC</td>\n",
              "      <td>Pastor Ortiz, Mich.</td>\n",
              "      <td>0.82</td>\n",
              "    </tr>\n",
              "    <tr>\n",
              "      <th>634</th>\n",
              "      <td>-89.50</td>\n",
              "      <td>21.08</td>\n",
              "      <td>CONYC</td>\n",
              "      <td>YUC</td>\n",
              "      <td>Conkal Yuc.</td>\n",
              "      <td>28.129032</td>\n",
              "      <td>20.870968</td>\n",
              "      <td>13.612903</td>\n",
              "      <td>-100.684167</td>\n",
              "      <td>19.621389</td>\n",
              "      <td>MICH</td>\n",
              "      <td>PUCMC</td>\n",
              "      <td>Pucuato, Mich.</td>\n",
              "      <td>7.80</td>\n",
              "    </tr>\n",
              "  </tbody>\n",
              "</table>\n",
              "<p>635 rows × 14 columns</p>\n",
              "</div>"
            ],
            "text/plain": [
              "        Lon    Lat  Clave  ...   CLAVE_SIH                        NOMBRE    ENE\n",
              "0    -99.75  16.76  76805  ...       AGSAG          Aguascalientes, Ags.   6.61\n",
              "1   -111.83  30.71  76113  ...       ANVAG   Cincuenta Aniversario, Ags.  10.60\n",
              "2    -93.90  16.24  76840  ...       BRTAG             San Bartolo, Ags.  10.50\n",
              "3    -90.50  19.83  76695  ...    CALVILLO           Calvillo, Ags. SMN*  18.17\n",
              "4   -111.65  25.01  76402  ...       CDRAG             La Codorniz, Ags.  16.70\n",
              "..      ...    ...    ...  ...         ...                           ...    ...\n",
              "630  -99.24  19.47  CCH N  ...       PDBMC       Planta de Bombeo, Mich.  21.00\n",
              "631  -99.80  19.63  SMLMX  ...  PDEGONZALO  Presa de Gonzalo, Mich. SGT*   4.40\n",
              "632  -95.93  17.15  ZACOX  ...     PJARIPO      Presa Jaripo, Mich. SGT*  14.00\n",
              "633  -95.52  18.63  NLTVC  ...       PORMC           Pastor Ortiz, Mich.   0.82\n",
              "634  -89.50  21.08  CONYC  ...       PUCMC                Pucuato, Mich.   7.80\n",
              "\n",
              "[635 rows x 14 columns]"
            ]
          },
          "metadata": {
            "tags": []
          },
          "execution_count": 17
        }
      ]
    },
    {
      "cell_type": "code",
      "metadata": {
        "id": "ceDjwRTVkEAX",
        "colab_type": "code",
        "colab": {
          "base_uri": "https://localhost:8080/",
          "height": 281
        },
        "outputId": "f0627a9b-72b6-4220-d200-f035b1f6ab19"
      },
      "source": [
        "\"\"\"\n",
        "En Teoría si graficamos latitud contra latitud obtendremos el mapa de México,\n",
        "y podemos aprenciar que en efecto, obtenemos un boceto del mapa.\n",
        "\"\"\"\n",
        "plt.scatter(Base_Data['Lon'], Base_Data['Lat'], marker='.')\n",
        "plt.xlabel(\"Longitud\")\n",
        "plt.ylabel(\"Latitud\")\n",
        "plt.show()"
      ],
      "execution_count": 78,
      "outputs": [
        {
          "output_type": "display_data",
          "data": {
            "image/png": "[encoded data removed]",
            "text/plain": [
              "<Figure size 432x288 with 1 Axes>"
            ]
          },
          "metadata": {
            "tags": []
          }
        }
      ]
    },
    {
      "cell_type": "code",
      "metadata": {
        "id": "elWQxZJ_koWp",
        "colab_type": "code",
        "colab": {
          "base_uri": "https://localhost:8080/",
          "height": 265
        },
        "outputId": "64c9040f-5835-41aa-e9d7-bb7910f75420"
      },
      "source": [
        "\"\"\"\n",
        "En esta gráfica vamos a primeramente mapear los valores de los estados\n",
        "con la funcion xticks, para asignar un valor a cada estado de 0 al range.\n",
        "De esta manera podremos usarlos como dominio sin obtener un desorden a la hora\n",
        "de graficar.\n",
        "\n",
        "Y en segundo lugar, vamos a agregar la data de temperaturas, y el indice ENE,\n",
        "Para poder comparar como se comporta cada estado.\n",
        "\n",
        "Entonces prodría ser interesante y de importancia ver si existe alguna\n",
        "correlación entre las temperaturas, y coeficiente de lluvias, con los estados\n",
        "colindantes y estudiar asi el movimiento del clima y de las nubes.\n",
        "\n",
        "Si compararamos esta data con la de años pasados o futuros, podriamos ver\n",
        "la correlacion territorial que hay en México hablando de climas.\n",
        "\n",
        "\"\"\"\n",
        "Estados = Base_Data[\"Edo\"]\n",
        "mapear = range(len(Estados))\n",
        "plt.xticks(mapear, Estados)\n",
        "\n",
        "plt.plot(Base_Data[\"ENE\"],label=\"Lluvia\",color=\"green\")\n",
        "plt.legend()\n",
        "\n",
        "plt.plot(Base_Data[\"Tmax\"],label=\"Tmax\", color=\"red\")\n",
        "plt.legend()\n",
        "\n",
        "plt.plot(Base_Data[\"Tmed\"],label=\"Tmax\", color=\"orange\")\n",
        "plt.legend()\n",
        "\n",
        "plt.plot(Base_Data[\"Tmin\"],label=\"Tmax\", color=\"pink\")\n",
        "plt.legend()\n",
        "\n",
        "#Aqui podemos hacer un \"zoom\" para vizualizar ciertos estados solamente\n",
        "#plt.xlim(20,30)\n",
        "\n",
        "plt.show()"
      ],
      "execution_count": 81,
      "outputs": [
        {
          "output_type": "display_data",
          "data": {
            "image/png": "[encoded data removed]",
            "text/plain": [
              "<Figure size 432x288 with 1 Axes>"
            ]
          },
          "metadata": {
            "tags": []
          }
        }
      ]
    },
    {
      "cell_type": "code",
      "metadata": {
        "id": "4_FnjCyLqDWL",
        "colab_type": "code",
        "colab": {}
      },
      "source": [
        "#Ahora vamos a visualizar los datos de tabulador\n",
        "!wget -cq https://raw.githubusercontent.com/DCIDA2019/da2020-Physicworld/master/datos/tabulador.csv"
      ],
      "execution_count": 0,
      "outputs": []
    },
    {
      "cell_type": "code",
      "metadata": {
        "id": "akxF6iRFFcN4",
        "colab_type": "code",
        "colab": {
          "base_uri": "https://localhost:8080/",
          "height": 237
        },
        "outputId": "7ae31bae-b9db-4269-a018-50596d712c56"
      },
      "source": [
        "tabulador = pd.read_csv('tabulador.csv', encoding='Latin-1')\n",
        "#tabulador.index[\"TIPO\"]\n",
        "#tabulador.drop(\"TIPO\")\n",
        "tabulador[\"TIPO\"]\n"
      ],
      "execution_count": 215,
      "outputs": [
        {
          "output_type": "execute_result",
          "data": {
            "text/plain": [
              "0     NaN\n",
              "1     NaN\n",
              "2     NaN\n",
              "3     NaN\n",
              "4     NaN\n",
              "     ... \n",
              "74    NaN\n",
              "75      A\n",
              "76      A\n",
              "77      A\n",
              "78      A\n",
              "Name: TIPO, Length: 79, dtype: object"
            ]
          },
          "metadata": {
            "tags": []
          },
          "execution_count": 215
        }
      ]
    },
    {
      "cell_type": "code",
      "metadata": {
        "id": "g_JTMRIRFhUr",
        "colab_type": "code",
        "colab": {
          "base_uri": "https://localhost:8080/",
          "height": 380
        },
        "outputId": "2c1568c4-cccf-441b-b1bb-4412ab2aee32"
      },
      "source": [
        "type(tabulador[\"ISSSTE\"])\n",
        "tabulador[\"ISSSTE\"].sum()\n",
        "tabulador.drop(\"TIPO\")\n",
        "tabulador = tabulador.astype(float)"
      ],
      "execution_count": 205,
      "outputs": [
        {
          "output_type": "error",
          "ename": "KeyError",
          "evalue": "ignored",
          "traceback": [
            "\u001b[0;31m---------------------------------------------------------------------------\u001b[0m",
            "\u001b[0;31mKeyError\u001b[0m                                  Traceback (most recent call last)",
            "\u001b[0;32m<ipython-input-205-0e2ba6d28652>\u001b[0m in \u001b[0;36m<module>\u001b[0;34m()\u001b[0m\n\u001b[1;32m      1\u001b[0m \u001b[0mtype\u001b[0m\u001b[0;34m(\u001b[0m\u001b[0mtabulador\u001b[0m\u001b[0;34m[\u001b[0m\u001b[0;34m\"ISSSTE\"\u001b[0m\u001b[0;34m]\u001b[0m\u001b[0;34m)\u001b[0m\u001b[0;34m\u001b[0m\u001b[0;34m\u001b[0m\u001b[0m\n\u001b[1;32m      2\u001b[0m \u001b[0mtabulador\u001b[0m\u001b[0;34m[\u001b[0m\u001b[0;34m\"ISSSTE\"\u001b[0m\u001b[0;34m]\u001b[0m\u001b[0;34m.\u001b[0m\u001b[0msum\u001b[0m\u001b[0;34m(\u001b[0m\u001b[0;34m)\u001b[0m\u001b[0;34m\u001b[0m\u001b[0;34m\u001b[0m\u001b[0m\n\u001b[0;32m----> 3\u001b[0;31m \u001b[0mtabulador\u001b[0m\u001b[0;34m.\u001b[0m\u001b[0mdrop\u001b[0m\u001b[0;34m(\u001b[0m\u001b[0;34m\"TIPO\"\u001b[0m\u001b[0;34m)\u001b[0m\u001b[0;34m\u001b[0m\u001b[0;34m\u001b[0m\u001b[0m\n\u001b[0m\u001b[1;32m      4\u001b[0m \u001b[0mtabulador\u001b[0m \u001b[0;34m=\u001b[0m \u001b[0mtabulador\u001b[0m\u001b[0;34m.\u001b[0m\u001b[0mastype\u001b[0m\u001b[0;34m(\u001b[0m\u001b[0mfloat\u001b[0m\u001b[0;34m)\u001b[0m\u001b[0;34m\u001b[0m\u001b[0;34m\u001b[0m\u001b[0m\n",
            "\u001b[0;32m/usr/local/lib/python3.6/dist-packages/pandas/core/frame.py\u001b[0m in \u001b[0;36mdrop\u001b[0;34m(self, labels, axis, index, columns, level, inplace, errors)\u001b[0m\n\u001b[1;32m   4115\u001b[0m             \u001b[0mlevel\u001b[0m\u001b[0;34m=\u001b[0m\u001b[0mlevel\u001b[0m\u001b[0;34m,\u001b[0m\u001b[0;34m\u001b[0m\u001b[0;34m\u001b[0m\u001b[0m\n\u001b[1;32m   4116\u001b[0m             \u001b[0minplace\u001b[0m\u001b[0;34m=\u001b[0m\u001b[0minplace\u001b[0m\u001b[0;34m,\u001b[0m\u001b[0;34m\u001b[0m\u001b[0;34m\u001b[0m\u001b[0m\n\u001b[0;32m-> 4117\u001b[0;31m             \u001b[0merrors\u001b[0m\u001b[0;34m=\u001b[0m\u001b[0merrors\u001b[0m\u001b[0;34m,\u001b[0m\u001b[0;34m\u001b[0m\u001b[0;34m\u001b[0m\u001b[0m\n\u001b[0m\u001b[1;32m   4118\u001b[0m         )\n\u001b[1;32m   4119\u001b[0m \u001b[0;34m\u001b[0m\u001b[0m\n",
            "\u001b[0;32m/usr/local/lib/python3.6/dist-packages/pandas/core/generic.py\u001b[0m in \u001b[0;36mdrop\u001b[0;34m(self, labels, axis, index, columns, level, inplace, errors)\u001b[0m\n\u001b[1;32m   3912\u001b[0m         \u001b[0;32mfor\u001b[0m \u001b[0maxis\u001b[0m\u001b[0;34m,\u001b[0m \u001b[0mlabels\u001b[0m \u001b[0;32min\u001b[0m \u001b[0maxes\u001b[0m\u001b[0;34m.\u001b[0m\u001b[0mitems\u001b[0m\u001b[0;34m(\u001b[0m\u001b[0;34m)\u001b[0m\u001b[0;34m:\u001b[0m\u001b[0;34m\u001b[0m\u001b[0;34m\u001b[0m\u001b[0m\n\u001b[1;32m   3913\u001b[0m             \u001b[0;32mif\u001b[0m \u001b[0mlabels\u001b[0m \u001b[0;32mis\u001b[0m \u001b[0;32mnot\u001b[0m \u001b[0;32mNone\u001b[0m\u001b[0;34m:\u001b[0m\u001b[0;34m\u001b[0m\u001b[0;34m\u001b[0m\u001b[0m\n\u001b[0;32m-> 3914\u001b[0;31m                 \u001b[0mobj\u001b[0m \u001b[0;34m=\u001b[0m \u001b[0mobj\u001b[0m\u001b[0;34m.\u001b[0m\u001b[0m_drop_axis\u001b[0m\u001b[0;34m(\u001b[0m\u001b[0mlabels\u001b[0m\u001b[0;34m,\u001b[0m \u001b[0maxis\u001b[0m\u001b[0;34m,\u001b[0m \u001b[0mlevel\u001b[0m\u001b[0;34m=\u001b[0m\u001b[0mlevel\u001b[0m\u001b[0;34m,\u001b[0m \u001b[0merrors\u001b[0m\u001b[0;34m=\u001b[0m\u001b[0merrors\u001b[0m\u001b[0;34m)\u001b[0m\u001b[0;34m\u001b[0m\u001b[0;34m\u001b[0m\u001b[0m\n\u001b[0m\u001b[1;32m   3915\u001b[0m \u001b[0;34m\u001b[0m\u001b[0m\n\u001b[1;32m   3916\u001b[0m         \u001b[0;32mif\u001b[0m \u001b[0minplace\u001b[0m\u001b[0;34m:\u001b[0m\u001b[0;34m\u001b[0m\u001b[0;34m\u001b[0m\u001b[0m\n",
            "\u001b[0;32m/usr/local/lib/python3.6/dist-packages/pandas/core/generic.py\u001b[0m in \u001b[0;36m_drop_axis\u001b[0;34m(self, labels, axis, level, errors)\u001b[0m\n\u001b[1;32m   3944\u001b[0m                 \u001b[0mnew_axis\u001b[0m \u001b[0;34m=\u001b[0m \u001b[0maxis\u001b[0m\u001b[0;34m.\u001b[0m\u001b[0mdrop\u001b[0m\u001b[0;34m(\u001b[0m\u001b[0mlabels\u001b[0m\u001b[0;34m,\u001b[0m \u001b[0mlevel\u001b[0m\u001b[0;34m=\u001b[0m\u001b[0mlevel\u001b[0m\u001b[0;34m,\u001b[0m \u001b[0merrors\u001b[0m\u001b[0;34m=\u001b[0m\u001b[0merrors\u001b[0m\u001b[0;34m)\u001b[0m\u001b[0;34m\u001b[0m\u001b[0;34m\u001b[0m\u001b[0m\n\u001b[1;32m   3945\u001b[0m             \u001b[0;32melse\u001b[0m\u001b[0;34m:\u001b[0m\u001b[0;34m\u001b[0m\u001b[0;34m\u001b[0m\u001b[0m\n\u001b[0;32m-> 3946\u001b[0;31m                 \u001b[0mnew_axis\u001b[0m \u001b[0;34m=\u001b[0m \u001b[0maxis\u001b[0m\u001b[0;34m.\u001b[0m\u001b[0mdrop\u001b[0m\u001b[0;34m(\u001b[0m\u001b[0mlabels\u001b[0m\u001b[0;34m,\u001b[0m \u001b[0merrors\u001b[0m\u001b[0;34m=\u001b[0m\u001b[0merrors\u001b[0m\u001b[0;34m)\u001b[0m\u001b[0;34m\u001b[0m\u001b[0;34m\u001b[0m\u001b[0m\n\u001b[0m\u001b[1;32m   3947\u001b[0m             \u001b[0mresult\u001b[0m \u001b[0;34m=\u001b[0m \u001b[0mself\u001b[0m\u001b[0;34m.\u001b[0m\u001b[0mreindex\u001b[0m\u001b[0;34m(\u001b[0m\u001b[0;34m**\u001b[0m\u001b[0;34m{\u001b[0m\u001b[0maxis_name\u001b[0m\u001b[0;34m:\u001b[0m \u001b[0mnew_axis\u001b[0m\u001b[0;34m}\u001b[0m\u001b[0;34m)\u001b[0m\u001b[0;34m\u001b[0m\u001b[0;34m\u001b[0m\u001b[0m\n\u001b[1;32m   3948\u001b[0m \u001b[0;34m\u001b[0m\u001b[0m\n",
            "\u001b[0;32m/usr/local/lib/python3.6/dist-packages/pandas/core/indexes/base.py\u001b[0m in \u001b[0;36mdrop\u001b[0;34m(self, labels, errors)\u001b[0m\n\u001b[1;32m   5338\u001b[0m         \u001b[0;32mif\u001b[0m \u001b[0mmask\u001b[0m\u001b[0;34m.\u001b[0m\u001b[0many\u001b[0m\u001b[0;34m(\u001b[0m\u001b[0;34m)\u001b[0m\u001b[0;34m:\u001b[0m\u001b[0;34m\u001b[0m\u001b[0;34m\u001b[0m\u001b[0m\n\u001b[1;32m   5339\u001b[0m             \u001b[0;32mif\u001b[0m \u001b[0merrors\u001b[0m \u001b[0;34m!=\u001b[0m \u001b[0;34m\"ignore\"\u001b[0m\u001b[0;34m:\u001b[0m\u001b[0;34m\u001b[0m\u001b[0;34m\u001b[0m\u001b[0m\n\u001b[0;32m-> 5340\u001b[0;31m                 \u001b[0;32mraise\u001b[0m \u001b[0mKeyError\u001b[0m\u001b[0;34m(\u001b[0m\u001b[0;34m\"{} not found in axis\"\u001b[0m\u001b[0;34m.\u001b[0m\u001b[0mformat\u001b[0m\u001b[0;34m(\u001b[0m\u001b[0mlabels\u001b[0m\u001b[0;34m[\u001b[0m\u001b[0mmask\u001b[0m\u001b[0;34m]\u001b[0m\u001b[0;34m)\u001b[0m\u001b[0;34m)\u001b[0m\u001b[0;34m\u001b[0m\u001b[0;34m\u001b[0m\u001b[0m\n\u001b[0m\u001b[1;32m   5341\u001b[0m             \u001b[0mindexer\u001b[0m \u001b[0;34m=\u001b[0m \u001b[0mindexer\u001b[0m\u001b[0;34m[\u001b[0m\u001b[0;34m~\u001b[0m\u001b[0mmask\u001b[0m\u001b[0;34m]\u001b[0m\u001b[0;34m\u001b[0m\u001b[0;34m\u001b[0m\u001b[0m\n\u001b[1;32m   5342\u001b[0m         \u001b[0;32mreturn\u001b[0m \u001b[0mself\u001b[0m\u001b[0;34m.\u001b[0m\u001b[0mdelete\u001b[0m\u001b[0;34m(\u001b[0m\u001b[0mindexer\u001b[0m\u001b[0;34m)\u001b[0m\u001b[0;34m\u001b[0m\u001b[0;34m\u001b[0m\u001b[0m\n",
            "\u001b[0;31mKeyError\u001b[0m: \"['TIPO'] not found in axis\""
          ]
        }
      ]
    },
    {
      "cell_type": "code",
      "metadata": {
        "id": "xGrPCQWTVPa5",
        "colab_type": "code",
        "colab": {}
      },
      "source": [
        ""
      ],
      "execution_count": 0,
      "outputs": []
    }
  ]
}