{
  "nbformat": 4,
  "nbformat_minor": 0,
  "metadata": {
    "colab": {
      "name": "markov_chain_multiple.ipynb",
      "provenance": []
    },
    "kernelspec": {
      "name": "python3",
      "display_name": "Python 3"
    }
  },
  "cells": [
    {
      "cell_type": "code",
      "metadata": {
        "id": "R8OtJtdVLkk6",
        "colab_type": "code",
        "colab": {}
      },
      "source": [
        "import numpy as np\n",
        "import matplotlib.pyplot as plt"
      ],
      "execution_count": 0,
      "outputs": []
    },
    {
      "cell_type": "code",
      "metadata": {
        "id": "E97Q5cvJRuJO",
        "colab_type": "code",
        "colab": {}
      },
      "source": [
        "def likelihood(x, y, sigma, modelo, parametro):\n",
        "    return (-1/2)*np.sum(((y-modelo(x, parametro))**2)/sigma**2)"
      ],
      "execution_count": 0,
      "outputs": []
    },
    {
      "cell_type": "code",
      "metadata": {
        "id": "aAHi49-bVnHa",
        "colab_type": "code",
        "colab": {}
      },
      "source": [
        "def montecarlo_chain(x, y, sigma, modelo, p_i, n):\n",
        "\n",
        "    L_v = likelihood(x, y, sigma, modelo, p_i)\n",
        "    markov_chain = []\n",
        "    markov_chain.append([p_i, L_v])\n",
        "    \n",
        "    s = [0.1, 0.1]\n",
        "    \n",
        "    for i in range(n):\n",
        "        p_n = []\n",
        "        p_n = [np.random.normal(p_i[0], s[0]), np.random.normal(p_i[1], s[1])]\n",
        "        \n",
        "        L_n = likelihood(x, y, sigma, modelo, p_n)\n",
        "        \n",
        "        if (L_n>L_v):\n",
        "            markov_chain.append([p_n, L_n])\n",
        "            p_i = p_n \n",
        "            L_v = L_n\n",
        "            continue\n",
        "        elif  ((np.exp(L_n)/np.exp(L_v)) > np.random.randn()):\n",
        "            markov_chain.append([p_n, L_n])\n",
        "        \n",
        "    else:     \n",
        "        return markov_chain\n",
        "        \n",
        "    return markov_chain"
      ],
      "execution_count": 0,
      "outputs": []
    },
    {
      "cell_type": "code",
      "metadata": {
        "id": "v_vMtkeFVsSo",
        "colab_type": "code",
        "colab": {}
      },
      "source": [
        "def modelo(x, params):\n",
        "    return x*params[0]+params[1]\n",
        "\n",
        "x = np.linspace(0,10,1000)\n",
        "p_reales = [4, 9]\n",
        "\n",
        "des = np.zeros(len(x))\n",
        "for i in range(len(x)):\n",
        "    des[i] = 0.1\n",
        "\n",
        "y = x*p_reales[0] + p_reales[1]"
      ],
      "execution_count": 0,
      "outputs": []
    },
    {
      "cell_type": "code",
      "metadata": {
        "id": "CCXoamhKV1Ez",
        "colab_type": "code",
        "colab": {}
      },
      "source": [
        "p_i = [2,2]"
      ],
      "execution_count": 0,
      "outputs": []
    },
    {
      "cell_type": "code",
      "metadata": {
        "id": "NWNMXK2sV4F1",
        "colab_type": "code",
        "colab": {
          "base_uri": "https://localhost:8080/",
          "height": 35
        },
        "outputId": "83153950-6903-4442-c85c-ac19b3458d04"
      },
      "source": [
        "a = montecarlo_chain(x,y,des,modelo, p_i, 1000)"
      ],
      "execution_count": 6,
      "outputs": [
        {
          "output_type": "stream",
          "text": [
            "/usr/local/lib/python3.6/dist-packages/ipykernel_launcher.py:20: RuntimeWarning: invalid value encountered in double_scalars\n"
          ],
          "name": "stderr"
        }
      ]
    },
    {
      "cell_type": "code",
      "metadata": {
        "id": "4cSCUq8QV6Ev",
        "colab_type": "code",
        "colab": {
          "base_uri": "https://localhost:8080/",
          "height": 295
        },
        "outputId": "866cc5ae-5594-4834-aa63-8c7fe6b94fee"
      },
      "source": [
        "puntos = [x for x,y in a]\n",
        "lik = [y for x, y in a]\n",
        "\n",
        "x_fin = [x for x, y in puntos]\n",
        "y_fin = [y for x, y in puntos]\n",
        "    \n",
        "plt.plot(lik, color='g')\n",
        "plt.title('Función Likelihood')\n",
        "plt.xlabel('x')\n",
        "plt.ylabel('L(x)')\n",
        "plt.grid()"
      ],
      "execution_count": 7,
      "outputs": [
        {
          "output_type": "display_data",
          "data": {
            "image/png": "[encoded data removed]",
            "text/plain": [
              "<Figure size 432x288 with 1 Axes>"
            ]
          },
          "metadata": {
            "tags": [],
            "needs_background": "light"
          }
        }
      ]
    },
    {
      "cell_type": "code",
      "metadata": {
        "id": "ETkJxLg5V-pI",
        "colab_type": "code",
        "colab": {
          "base_uri": "https://localhost:8080/",
          "height": 295
        },
        "outputId": "02483ea3-2f13-4213-b936-35a67cc30b94"
      },
      "source": [
        "plt.scatter(x_fin, y_fin, color='blue',s=1)\n",
        "plt.title('MonteCarlo Markov Chain')\n",
        "plt.xlabel('Pendiente')\n",
        "plt.ylabel('Ordenada al origen')\n",
        "plt.grid()"
      ],
      "execution_count": 9,
      "outputs": [
        {
          "output_type": "display_data",
          "data": {
            "image/png": "[encoded data removed]",
            "text/plain": [
              "<Figure size 432x288 with 1 Axes>"
            ]
          },
          "metadata": {
            "tags": [],
            "needs_background": "light"
          }
        }
      ]
    },
    {
      "cell_type": "code",
      "metadata": {
        "id": "XUvRb3i0WDgW",
        "colab_type": "code",
        "colab": {}
      },
      "source": [
        "################ MULTIPLE MARKOV CHAINS ###################"
      ],
      "execution_count": 0,
      "outputs": []
    },
    {
      "cell_type": "code",
      "metadata": {
        "id": "kM7gdCQcbJdV",
        "colab_type": "code",
        "colab": {}
      },
      "source": [
        "def lnlikelihood(x, y, sigma, modelo, parametro):\n",
        "    return (-1/2)*np.sum(((y-modelo(x, parametro))**2)/sigma**2)"
      ],
      "execution_count": 0,
      "outputs": []
    },
    {
      "cell_type": "code",
      "metadata": {
        "id": "mzAN7eBlbNG_",
        "colab_type": "code",
        "colab": {}
      },
      "source": [
        "def prior(param, a, b):\n",
        "    if param > a and param < b:\n",
        "        param = 1/(b-a)\n",
        "    else:\n",
        "        param = np.inf\n",
        "    return param"
      ],
      "execution_count": 0,
      "outputs": []
    },
    {
      "cell_type": "code",
      "metadata": {
        "id": "baIV7Ne0bPHn",
        "colab_type": "code",
        "colab": {}
      },
      "source": [
        "def montecarlo_chain(x, y, sigma, modelo, p_i, n, nc):\n",
        "\n",
        "    markov_matrix = []\n",
        "    acept = np.zeros(nc)\n",
        "    \n",
        "    for ic in range(nc):\n",
        "    \n",
        "        P_v = lnlikelihood(x, y, sigma, modelo, p_i[ic])*prior(np.random.normal(0,1),-1,1)\n",
        "        markov_chain = []\n",
        "        markov_chain.append([p_i[ic], P_v])\n",
        "\n",
        "        s = [0.1, 0.1]\n",
        "\n",
        "        for i in range(n):\n",
        "            p_n = []\n",
        "            p_n = [np.random.normal(p_i[ic][0], s[0]), np.random.normal(p_i[ic][1], s[1])]\n",
        "\n",
        "            P_n = lnlikelihood(x, y, sigma, modelo, p_n)*prior(np.random.normal(0,1),-1,1)\n",
        "\n",
        "            if (P_n>P_v):\n",
        "                markov_chain.append([p_n, P_n])\n",
        "                acept[ic] = acept[ic]+1\n",
        "                p_i[ic] = p_n \n",
        "                P_v = P_n\n",
        "                continue\n",
        "            elif  ((np.exp(P_n)/np.exp(P_v)) > np.random.randn()):\n",
        "                markov_chain.append([p_n, P_n])\n",
        "                acept[ic]= acept[ic]+1\n",
        "    \n",
        "        markov_matrix.append(markov_chain)\n",
        "        \n",
        "    return [markov_matrix, acept]"
      ],
      "execution_count": 0,
      "outputs": []
    },
    {
      "cell_type": "code",
      "metadata": {
        "id": "9Fpd17wpbUhA",
        "colab_type": "code",
        "colab": {}
      },
      "source": [
        "def modelo(x, parametro):\n",
        "    return x*parametro[0]+parametro[1]\n",
        "\n",
        "x = np.linspace(0,10,1000)\n",
        "p_reales = [4, 9]\n",
        "\n",
        "des = np.zeros(len(x))\n",
        "for i in range(len(x)):\n",
        "    des[i] = 0.1\n",
        "\n",
        "y = x*p_reales[0] + p_reales[1]"
      ],
      "execution_count": 0,
      "outputs": []
    },
    {
      "cell_type": "code",
      "metadata": {
        "id": "BgNyCqhwbWpU",
        "colab_type": "code",
        "colab": {}
      },
      "source": [
        "p_i = [[2,2],[10,17],[9,1],[7,10], [-1,8]]\n",
        "nc = 5\n",
        "n = 1000"
      ],
      "execution_count": 0,
      "outputs": []
    },
    {
      "cell_type": "code",
      "metadata": {
        "id": "wseCQgA3bYZ-",
        "colab_type": "code",
        "colab": {
          "base_uri": "https://localhost:8080/",
          "height": 35
        },
        "outputId": "ffdbcb48-0868-45f3-8715-682261a9fd2f"
      },
      "source": [
        "a = montecarlo_chain(x,y,des,modelo, p_i, n, nc)"
      ],
      "execution_count": 16,
      "outputs": [
        {
          "output_type": "stream",
          "text": [
            "/usr/local/lib/python3.6/dist-packages/ipykernel_launcher.py:26: RuntimeWarning: invalid value encountered in double_scalars\n"
          ],
          "name": "stderr"
        }
      ]
    },
    {
      "cell_type": "code",
      "metadata": {
        "id": "yxPMSFQmbaa9",
        "colab_type": "code",
        "colab": {
          "base_uri": "https://localhost:8080/",
          "height": 601
        },
        "outputId": "6abad31a-39f6-4d2e-c491-cab444111cc7"
      },
      "source": [
        "colores = [\"#32CD32\", \"#008B8B\", \"#FFD700\", \"#FF4500\", \"#FF00FF\"]\n",
        "lik = []\n",
        "fig, ax = plt.subplots(figsize=(8, 8), constrained_layout=True)\n",
        "for i in range(nc):\n",
        "    puntos = [x for x,y in a[0][i]]\n",
        "    lik.append([y for x, y in a[0][i]])\n",
        "\n",
        "    x_fin = [x for x, y in puntos]\n",
        "    y_fin = [y for x, y in puntos]\n",
        "    \n",
        "    plt.scatter(x_fin, y_fin, color=colores[i-1],s=5, label='Cadena '+str(i+1))\n",
        "\n",
        "plt.title('MonteCarlo Markov Chain')\n",
        "plt.xlabel('Pendiente')\n",
        "plt.ylabel('Ordenada al origen')\n",
        "plt.legend()\n",
        "plt.grid()"
      ],
      "execution_count": 17,
      "outputs": [
        {
          "output_type": "display_data",
          "data": {
            "image/png": "[encoded data removed]",
            "text/plain": [
              "<Figure size 576x576 with 1 Axes>"
            ]
          },
          "metadata": {
            "tags": [],
            "needs_background": "light"
          }
        }
      ]
    },
    {
      "cell_type": "code",
      "metadata": {
        "id": "lxE26V4FbcGo",
        "colab_type": "code",
        "colab": {}
      },
      "source": [
        ""
      ],
      "execution_count": 0,
      "outputs": []
    }
  ]
}