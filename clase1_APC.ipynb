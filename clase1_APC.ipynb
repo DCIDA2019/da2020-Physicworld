{
  "nbformat": 4,
  "nbformat_minor": 0,
  "metadata": {
    "colab": {
      "name": "clase1_APC.ipynb",
      "provenance": []
    },
    "kernelspec": {
      "name": "python3",
      "display_name": "Python 3"
    }
  },
  "cells": [
    {
      "cell_type": "code",
      "metadata": {
        "id": "8OSRZy0jSKVz",
        "colab_type": "code",
        "colab": {
          "base_uri": "https://localhost:8080/",
          "height": 35
        },
        "outputId": "26d68fff-deb2-48e5-b2a7-c4a7062da4e2"
      },
      "source": [
        "import numpy as np\n",
        "import matplotlib.pyplot as plt\n",
        "import time\n",
        "%pylab inline"
      ],
      "execution_count": 9,
      "outputs": [
        {
          "output_type": "stream",
          "text": [
            "Populating the interactive namespace from numpy and matplotlib\n"
          ],
          "name": "stdout"
        }
      ]
    },
    {
      "cell_type": "code",
      "metadata": {
        "id": "VyP3C7f8S9IZ",
        "colab_type": "code",
        "colab": {
          "base_uri": "https://localhost:8080/",
          "height": 109
        },
        "outputId": "c4cc3cc1-8725-4b2a-8bc7-91376d8c1304"
      },
      "source": [
        "x = np.arange(-5,5,0.25)\n",
        "x"
      ],
      "execution_count": 10,
      "outputs": [
        {
          "output_type": "execute_result",
          "data": {
            "text/plain": [
              "array([-5.  , -4.75, -4.5 , -4.25, -4.  , -3.75, -3.5 , -3.25, -3.  ,\n",
              "       -2.75, -2.5 , -2.25, -2.  , -1.75, -1.5 , -1.25, -1.  , -0.75,\n",
              "       -0.5 , -0.25,  0.  ,  0.25,  0.5 ,  0.75,  1.  ,  1.25,  1.5 ,\n",
              "        1.75,  2.  ,  2.25,  2.5 ,  2.75,  3.  ,  3.25,  3.5 ,  3.75,\n",
              "        4.  ,  4.25,  4.5 ,  4.75])"
            ]
          },
          "metadata": {
            "tags": []
          },
          "execution_count": 10
        }
      ]
    },
    {
      "cell_type": "code",
      "metadata": {
        "id": "sruXJeklYDpd",
        "colab_type": "code",
        "colab": {
          "base_uri": "https://localhost:8080/",
          "height": 164
        },
        "outputId": "18ec753e-2e8a-4809-8eb2-0f8f6994eee8"
      },
      "source": [
        "# %time operacion\n",
        "fx = lambda x,y: np.cos(x)*np.sqrt(y)\n",
        "fx(x,4)"
      ],
      "execution_count": 11,
      "outputs": [
        {
          "output_type": "execute_result",
          "data": {
            "text/plain": [
              "array([ 0.56732437,  0.07520431, -0.4215916 , -0.89217498, -1.30728724,\n",
              "       -1.64111871, -1.87291337, -1.98825935, -1.97998499, -1.84860476,\n",
              "       -1.60228723, -1.25634725, -0.83229367, -0.35649211,  0.1414744 ,\n",
              "        0.63064472,  1.08060461,  1.46337774,  1.75516512,  1.93782484,\n",
              "        2.        ,  1.93782484,  1.75516512,  1.46337774,  1.08060461,\n",
              "        0.63064472,  0.1414744 , -0.35649211, -0.83229367, -1.25634725,\n",
              "       -1.60228723, -1.84860476, -1.97998499, -1.98825935, -1.87291337,\n",
              "       -1.64111871, -1.30728724, -0.89217498, -0.4215916 ,  0.07520431])"
            ]
          },
          "metadata": {
            "tags": []
          },
          "execution_count": 11
        }
      ]
    },
    {
      "cell_type": "code",
      "metadata": {
        "id": "QZ_P7eRWZ1RY",
        "colab_type": "code",
        "colab": {}
      },
      "source": [
        "plt?\n"
      ],
      "execution_count": 0,
      "outputs": []
    },
    {
      "cell_type": "code",
      "metadata": {
        "id": "Hsjg-IwNcRtn",
        "colab_type": "code",
        "colab": {
          "base_uri": "https://localhost:8080/",
          "height": 265
        },
        "outputId": "e60f8f46-f8b3-4b5d-f76b-4fc1e0b4d3c8"
      },
      "source": [
        "x = np.arange(0,8,0.1)\n",
        "y = np.sin(x)\n",
        "plt.plot(x,y,\"r\",\"--\", label =r\"$sin(x)$\")\n",
        "plt.legend()\n",
        "plt.savefig(\"fig.jpg\")"
      ],
      "execution_count": 34,
      "outputs": [
        {
          "output_type": "display_data",
          "data": {
            "image/png": "[encoded data removed]",
            "text/plain": [
              "<Figure size 432x288 with 1 Axes>"
            ]
          },
          "metadata": {
            "tags": []
          }
        }
      ]
    },
    {
      "cell_type": "code",
      "metadata": {
        "id": "glvNIeg7cdmF",
        "colab_type": "code",
        "colab": {}
      },
      "source": [
        ""
      ],
      "execution_count": 0,
      "outputs": []
    },
    {
      "cell_type": "markdown",
      "metadata": {
        "id": "gsI5QdQGhwid",
        "colab_type": "text"
      },
      "source": [
        "Solución Péndulo Simple/(Como si fuera C)"
      ]
    },
    {
      "cell_type": "markdown",
      "metadata": {
        "id": "uFzNklmpigS4",
        "colab_type": "text"
      },
      "source": [
        "*Teoría*\n",
        "\n",
        "Comenzamos por definir nuestra ecuación diferencial\n",
        "la cual es la siguiente: $\\ddot{\\theta}+\\frac{g}{L} sin\\theta = 0$.\n",
        "La cual es una ecuación diferencial de segundo orden, se procede a separar en dos ecuacuaciones de primer orden de la siguiente manera:\n",
        "\n",
        "\n",
        "\n",
        "1.   $\\dot{z} = - \\frac{g}{L} \\theta$\n",
        "\n",
        "1.   $\\dot{\\theta} = z$\n",
        "\n",
        "Haciendo uso del Método de Euler:\n",
        "\n",
        "$y_{i+1} = y_i + h f(x,y,y')$\n"
      ]
    },
    {
      "cell_type": "code",
      "metadata": {
        "id": "c04lJ9e1h1Yh",
        "colab_type": "code",
        "colab": {
          "base_uri": "https://localhost:8080/",
          "height": 1000
        },
        "outputId": "3479f1fe-582e-4729-cdfe-2ea2dfb20613"
      },
      "source": [
        "xi = 0\n",
        "xf = 100\n",
        "N = 100\n",
        "y1 = 0\n",
        "y2 = 0.5\n",
        "h = (xf-xi)/N\n",
        "y_=y2\n",
        "\n",
        "x = []\n",
        "ysol = []\n",
        "y_sol = []\n",
        "\n",
        "for i in range(0,N):\n",
        "  y = y1 + h*(-9.81/2)*y_\n",
        "  y_ = y2 + h * y\n",
        "\n",
        "  x.append(xi)\n",
        "  ysol.append(y)\n",
        "  y_sol.append(y_)\n",
        "\n",
        "  xi = xi + h\n",
        "\n",
        "plt.plot(x,ysol)\n",
        "plt.plot(x,y_sol)\n",
        "x,ysol,y_sol\n",
        "\n",
        "\n",
        "\n"
      ],
      "execution_count": 57,
      "outputs": [
        {
          "output_type": "execute_result",
          "data": {
            "text/plain": [
              "([0,\n",
              "  1.0,\n",
              "  2.0,\n",
              "  3.0,\n",
              "  4.0,\n",
              "  5.0,\n",
              "  6.0,\n",
              "  7.0,\n",
              "  8.0,\n",
              "  9.0,\n",
              "  10.0,\n",
              "  11.0,\n",
              "  12.0,\n",
              "  13.0,\n",
              "  14.0,\n",
              "  15.0,\n",
              "  16.0,\n",
              "  17.0,\n",
              "  18.0,\n",
              "  19.0,\n",
              "  20.0,\n",
              "  21.0,\n",
              "  22.0,\n",
              "  23.0,\n",
              "  24.0,\n",
              "  25.0,\n",
              "  26.0,\n",
              "  27.0,\n",
              "  28.0,\n",
              "  29.0,\n",
              "  30.0,\n",
              "  31.0,\n",
              "  32.0,\n",
              "  33.0,\n",
              "  34.0,\n",
              "  35.0,\n",
              "  36.0,\n",
              "  37.0,\n",
              "  38.0,\n",
              "  39.0,\n",
              "  40.0,\n",
              "  41.0,\n",
              "  42.0,\n",
              "  43.0,\n",
              "  44.0,\n",
              "  45.0,\n",
              "  46.0,\n",
              "  47.0,\n",
              "  48.0,\n",
              "  49.0,\n",
              "  50.0,\n",
              "  51.0,\n",
              "  52.0,\n",
              "  53.0,\n",
              "  54.0,\n",
              "  55.0,\n",
              "  56.0,\n",
              "  57.0,\n",
              "  58.0,\n",
              "  59.0,\n",
              "  60.0,\n",
              "  61.0,\n",
              "  62.0,\n",
              "  63.0,\n",
              "  64.0,\n",
              "  65.0,\n",
              "  66.0,\n",
              "  67.0,\n",
              "  68.0,\n",
              "  69.0,\n",
              "  70.0,\n",
              "  71.0,\n",
              "  72.0,\n",
              "  73.0,\n",
              "  74.0,\n",
              "  75.0,\n",
              "  76.0,\n",
              "  77.0,\n",
              "  78.0,\n",
              "  79.0,\n",
              "  80.0,\n",
              "  81.0,\n",
              "  82.0,\n",
              "  83.0,\n",
              "  84.0,\n",
              "  85.0,\n",
              "  86.0,\n",
              "  87.0,\n",
              "  88.0,\n",
              "  89.0,\n",
              "  90.0,\n",
              "  91.0,\n",
              "  92.0,\n",
              "  93.0,\n",
              "  94.0,\n",
              "  95.0,\n",
              "  96.0,\n",
              "  97.0,\n",
              "  98.0,\n",
              "  99.0],\n",
              " [-2.4525,\n",
              "  9.5770125,\n",
              "  -49.427746312500005,\n",
              "  239.99059566281255,\n",
              "  -1179.6063717260956,\n",
              "  5783.5167533164995,\n",
              "  -28370.602175017433,\n",
              "  139155.3511684605,\n",
              "  -682559.4499812988,\n",
              "  3347951.6496582706,\n",
              "  -16421705.294073818,\n",
              "  80548462.01493208,\n",
              "  -395090208.6357419,\n",
              "  1937917470.9058142,\n",
              "  -9505485197.24552,\n",
              "  46624404890.03677,\n",
              "  -228692705988.0829,\n",
              "  1121737722869.094,\n",
              "  -5502123530675.358,\n",
              "  26987915917960.184,\n",
              "  -132375727577597.16,\n",
              "  649302943768111.6,\n",
              "  -3184830939182590.0,\n",
              "  1.5621595756690602e+16,\n",
              "  -7.662392718656741e+16,\n",
              "  3.7584036285011315e+17,\n",
              "  -1.8434969797798052e+18,\n",
              "  9.042352685819945e+18,\n",
              "  -4.435273992394683e+19,\n",
              "  2.175501893269592e+20,\n",
              "  -1.067083678648735e+21,\n",
              "  5.234045443772046e+21,\n",
              "  -2.5672992901701883e+22,\n",
              "  1.2592603018284775e+23,\n",
              "  -6.176671780468682e+23,\n",
              "  3.029657508319889e+24,\n",
              "  -1.4860470078309056e+25,\n",
              "  7.289060573410592e+25,\n",
              "  -3.5752842112578956e+26,\n",
              "  1.7536769056219978e+27,\n",
              "  -8.6017852220759e+27,\n",
              "  4.219175651428229e+28,\n",
              "  -2.0695056570255466e+29,\n",
              "  1.0150925247710307e+30,\n",
              "  -4.979028834001906e+30,\n",
              "  2.442213643077935e+31,\n",
              "  -1.1979057919297272e+32,\n",
              "  5.8757279094153125e+32,\n",
              "  -2.8820445395682107e+33,\n",
              "  1.4136428466582074e+34,\n",
              "  -6.933918162858508e+34,\n",
              "  3.401086858882098e+35,\n",
              "  -1.6682331042816694e+36,\n",
              "  8.18268337650159e+36,\n",
              "  -4.01360619617403e+37,\n",
              "  1.9686738392233616e+38,\n",
              "  -9.65634518139059e+38,\n",
              "  4.7364373114720846e+39,\n",
              "  -2.3232225012770576e+40,\n",
              "  1.1395406368763967e+41,\n",
              "  -5.589446823878726e+41,\n",
              "  2.7416236671125153e+42,\n",
              "  -1.3447664087186888e+43,\n",
              "  6.596079234765169e+43,\n",
              "  -3.2353768646523156e+44,\n",
              "  1.5869523521119608e+45,\n",
              "  -7.784001287109168e+45,\n",
              "  3.818052631327047e+46,\n",
              "  -1.8727548156659165e+47,\n",
              "  9.185862370841321e+47,\n",
              "  -4.505665492897668e+48,\n",
              "  2.2100289242663063e+49,\n",
              "  -1.0840191873526233e+50,\n",
              "  5.317114113964617e+50,\n",
              "  -2.608044472899645e+51,\n",
              "  1.279245813957276e+52,\n",
              "  -6.274700717460439e+52,\n",
              "  3.0777407019143455e+53,\n",
              "  -1.5096318142889866e+54,\n",
              "  7.40474404908748e+54,\n",
              "  -3.632026956077409e+55,\n",
              "  1.7815092219559692e+56,\n",
              "  -8.738302733694029e+56,\n",
              "  4.286137490876921e+57,\n",
              "  -2.10235043927513e+58,\n",
              "  1.0312028904644513e+59,\n",
              "  -5.058050177728134e+59,\n",
              "  2.48097361217565e+60,\n",
              "  -1.2169175567721563e+61,\n",
              "  5.968980615967426e+61,\n",
              "  -2.927784992132023e+62,\n",
              "  1.4360785386407573e+63,\n",
              "  -7.043965232032915e+63,\n",
              "  3.4550649463121455e+64,\n",
              "  -1.6947093561661074e+65,\n",
              "  8.312549391994757e+65,\n",
              "  -4.0773054767734284e+66,\n",
              "  1.9999183363573666e+67,\n",
              "  -9.809599439832883e+67,\n",
              "  4.81160852523803e+68],\n",
              " [-1.9525000000000001,\n",
              "  10.0770125,\n",
              "  -48.927746312500005,\n",
              "  240.49059566281255,\n",
              "  -1179.1063717260956,\n",
              "  5784.0167533164995,\n",
              "  -28370.102175017433,\n",
              "  139155.8511684605,\n",
              "  -682558.9499812988,\n",
              "  3347952.1496582706,\n",
              "  -16421704.794073818,\n",
              "  80548462.51493208,\n",
              "  -395090208.1357419,\n",
              "  1937917471.4058142,\n",
              "  -9505485196.74552,\n",
              "  46624404890.53677,\n",
              "  -228692705987.5829,\n",
              "  1121737722869.594,\n",
              "  -5502123530674.858,\n",
              "  26987915917960.684,\n",
              "  -132375727577596.66,\n",
              "  649302943768112.1,\n",
              "  -3184830939182589.5,\n",
              "  1.5621595756690602e+16,\n",
              "  -7.662392718656741e+16,\n",
              "  3.7584036285011315e+17,\n",
              "  -1.8434969797798052e+18,\n",
              "  9.042352685819945e+18,\n",
              "  -4.435273992394683e+19,\n",
              "  2.175501893269592e+20,\n",
              "  -1.067083678648735e+21,\n",
              "  5.234045443772046e+21,\n",
              "  -2.5672992901701883e+22,\n",
              "  1.2592603018284775e+23,\n",
              "  -6.176671780468682e+23,\n",
              "  3.029657508319889e+24,\n",
              "  -1.4860470078309056e+25,\n",
              "  7.289060573410592e+25,\n",
              "  -3.5752842112578956e+26,\n",
              "  1.7536769056219978e+27,\n",
              "  -8.6017852220759e+27,\n",
              "  4.219175651428229e+28,\n",
              "  -2.0695056570255466e+29,\n",
              "  1.0150925247710307e+30,\n",
              "  -4.979028834001906e+30,\n",
              "  2.442213643077935e+31,\n",
              "  -1.1979057919297272e+32,\n",
              "  5.8757279094153125e+32,\n",
              "  -2.8820445395682107e+33,\n",
              "  1.4136428466582074e+34,\n",
              "  -6.933918162858508e+34,\n",
              "  3.401086858882098e+35,\n",
              "  -1.6682331042816694e+36,\n",
              "  8.18268337650159e+36,\n",
              "  -4.01360619617403e+37,\n",
              "  1.9686738392233616e+38,\n",
              "  -9.65634518139059e+38,\n",
              "  4.7364373114720846e+39,\n",
              "  -2.3232225012770576e+40,\n",
              "  1.1395406368763967e+41,\n",
              "  -5.589446823878726e+41,\n",
              "  2.7416236671125153e+42,\n",
              "  -1.3447664087186888e+43,\n",
              "  6.596079234765169e+43,\n",
              "  -3.2353768646523156e+44,\n",
              "  1.5869523521119608e+45,\n",
              "  -7.784001287109168e+45,\n",
              "  3.818052631327047e+46,\n",
              "  -1.8727548156659165e+47,\n",
              "  9.185862370841321e+47,\n",
              "  -4.505665492897668e+48,\n",
              "  2.2100289242663063e+49,\n",
              "  -1.0840191873526233e+50,\n",
              "  5.317114113964617e+50,\n",
              "  -2.608044472899645e+51,\n",
              "  1.279245813957276e+52,\n",
              "  -6.274700717460439e+52,\n",
              "  3.0777407019143455e+53,\n",
              "  -1.5096318142889866e+54,\n",
              "  7.40474404908748e+54,\n",
              "  -3.632026956077409e+55,\n",
              "  1.7815092219559692e+56,\n",
              "  -8.738302733694029e+56,\n",
              "  4.286137490876921e+57,\n",
              "  -2.10235043927513e+58,\n",
              "  1.0312028904644513e+59,\n",
              "  -5.058050177728134e+59,\n",
              "  2.48097361217565e+60,\n",
              "  -1.2169175567721563e+61,\n",
              "  5.968980615967426e+61,\n",
              "  -2.927784992132023e+62,\n",
              "  1.4360785386407573e+63,\n",
              "  -7.043965232032915e+63,\n",
              "  3.4550649463121455e+64,\n",
              "  -1.6947093561661074e+65,\n",
              "  8.312549391994757e+65,\n",
              "  -4.0773054767734284e+66,\n",
              "  1.9999183363573666e+67,\n",
              "  -9.809599439832883e+67,\n",
              "  4.81160852523803e+68])"
            ]
          },
          "metadata": {
            "tags": []
          },
          "execution_count": 57
        },
        {
          "output_type": "display_data",
          "data": {
            "image/png": "[encoded data removed]",
            "text/plain": [
              "<Figure size 432x288 with 1 Axes>"
            ]
          },
          "metadata": {
            "tags": []
          }
        }
      ]
    },
    {
      "cell_type": "code",
      "metadata": {
        "id": "hoQXgVyTnISk",
        "colab_type": "code",
        "colab": {}
      },
      "source": [
        ""
      ],
      "execution_count": 0,
      "outputs": []
    }
  ]
}