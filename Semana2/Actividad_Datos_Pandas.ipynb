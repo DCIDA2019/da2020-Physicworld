{
  "nbformat": 4,
  "nbformat_minor": 0,
  "metadata": {
    "colab": {
      "name": "Actividad_Datos_Pandas.ipynb",
      "provenance": [],
      "toc_visible": true
    },
    "kernelspec": {
      "name": "python3",
      "display_name": "Python 3"
    }
  },
  "cells": [
    {
      "cell_type": "markdown",
      "metadata": {
        "id": "cZimg-IgJ5sl",
        "colab_type": "text"
      },
      "source": [
        "# Aprendiendo Pandas y haciendo ejemplos con data de lluvia\n",
        "\n",
        "\n",
        "\n",
        "> José Domingo Cajina Ramírez   \n",
        "> 06/02/2020\n",
        "\n",
        "\n",
        "---\n",
        "\n",
        "\n",
        "\n",
        "> En este Notebook aprenderemos cosas básicas de la libreria Pandas y sus metodos, asi como tambien, se resumirá el uso de la coleccion diccionarios.\n",
        "\n",
        "\n"
      ]
    },
    {
      "cell_type": "code",
      "metadata": {
        "id": "NAfJlV40T-7O",
        "colab_type": "code",
        "colab": {}
      },
      "source": [
        "import pandas as pd\n",
        "import numpy as np\n",
        "import requests\n"
      ],
      "execution_count": 0,
      "outputs": []
    },
    {
      "cell_type": "code",
      "metadata": {
        "id": "GAzvPb5wCEBh",
        "colab_type": "code",
        "colab": {
          "base_uri": "https://localhost:8080/",
          "height": 90
        },
        "outputId": "25cec73c-4094-4358-b99c-0178f8c4bb4f"
      },
      "source": [
        "#Resolviendo algunos ejemplos de la actividad.\n",
        "\n",
        "\n",
        "\n",
        "data = pd.Series([0.25, 0.5, 0.75, 1.0]) #Se crea un arreglo, relacionandose con un indice\n",
        "data.values #Nos muestra los valores de el arreglo.\n",
        "data.index  #Muestra el inicio y fin del arreglo y paso.\n",
        "data[1] #Nos imprime el primer elemento\n",
        "data[1:4] #Nos imprime un conjunto de elementos"
      ],
      "execution_count": 48,
      "outputs": [
        {
          "output_type": "execute_result",
          "data": {
            "text/plain": [
              "1    0.50\n",
              "2    0.75\n",
              "3    1.00\n",
              "dtype: float64"
            ]
          },
          "metadata": {
            "tags": []
          },
          "execution_count": 48
        }
      ]
    },
    {
      "cell_type": "code",
      "metadata": {
        "id": "_XRMjtHNCRMk",
        "colab_type": "code",
        "colab": {}
      },
      "source": [
        "#Diccionarios\n",
        "#Los diccionarios son desordenados\n",
        "#diccionario = {\"clave\":\"valor\", ... , \"clave\":\"valor\"}\n",
        "#Puedes poner otras colecciones dentro de los diccionarios\n",
        "diccionario = {\"azul\":\"blue\",\"rojo\":\"red\",\"verde\":\"green\"}\n",
        "diccionario[\"amarillo\"] = \"Yellow\" #Agregar nuevo elemento al diccionario\n",
        "diccionario[\"azul\"] = \"BLUE\" #Modificar el valor, accesando con la clave\n",
        "del(diccionario[\"verde\"]) #Eliminar valor, accesando con la clave\n",
        "\n",
        "diccionario2 = {\"Domingo\":{\"edad\":20,\"estatura\":1.8}, \"Jose\":[21,1.60],\"Maria\":[20,1.58]}\n",
        "\n",
        "print(diccionario)\n",
        "print(diccionario[\"rojo\"])\n",
        "print(diccionario2)\n",
        "print(diccionario2[\"Domingo\"])\n",
        "\n",
        "equipo = {10:\"Paulo Dybala\",11:\"Douglas Costa\",7:\"Cristiano Ronaldo\",17:\"Mario Mandzukic\"}\n",
        "\n",
        "print(equipo.get(10, \"No existe un jugador con ese dorsal\"))\n",
        "print(equipo[7])\n",
        "print(11 in equipo)\n",
        "print(equipo.keys())\n",
        "print(equipo.values())\n",
        "print(equipo.items()) #Recorrer diccionarios con bucle for, pone dentro de tuplas\n",
        "print(len(equipo))\n",
        "equipo.clear() #Borrar diccionario\n",
        "print(equipo)"
      ],
      "execution_count": 0,
      "outputs": []
    },
    {
      "cell_type": "code",
      "metadata": {
        "id": "r1Aj47HDCRWN",
        "colab_type": "code",
        "colab": {}
      },
      "source": [
        ""
      ],
      "execution_count": 0,
      "outputs": []
    },
    {
      "cell_type": "code",
      "metadata": {
        "id": "GyzXb1sZ6Xdj",
        "colab_type": "code",
        "colab": {}
      },
      "source": [
        "#Obtenemos los datos desde el repositorio.\n",
        "\n",
        "#Data lluvia\n",
        "!wget -cq https://raw.githubusercontent.com/DCIDA2019/da2020-Physicworld/master/Semana2/201901010000Lluv.csv"
      ],
      "execution_count": 0,
      "outputs": []
    },
    {
      "cell_type": "code",
      "metadata": {
        "id": "lZam2iwl9Eer",
        "colab_type": "code",
        "colab": {}
      },
      "source": [
        "df = pd.read_csv(\"201901010000Lluv.csv\", encoding='latin-1')\n",
        "data_lluvia = pd.DataFrame(df) #Usamos un DataFrame para identificar las columnas"
      ],
      "execution_count": 0,
      "outputs": []
    },
    {
      "cell_type": "code",
      "metadata": {
        "id": "QFOFMAp0_1YH",
        "colab_type": "code",
        "colab": {
          "base_uri": "https://localhost:8080/",
          "height": 35
        },
        "outputId": "111c20b1-d229-4ece-9f89-af8924940595"
      },
      "source": [
        "data_lluvia.index"
      ],
      "execution_count": 52,
      "outputs": [
        {
          "output_type": "execute_result",
          "data": {
            "text/plain": [
              "RangeIndex(start=0, stop=1241, step=1)"
            ]
          },
          "metadata": {
            "tags": []
          },
          "execution_count": 52
        }
      ]
    },
    {
      "cell_type": "code",
      "metadata": {
        "id": "XmBs0dcIFNyg",
        "colab_type": "code",
        "colab": {
          "base_uri": "https://localhost:8080/",
          "height": 35
        },
        "outputId": "7d1e92c1-6468-4848-f07e-f8ae4deb3cf8"
      },
      "source": [
        "data_lluvia.columns"
      ],
      "execution_count": 53,
      "outputs": [
        {
          "output_type": "execute_result",
          "data": {
            "text/plain": [
              "Index(['LON', 'LAT', 'EDO', 'CLAVE_SIH', 'NOMBRE', 'ENE'], dtype='object')"
            ]
          },
          "metadata": {
            "tags": []
          },
          "execution_count": 53
        }
      ]
    },
    {
      "cell_type": "code",
      "metadata": {
        "id": "U5h85gz_FxLr",
        "colab_type": "code",
        "colab": {
          "base_uri": "https://localhost:8080/",
          "height": 237
        },
        "outputId": "acec59fd-1a27-44d3-b863-2b95f60868f7"
      },
      "source": [
        "Longitud = pd.Series(data_lluvia['LON'])\n",
        "Longitud #Podemos dividir una serie de datos con la funcion Series por columnas."
      ],
      "execution_count": 67,
      "outputs": [
        {
          "output_type": "execute_result",
          "data": {
            "text/plain": [
              "0      -102.309722\n",
              "1      -102.466944\n",
              "2      -102.184167\n",
              "3      -102.712222\n",
              "4      -102.676944\n",
              "           ...    \n",
              "1236   -102.344167\n",
              "1237   -101.916944\n",
              "1238   -101.715833\n",
              "1239   -103.337500\n",
              "1240   -102.576667\n",
              "Name: LON, Length: 1241, dtype: float64"
            ]
          },
          "metadata": {
            "tags": []
          },
          "execution_count": 67
        }
      ]
    },
    {
      "cell_type": "code",
      "metadata": {
        "id": "xSr5lY8GF30q",
        "colab_type": "code",
        "colab": {}
      },
      "source": [
        ""
      ],
      "execution_count": 0,
      "outputs": []
    },
    {
      "cell_type": "markdown",
      "metadata": {
        "id": "qm28AIm3JcPO",
        "colab_type": "text"
      },
      "source": [
        "# Unir dataframes\n",
        "\n",
        "---\n",
        "\n",
        "\n",
        "\n",
        "> Para esta actividad, creo que esta funcion será de gran ayuda, ya que nos permite juntar dos tablas a la vez usando el metodo merge de la clase pandas.\n",
        "\n",
        "\n"
      ]
    },
    {
      "cell_type": "code",
      "metadata": {
        "id": "Ji7V4WFbO85c",
        "colab_type": "code",
        "colab": {
          "base_uri": "https://localhost:8080/",
          "height": 424
        },
        "outputId": "9ab33fdc-92cb-45a0-c300-a1e735d6eea2"
      },
      "source": [
        "df1 = pd.DataFrame(df)\n",
        "df2 = pd.DataFrame(df)\n",
        "\n",
        "df3 = pd.merge(df1,df2)\n",
        "\n",
        "df3\n",
        "\n",
        "#De alguna manera juntamos dos columnas, pero como sus columnas del head\n",
        "#son iguales se omiten las replicas y nos queda la misma matriz de datos.\n"
      ],
      "execution_count": 73,
      "outputs": [
        {
          "output_type": "execute_result",
          "data": {
            "text/html": [
              "<div>\n",
              "<style scoped>\n",
              "    .dataframe tbody tr th:only-of-type {\n",
              "        vertical-align: middle;\n",
              "    }\n",
              "\n",
              "    .dataframe tbody tr th {\n",
              "        vertical-align: top;\n",
              "    }\n",
              "\n",
              "    .dataframe thead th {\n",
              "        text-align: right;\n",
              "    }\n",
              "</style>\n",
              "<table border=\"1\" class=\"dataframe\">\n",
              "  <thead>\n",
              "    <tr style=\"text-align: right;\">\n",
              "      <th></th>\n",
              "      <th>LON</th>\n",
              "      <th>LAT</th>\n",
              "      <th>EDO</th>\n",
              "      <th>CLAVE_SIH</th>\n",
              "      <th>NOMBRE</th>\n",
              "      <th>ENE</th>\n",
              "    </tr>\n",
              "  </thead>\n",
              "  <tbody>\n",
              "    <tr>\n",
              "      <th>0</th>\n",
              "      <td>-102.309722</td>\n",
              "      <td>21.895000</td>\n",
              "      <td>AGS</td>\n",
              "      <td>AGSAG</td>\n",
              "      <td>Aguascalientes, Ags.</td>\n",
              "      <td>6.61</td>\n",
              "    </tr>\n",
              "    <tr>\n",
              "      <th>1</th>\n",
              "      <td>-102.466944</td>\n",
              "      <td>22.188611</td>\n",
              "      <td>AGS</td>\n",
              "      <td>ANVAG</td>\n",
              "      <td>Cincuenta Aniversario, Ags.</td>\n",
              "      <td>10.60</td>\n",
              "    </tr>\n",
              "    <tr>\n",
              "      <th>2</th>\n",
              "      <td>-102.184167</td>\n",
              "      <td>21.738611</td>\n",
              "      <td>AGS</td>\n",
              "      <td>BRTAG</td>\n",
              "      <td>San Bartolo, Ags.</td>\n",
              "      <td>10.50</td>\n",
              "    </tr>\n",
              "    <tr>\n",
              "      <th>3</th>\n",
              "      <td>-102.712222</td>\n",
              "      <td>21.849167</td>\n",
              "      <td>AGS</td>\n",
              "      <td>CALVILLO</td>\n",
              "      <td>Calvillo, Ags. SMN*</td>\n",
              "      <td>18.17</td>\n",
              "    </tr>\n",
              "    <tr>\n",
              "      <th>4</th>\n",
              "      <td>-102.676944</td>\n",
              "      <td>21.997500</td>\n",
              "      <td>AGS</td>\n",
              "      <td>CDRAG</td>\n",
              "      <td>La Codorniz, Ags.</td>\n",
              "      <td>16.70</td>\n",
              "    </tr>\n",
              "    <tr>\n",
              "      <th>...</th>\n",
              "      <td>...</td>\n",
              "      <td>...</td>\n",
              "      <td>...</td>\n",
              "      <td>...</td>\n",
              "      <td>...</td>\n",
              "      <td>...</td>\n",
              "    </tr>\n",
              "    <tr>\n",
              "      <th>1236</th>\n",
              "      <td>-102.344167</td>\n",
              "      <td>23.288611</td>\n",
              "      <td>ZAC</td>\n",
              "      <td>VCOZC</td>\n",
              "      <td>Villa de Cos, Zac.</td>\n",
              "      <td>7.00</td>\n",
              "    </tr>\n",
              "    <tr>\n",
              "      <th>1237</th>\n",
              "      <td>-101.916944</td>\n",
              "      <td>22.520278</td>\n",
              "      <td>ZAC</td>\n",
              "      <td>VGOZC</td>\n",
              "      <td>Villa González Ortega, Zac.</td>\n",
              "      <td>32.32</td>\n",
              "    </tr>\n",
              "    <tr>\n",
              "      <th>1238</th>\n",
              "      <td>-101.715833</td>\n",
              "      <td>22.347500</td>\n",
              "      <td>ZAC</td>\n",
              "      <td>VHGZC</td>\n",
              "      <td>Villa Hidalgo, Zac.</td>\n",
              "      <td>9.70</td>\n",
              "    </tr>\n",
              "    <tr>\n",
              "      <th>1239</th>\n",
              "      <td>-103.337500</td>\n",
              "      <td>21.588889</td>\n",
              "      <td>ZAC</td>\n",
              "      <td>VILZC</td>\n",
              "      <td>José María Morelos, Zac.</td>\n",
              "      <td>15.20</td>\n",
              "    </tr>\n",
              "    <tr>\n",
              "      <th>1240</th>\n",
              "      <td>-102.576667</td>\n",
              "      <td>22.761389</td>\n",
              "      <td>ZAC</td>\n",
              "      <td>ZACZC</td>\n",
              "      <td>Zacatecas, Zac.</td>\n",
              "      <td>12.02</td>\n",
              "    </tr>\n",
              "  </tbody>\n",
              "</table>\n",
              "<p>1241 rows × 6 columns</p>\n",
              "</div>"
            ],
            "text/plain": [
              "             LON        LAT  EDO CLAVE_SIH                       NOMBRE    ENE\n",
              "0    -102.309722  21.895000  AGS     AGSAG         Aguascalientes, Ags.   6.61\n",
              "1    -102.466944  22.188611  AGS     ANVAG  Cincuenta Aniversario, Ags.  10.60\n",
              "2    -102.184167  21.738611  AGS     BRTAG            San Bartolo, Ags.  10.50\n",
              "3    -102.712222  21.849167  AGS  CALVILLO          Calvillo, Ags. SMN*  18.17\n",
              "4    -102.676944  21.997500  AGS     CDRAG            La Codorniz, Ags.  16.70\n",
              "...          ...        ...  ...       ...                          ...    ...\n",
              "1236 -102.344167  23.288611  ZAC     VCOZC           Villa de Cos, Zac.   7.00\n",
              "1237 -101.916944  22.520278  ZAC     VGOZC  Villa González Ortega, Zac.  32.32\n",
              "1238 -101.715833  22.347500  ZAC     VHGZC          Villa Hidalgo, Zac.   9.70\n",
              "1239 -103.337500  21.588889  ZAC     VILZC     José María Morelos, Zac.  15.20\n",
              "1240 -102.576667  22.761389  ZAC     ZACZC              Zacatecas, Zac.  12.02\n",
              "\n",
              "[1241 rows x 6 columns]"
            ]
          },
          "metadata": {
            "tags": []
          },
          "execution_count": 73
        }
      ]
    },
    {
      "cell_type": "code",
      "metadata": {
        "id": "e1gbVgMGPM5F",
        "colab_type": "code",
        "colab": {}
      },
      "source": [
        ""
      ],
      "execution_count": 0,
      "outputs": []
    }
  ]
}