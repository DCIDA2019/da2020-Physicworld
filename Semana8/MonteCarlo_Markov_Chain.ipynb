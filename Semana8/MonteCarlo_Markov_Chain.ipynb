{
  "nbformat": 4,
  "nbformat_minor": 0,
  "metadata": {
    "colab": {
      "name": "MonteCarlo_Markov_Chain.ipynb",
      "provenance": []
    },
    "kernelspec": {
      "name": "python3",
      "display_name": "Python 3"
    }
  },
  "cells": [
    {
      "cell_type": "code",
      "metadata": {
        "id": "eUEOUOqz5hT2",
        "colab_type": "code",
        "colab": {}
      },
      "source": [
        "import numpy as np\n",
        "import matplotlib.pyplot as plt"
      ],
      "execution_count": 0,
      "outputs": []
    },
    {
      "cell_type": "code",
      "metadata": {
        "id": "1cyBSaOk6Hrm",
        "colab_type": "code",
        "colab": {}
      },
      "source": [
        "def likelihood(x, y, sigma, model, param):\n",
        "    return (-1/2)*np.sum(((y-model(x, param))**2)/sigma**2)"
      ],
      "execution_count": 0,
      "outputs": []
    },
    {
      "cell_type": "code",
      "metadata": {
        "id": "kcIfZtTQBbT2",
        "colab_type": "code",
        "colab": {}
      },
      "source": [
        "def modelo(x, param):\n",
        "    return x*param[0]+param[1]\n",
        "\n",
        "x = np.linspace(0,10,1000)\n",
        "p = [10, 15]\n",
        "des = np.zeros(len(x))\n",
        "for i in range(len(x)):\n",
        "    des[i] = 0.1\n",
        "\n",
        "y = x*p[0] + p[1]"
      ],
      "execution_count": 0,
      "outputs": []
    },
    {
      "cell_type": "code",
      "metadata": {
        "id": "iTXRamnPBqZs",
        "colab_type": "code",
        "colab": {}
      },
      "source": [
        "def montecarlo_chain(x, y, sigma, model, p_i, n):\n",
        "\n",
        "    L_v = likelihood(x, y, sigma, model, p_i)\n",
        "    markov_chain = []\n",
        "    markov_chain.append([p_i, L_v])\n",
        "    \n",
        "    for i in range(n):\n",
        "        p_n = []\n",
        "        p_n = [np.random.uniform(p_i[0]-sigma[0], p_i[0]+sigma[0]), np.random.uniform(p_i[1]-sigma[0], p_i[1]+sigma[0]) ]\n",
        "        \n",
        "        L_n = likelihood(x, y, sigma, model, p_n)\n",
        "        \n",
        "        if (L_n>L_v):\n",
        "            markov_chain.append([p_n, L_n])\n",
        "            p_i = p_n \n",
        "            L_v = L_n\n",
        "            continue\n",
        "        elif  (L_n/L_v > np.random.randn()):\n",
        "            markov_chain.append([p_n, L_n])\n",
        "        \n",
        "    else:     \n",
        "        return markov_chain\n",
        "        \n",
        "    return markov_chain"
      ],
      "execution_count": 0,
      "outputs": []
    },
    {
      "cell_type": "code",
      "metadata": {
        "id": "-G4NilIiBnIl",
        "colab_type": "code",
        "colab": {
          "base_uri": "https://localhost:8080/",
          "height": 36
        },
        "outputId": "e8806e36-101b-4263-f443-d853e56b75d4"
      },
      "source": [
        "p_i = [4,10]\n",
        "likelihood(x, y, des, modelo, p_i)"
      ],
      "execution_count": 16,
      "outputs": [
        {
          "output_type": "execute_result",
          "data": {
            "text/plain": [
              "-76280030.03003001"
            ]
          },
          "metadata": {
            "tags": []
          },
          "execution_count": 16
        }
      ]
    },
    {
      "cell_type": "code",
      "metadata": {
        "id": "FCauGFzkCDBO",
        "colab_type": "code",
        "colab": {}
      },
      "source": [
        "sol = montecarlo_chain(x,y,des,modelo, p_i, 1000)\n",
        "\n",
        "\n",
        "graph = np.zeros(len(sol))\n",
        "\n",
        "for i in range(len(sol)):\n",
        "    graph[i] = sol[i][1]"
      ],
      "execution_count": 0,
      "outputs": []
    },
    {
      "cell_type": "code",
      "metadata": {
        "id": "r3Yy1ZRECTKv",
        "colab_type": "code",
        "colab": {
          "base_uri": "https://localhost:8080/",
          "height": 276
        },
        "outputId": "388ae23a-672a-4e3d-9375-8a5b6aa59b92"
      },
      "source": [
        "plt.plot(graph)\n",
        "plt.show()"
      ],
      "execution_count": 28,
      "outputs": [
        {
          "output_type": "display_data",
          "data": {
            "image/png": "[encoded data removed]",
            "text/plain": [
              "<Figure size 432x288 with 1 Axes>"
            ]
          },
          "metadata": {
            "tags": []
          }
        }
      ]
    },
    {
      "cell_type": "code",
      "metadata": {
        "id": "snSbR6hGC290",
        "colab_type": "code",
        "colab": {}
      },
      "source": [
        ""
      ],
      "execution_count": 0,
      "outputs": []
    }
  ]
}