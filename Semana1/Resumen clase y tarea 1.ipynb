{
  "nbformat": 4,
  "nbformat_minor": 0,
  "metadata": {
    "colab": {
      "name": "clase1_APC.ipynb",
      "provenance": [],
      "collapsed_sections": [],
      "toc_visible": true
    },
    "kernelspec": {
      "name": "python3",
      "display_name": "Python 3"
    }
  },
  "cells": [
    {
      "cell_type": "code",
      "metadata": {
        "id": "8OSRZy0jSKVz",
        "colab_type": "code",
        "outputId": "ad4c80f4-a2a1-49fb-da05-02f0b1ca618b",
        "colab": {
          "base_uri": "https://localhost:8080/",
          "height": 35
        }
      },
      "source": [
        "import numpy as np\n",
        "import matplotlib.pyplot as plt\n",
        "import time\n",
        "%pylab inline"
      ],
      "execution_count": 4,
      "outputs": [
        {
          "output_type": "stream",
          "text": [
            "Populating the interactive namespace from numpy and matplotlib\n"
          ],
          "name": "stdout"
        }
      ]
    },
    {
      "cell_type": "code",
      "metadata": {
        "id": "VyP3C7f8S9IZ",
        "colab_type": "code",
        "outputId": "ea6e0bb4-2d6f-40a2-9436-acb723c5ecc7",
        "colab": {
          "base_uri": "https://localhost:8080/",
          "height": 109
        }
      },
      "source": [
        "x = np.arange(-5,5,0.25)\n",
        "x"
      ],
      "execution_count": 5,
      "outputs": [
        {
          "output_type": "execute_result",
          "data": {
            "text/plain": [
              "array([-5.  , -4.75, -4.5 , -4.25, -4.  , -3.75, -3.5 , -3.25, -3.  ,\n",
              "       -2.75, -2.5 , -2.25, -2.  , -1.75, -1.5 , -1.25, -1.  , -0.75,\n",
              "       -0.5 , -0.25,  0.  ,  0.25,  0.5 ,  0.75,  1.  ,  1.25,  1.5 ,\n",
              "        1.75,  2.  ,  2.25,  2.5 ,  2.75,  3.  ,  3.25,  3.5 ,  3.75,\n",
              "        4.  ,  4.25,  4.5 ,  4.75])"
            ]
          },
          "metadata": {
            "tags": []
          },
          "execution_count": 5
        }
      ]
    },
    {
      "cell_type": "code",
      "metadata": {
        "id": "sruXJeklYDpd",
        "colab_type": "code",
        "outputId": "d1999dc1-a225-4a06-9da3-ea309e7b026d",
        "colab": {
          "base_uri": "https://localhost:8080/",
          "height": 164
        }
      },
      "source": [
        "# %time operacion\n",
        "fx = lambda x,y: np.cos(x)*np.sqrt(y)\n",
        "fx(x,4)"
      ],
      "execution_count": 6,
      "outputs": [
        {
          "output_type": "execute_result",
          "data": {
            "text/plain": [
              "array([ 0.56732437,  0.07520431, -0.4215916 , -0.89217498, -1.30728724,\n",
              "       -1.64111871, -1.87291337, -1.98825935, -1.97998499, -1.84860476,\n",
              "       -1.60228723, -1.25634725, -0.83229367, -0.35649211,  0.1414744 ,\n",
              "        0.63064472,  1.08060461,  1.46337774,  1.75516512,  1.93782484,\n",
              "        2.        ,  1.93782484,  1.75516512,  1.46337774,  1.08060461,\n",
              "        0.63064472,  0.1414744 , -0.35649211, -0.83229367, -1.25634725,\n",
              "       -1.60228723, -1.84860476, -1.97998499, -1.98825935, -1.87291337,\n",
              "       -1.64111871, -1.30728724, -0.89217498, -0.4215916 ,  0.07520431])"
            ]
          },
          "metadata": {
            "tags": []
          },
          "execution_count": 6
        }
      ]
    },
    {
      "cell_type": "code",
      "metadata": {
        "id": "QZ_P7eRWZ1RY",
        "colab_type": "code",
        "colab": {}
      },
      "source": [
        "plt?\n"
      ],
      "execution_count": 0,
      "outputs": []
    },
    {
      "cell_type": "code",
      "metadata": {
        "id": "Hsjg-IwNcRtn",
        "colab_type": "code",
        "outputId": "3cbd5c22-17f5-4151-c6dc-f7513cd15438",
        "colab": {
          "base_uri": "https://localhost:8080/",
          "height": 265
        }
      },
      "source": [
        "x = np.arange(0,8,0.1)\n",
        "y = np.sin(x)\n",
        "plt.plot(x,y,\"r\",\"--\", label =r\"$sin(x)$\")\n",
        "plt.legend()\n",
        "plt.savefig(\"fig.jpg\")"
      ],
      "execution_count": 8,
      "outputs": [
        {
          "output_type": "display_data",
          "data": {
            "image/png": "[encoded data removed]",
            "text/plain": [
              "<Figure size 432x288 with 1 Axes>"
            ]
          },
          "metadata": {
            "tags": []
          }
        }
      ]
    },
    {
      "cell_type": "code",
      "metadata": {
        "id": "glvNIeg7cdmF",
        "colab_type": "code",
        "colab": {}
      },
      "source": [
        ""
      ],
      "execution_count": 0,
      "outputs": []
    },
    {
      "cell_type": "markdown",
      "metadata": {
        "id": "gsI5QdQGhwid",
        "colab_type": "text"
      },
      "source": [
        "TAREA 1\n",
        "Solución Péndulo Simple/(Como si fuera C)"
      ]
    },
    {
      "cell_type": "markdown",
      "metadata": {
        "id": "uFzNklmpigS4",
        "colab_type": "text"
      },
      "source": [
        "*Teoría*\n",
        "\n",
        "Comenzamos por definir nuestra ecuación diferencial\n",
        "la cual es la siguiente: $\\ddot{\\theta}+\\frac{g}{L} sin\\theta = 0$.\n",
        "Es reescrita para angulos pequeños y es la que procederá a resolverse:\n",
        "$\\ddot{\\theta}+\\frac{g}{L} \\theta = 0$\n",
        "La cual es una ecuación diferencial de segundo orden, se procede a separar en dos ecuacuaciones de primer orden de la siguiente manera:\n",
        "\n",
        "\n",
        "\n",
        "1.   $\\dot{z} = - \\frac{g}{L} \\theta$\n",
        "\n",
        "1.   $\\dot{\\theta} = z$\n",
        "\n",
        "Haciendo uso del Método de Euler:\n",
        "\n",
        "$y_{i+1} = y_i + h f(x,y,y')$\n"
      ]
    },
    {
      "cell_type": "code",
      "metadata": {
        "id": "c04lJ9e1h1Yh",
        "colab_type": "code",
        "colab": {
          "base_uri": "https://localhost:8080/",
          "height": 332
        },
        "outputId": "1e862e1d-584c-4142-a320-697cb7c5d4b3"
      },
      "source": [
        "\n",
        "\n",
        "def Euler2():\n",
        "  xi = 0  #Intervalos de integracion\n",
        "  xf = 20\n",
        "  N = 1000 #Partición del intervalo\n",
        "\n",
        "\n",
        "\n",
        "  h  = (xf-xi)/N #Tamaño del paso\n",
        "\n",
        "\n",
        "  x = []  #Arreglos donde guardaremos los datos de la solución numérica.\n",
        "  ysol = []\n",
        "  y_sol = []\n",
        "  y1 = 1  #Condiciones iniciales\n",
        "  y2 = 1\n",
        "  y_=y2\n",
        "\n",
        "  for i in range(0,N):\n",
        "    y = y1 + h*(-9.81/100)*y_ # Solucionamos la ecuación diferencial 1.\n",
        "    y_ = y2 + h * y #Solucionamos la ecuacion diferencial 2.\n",
        "    x.append(xi) #Agregamos los datos en un arreglo para graficar\n",
        "    ysol.append(y)\n",
        "    y_sol.append(y_)\n",
        "\n",
        "    xi = xi + h #Incrementamos el paso\n",
        "    y1 = y  #Actualizamos las variables dependientes de cada ecuacion diferencial\n",
        "    y2 = y_\n",
        "\n",
        "  plt.plot(x,ysol)\n",
        "  plt.plot(x,y_sol)\n",
        "  #x,ysol,y_sol\n",
        "  plt.legend(['Velocidad','Posición'])\n",
        "  #plt.legend(\"g\")\n",
        "  plt.title(\"Graficando soluciones numericas\")\n",
        "  plt.ylabel(\"Solución numerica,f(t),g(t)\")\n",
        "  plt.xlabel(\"Tiempo\")\n",
        "  plt.grid()\n",
        "  plt.show()\n",
        "\n",
        "%time Euler2()\n",
        "\n",
        " \n",
        "\n",
        "\n",
        "\n",
        "\n"
      ],
      "execution_count": 104,
      "outputs": [
        {
          "output_type": "display_data",
          "data": {
            "image/png": "[encoded data removed]",
            "text/plain": [
              "<Figure size 432x288 with 1 Axes>"
            ]
          },
          "metadata": {
            "tags": []
          }
        },
        {
          "output_type": "stream",
          "text": [
            "CPU times: user 210 ms, sys: 6.98 ms, total: 217 ms\n",
            "Wall time: 218 ms\n"
          ],
          "name": "stdout"
        }
      ]
    },
    {
      "cell_type": "markdown",
      "metadata": {
        "id": "pietZqkODmfG",
        "colab_type": "text"
      },
      "source": [
        "Ahora se buscará solucionar este mismo problema haciendo uso de las librerias de python, aplicando el mismo metodo y solucionando las mismas ecuaciones diferenciales.\n",
        "Las librerias utilizadas ya estan importadas al inicio del sketch pero se mencionan aqui de nuevo:\n",
        "\n",
        "\n",
        "```\n",
        "import numpy as np\n",
        "import matplotlib.pyplot as plt\n",
        "```\n",
        "\n"
      ]
    },
    {
      "cell_type": "code",
      "metadata": {
        "id": "tbH8Hro0YnIf",
        "colab_type": "code",
        "colab": {}
      },
      "source": [
        "#Comenzamos por definir las variables iniciales necesarias.\n",
        "from timeit import default_timer\n",
        "\n",
        "xi = 0  #Intervalos de integracion\n",
        "xf = 20\n",
        "N = 1000 #Partición del intervalo\n",
        "\n",
        "y_1 = 1  #Condiciones iniciales\n",
        "y_2 = 1\n",
        "\n",
        "h = (xf-xi)/N #Tamaño del paso\n",
        "\n",
        "#procedemos a crear los vectores que guardarán la solución numérica:\n",
        "y1 = np.zeros(N)\n",
        "y2 = np.zeros(N)\n",
        "#Definimos x de esta manera, en el intervalo de [xi,xf] en equiparticiones de h.\n",
        "x = np.arange(xi,xf,h) \n",
        "\n",
        "y1[0] = y_1\n",
        "y2[0] = y_2\n",
        "#x[0] = xi\n"
      ],
      "execution_count": 0,
      "outputs": []
    },
    {
      "cell_type": "code",
      "metadata": {
        "id": "mcTXsDuiD0hV",
        "colab_type": "code",
        "colab": {}
      },
      "source": [
        "def f(x,y): #Definimos la funcion 1\n",
        "   return (-9.81/100)*y\n"
      ],
      "execution_count": 0,
      "outputs": []
    },
    {
      "cell_type": "code",
      "metadata": {
        "id": "aJBPPT30YYlu",
        "colab_type": "code",
        "colab": {}
      },
      "source": [
        "def g(x,y):  #Definimos la funcion 2\n",
        "  return y"
      ],
      "execution_count": 0,
      "outputs": []
    },
    {
      "cell_type": "code",
      "metadata": {
        "id": "NBXyJVOxEXa5",
        "colab_type": "code",
        "colab": {}
      },
      "source": [
        "def Euler():\n",
        "  for i in np.arange(1,N):\n",
        "    y1[i] = y1[i-1] + h*f(x[i-1],y2[i-1])\n",
        "    y2[i] = y2[i-1] + h*g(x[i-1],y1[i-1])\n",
        "  #print(x,y1,y2)\n",
        "\n",
        "  plt.plot(x,y1)\n",
        "  plt.plot(x,y2)\n",
        "  plt.legend(['Velocidad','Posición'])\n",
        "  #plt.legend(\"g\")\n",
        "  plt.title(\"Graficando soluciones numericas\")\n",
        "  plt.ylabel(\"Solución numerica,f(t),g(t)\")\n",
        "  plt.xlabel(\"Tiempo\")\n",
        "  plt.grid()\n",
        "  plt.show()"
      ],
      "execution_count": 0,
      "outputs": []
    },
    {
      "cell_type": "code",
      "metadata": {
        "id": "t58rguKVZGQZ",
        "colab_type": "code",
        "outputId": "a1654e73-8c79-4eb3-ba2f-4a5fd76d0d62",
        "colab": {
          "base_uri": "https://localhost:8080/",
          "height": 332
        }
      },
      "source": [
        "#Main\n",
        "\n",
        "%time Euler()\n",
        "\n"
      ],
      "execution_count": 111,
      "outputs": [
        {
          "output_type": "display_data",
          "data": {
            "image/png": "[encoded data removed]",
            "text/plain": [
              "<Figure size 432x288 with 1 Axes>"
            ]
          },
          "metadata": {
            "tags": []
          }
        },
        {
          "output_type": "stream",
          "text": [
            "CPU times: user 217 ms, sys: 1.86 ms, total: 219 ms\n",
            "Wall time: 225 ms\n"
          ],
          "name": "stdout"
        }
      ]
    },
    {
      "cell_type": "markdown",
      "metadata": {
        "id": "xL-mx6Wvf--7",
        "colab_type": "text"
      },
      "source": [
        "Y aqui podemos apreciar que llegamos al mismo resultado.\n",
        "La ventaja de usar las librerías de python y los metodos de sus clases, es que facilitan el manejo de los datos a la hora de hacer calculos y organiza de mejor forma la estructura del código."
      ]
    }
  ]
}
