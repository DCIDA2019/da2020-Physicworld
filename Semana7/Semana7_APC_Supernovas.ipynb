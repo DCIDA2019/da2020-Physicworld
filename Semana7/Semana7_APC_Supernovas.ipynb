{
  "nbformat": 4,
  "nbformat_minor": 0,
  "metadata": {
    "colab": {
      "name": "Semana7_APC_Supernovas.ipynb",
      "provenance": []
    },
    "kernelspec": {
      "name": "python3",
      "display_name": "Python 3"
    }
  },
  "cells": [
    {
      "cell_type": "code",
      "metadata": {
        "id": "ks0zeBzZf-rw",
        "colab_type": "code",
        "outputId": "57f900a0-d72b-49db-8edb-b2f6a221b941",
        "colab": {
          "base_uri": "https://localhost:8080/",
          "height": 167
        }
      },
      "source": [
        "!pip install CosmoloPy"
      ],
      "execution_count": 3,
      "outputs": [
        {
          "output_type": "stream",
          "text": [
            "Collecting CosmoloPy\n",
            "\u001b[?25l  Downloading https://files.pythonhosted.org/packages/72/f7/95310aefd2be08daa0bca7ba71a3cdd31778d0688bfe287c36f89de662a3/cosmolopy-0.4-cp36-cp36m-manylinux2010_x86_64.whl (157kB)\n",
            "\u001b[K     |████████████████████████████████| 163kB 2.8MB/s \n",
            "\u001b[?25hRequirement already satisfied: scipy>=1.0.0 in /usr/local/lib/python3.6/dist-packages (from CosmoloPy) (1.4.1)\n",
            "Requirement already satisfied: numpy>=1.12.0 in /usr/local/lib/python3.6/dist-packages (from CosmoloPy) (1.17.5)\n",
            "Installing collected packages: CosmoloPy\n",
            "Successfully installed CosmoloPy-0.4\n"
          ],
          "name": "stdout"
        }
      ]
    },
    {
      "cell_type": "code",
      "metadata": {
        "id": "snPXp93lNJNw",
        "colab_type": "code",
        "colab": {}
      },
      "source": [
        "import numpy as np\n",
        "import matplotlib.pyplot as plt\n",
        "import pandas as pd\n",
        "import cosmolopy.distance as cd\n",
        "import scipy as sc\n",
        "#Supernova JL"
      ],
      "execution_count": 0,
      "outputs": []
    },
    {
      "cell_type": "code",
      "metadata": {
        "id": "FvI_IaPHOR44",
        "colab_type": "code",
        "colab": {}
      },
      "source": [
        "!wget -cq https://raw.githubusercontent.com/DCIDA2019/da2020-Physicworld/master/datos/jla_lcparams.txt\n",
        "!wget -cq https://raw.githubusercontent.com/DCIDA2019/da2020-Physicworld/master/datos/jla_v0_covmatrix.dat\n",
        "!wget -cq https://raw.githubusercontent.com/DCIDA2019/da2020-Physicworld/master/datos/jla_v0a_covmatrix.dat\n",
        "!wget -cq https://raw.githubusercontent.com/DCIDA2019/da2020-Physicworld/master/datos/jla_v0b_covmatrix.dat\n",
        "!wget -cq https://raw.githubusercontent.com/DCIDA2019/da2020-Physicworld/master/datos/jla_va_covmatrix.dat\n",
        "!wget -cq https://raw.githubusercontent.com/DCIDA2019/da2020-Physicworld/master/datos/jla_vab_covmatrix.dat\n",
        "!wget -cq https://raw.githubusercontent.com/DCIDA2019/da2020-Physicworld/master/datos/jla_vb_covmatrix.dat"
      ],
      "execution_count": 0,
      "outputs": []
    },
    {
      "cell_type": "code",
      "metadata": {
        "id": "I4kVXNJRXqKt",
        "colab_type": "code",
        "colab": {}
      },
      "source": [
        "data = pd.read_csv(\"jla_lcparams.txt\", encoding='Latin-1', sep=\" \")\n",
        "data = pd.DataFrame(data)\n",
        "\n",
        "data_v0 = pd.read_csv(\"jla_v0_covmatrix.dat\", encoding='Latin-1')\n",
        "data_v0 = pd.DataFrame(data_v0)\n",
        "\n",
        "data_v0a = pd.read_csv(\"jla_v0a_covmatrix.dat\", encoding='Latin-1')\n",
        "data_v0a = pd.DataFrame(data_v0a)\n",
        "\n",
        "data_v0b = pd.read_csv(\"jla_v0b_covmatrix.dat\", encoding='Latin-1')\n",
        "data_v0b = pd.DataFrame(data_v0b)\n",
        "\n",
        "data_va = pd.read_csv(\"jla_va_covmatrix.dat\", encoding='Latin-1')\n",
        "data_va = pd.DataFrame(data_va)\n",
        "\n",
        "data_vab = pd.read_csv(\"jla_vab_covmatrix.dat\", encoding='Latin-1')\n",
        "data_vab = pd.DataFrame(data_vab)\n",
        "\n",
        "data_vb = pd.read_csv(\"jla_vb_covmatrix.dat\", encoding='Latin-1')\n",
        "data_vb = pd.DataFrame(data_vb)"
      ],
      "execution_count": 0,
      "outputs": []
    },
    {
      "cell_type": "code",
      "metadata": {
        "id": "U1b4lZYMa1WH",
        "colab_type": "code",
        "colab": {}
      },
      "source": [
        "zcmb = data[\"zcmb\"]\n",
        "mb = data[\"mb\"]\n",
        "x1 =  data[\"x1\"]\n",
        "C = data[\"color\"]"
      ],
      "execution_count": 0,
      "outputs": []
    },
    {
      "cell_type": "code",
      "metadata": {
        "id": "INjsIaHNpMx5",
        "colab_type": "code",
        "colab": {
          "base_uri": "https://localhost:8080/",
          "height": 259
        },
        "outputId": "3fa3cacb-5050-4f17-f03d-b9d4929b01b6"
      },
      "source": [
        "matriz_cov = data_v0 + data_v0a + data_v0b + data_va + data_vab + data_vb\n",
        "matriz_cov = matriz_cov.values.reshape(740,740)\n",
        "matriz_cov"
      ],
      "execution_count": 148,
      "outputs": [
        {
          "output_type": "execute_result",
          "data": {
            "text/plain": [
              "array([[ 8.64227232e-03,  7.34445918e-03,  1.59175379e-03, ...,\n",
              "        -7.35925479e-05,  1.57848688e-04,  8.31412847e-05],\n",
              "       [ 7.34445918e-03,  8.22700390e-03,  6.33430942e-04, ...,\n",
              "         9.73553245e-05,  1.82973146e-04,  1.42323217e-04],\n",
              "       [ 1.59175379e-03,  6.33430942e-04,  2.85901885e-03, ...,\n",
              "        -9.49003304e-05,  4.33578535e-04,  3.39830211e-04],\n",
              "       ...,\n",
              "       [-7.35925479e-05,  9.73553245e-05, -9.49003304e-05, ...,\n",
              "         1.39469374e-02,  2.37650462e-04,  1.98289725e-03],\n",
              "       [ 1.57848688e-04,  1.82973146e-04,  4.33578535e-04, ...,\n",
              "         2.37650462e-04,  1.10683209e-02, -1.43105434e-03],\n",
              "       [ 8.31412847e-05,  1.42323217e-04,  3.39830211e-04, ...,\n",
              "         1.98289725e-03, -1.43105434e-03,  5.74500001e-03]])"
            ]
          },
          "metadata": {
            "tags": []
          },
          "execution_count": 148
        }
      ]
    },
    {
      "cell_type": "code",
      "metadata": {
        "id": "-00m2a8OYTsa",
        "colab_type": "code",
        "colab": {}
      },
      "source": [
        "def mu_exp(Mb, alpha, beta):\n",
        "  u = mb - (Mb - alpha * x1 + beta * C)\n",
        "  return u"
      ],
      "execution_count": 0,
      "outputs": []
    },
    {
      "cell_type": "code",
      "metadata": {
        "id": "BoMtoiB7j3mb",
        "colab_type": "code",
        "colab": {}
      },
      "source": [
        "def mu_teo(omega_m):\n",
        "  cosmo = {'omega_M_0':omega_m, 'omega_lambda_0':0.7, 'omega_k_0':0.0, 'h':0.7}\n",
        "  lumdist = 5 * np.log10(cd.luminosity_distance(zcmb,**cosmo)*1e6/10)\n",
        "  return lumdist"
      ],
      "execution_count": 0,
      "outputs": []
    },
    {
      "cell_type": "code",
      "metadata": {
        "id": "0l_H0-Rav-9H",
        "colab_type": "code",
        "colab": {}
      },
      "source": [
        "#theta = []; Mb, alpha, beta, omega_m\n",
        "def chisquare(theta):\n",
        "  mu_te = mu_teo(theta[3])\n",
        "  mu_ob = mu_exp(theta[0], theta[1], theta[2])\n",
        "  chi = abs(np.matmul((mu_ob - mu_te).T, np.matmul(matriz_cov, (mu_ob - mu_te))))\n",
        "  return chi"
      ],
      "execution_count": 0,
      "outputs": []
    },
    {
      "cell_type": "code",
      "metadata": {
        "id": "VC7rYbPgbOay",
        "colab_type": "code",
        "colab": {
          "base_uri": "https://localhost:8080/",
          "height": 287
        },
        "outputId": "c75252c5-9053-4b4a-9b91-994aec5db286"
      },
      "source": [
        "mu_obs = mu_exp(-19.05, 0.141, 3.01)\n",
        "plt.scatter(zcmb, mu_obs)\n",
        "\n",
        "plt.ylabel(\"$\\mu$\")\n",
        "plt.xlabel(\"Z\")\n",
        "plt.xscale('log')\n",
        "plt.xlim(0.001, 10)\n",
        "plt.grid()\n",
        "plt.ylim(32,46)\n",
        "plt.show()"
      ],
      "execution_count": 152,
      "outputs": [
        {
          "output_type": "display_data",
          "data": {
            "image/png": "[encoded data removed]",
            "text/plain": [
              "<Figure size 432x288 with 1 Axes>"
            ]
          },
          "metadata": {
            "tags": []
          }
        }
      ]
    },
    {
      "cell_type": "code",
      "metadata": {
        "id": "Jy0zylV0flKE",
        "colab_type": "code",
        "colab": {}
      },
      "source": [
        "cosmo = {'omega_M_0':0.3, 'omega_lambda_0':0.7, 'omega_k_0':0.0, 'h':0.7}\n",
        "lumdist = 5 * np.log10(cd.luminosity_distance(zcmb,**cosmo)*1e6/10)"
      ],
      "execution_count": 0,
      "outputs": []
    },
    {
      "cell_type": "code",
      "metadata": {
        "id": "zOlZ3qjdjkNt",
        "colab_type": "code",
        "colab": {
          "base_uri": "https://localhost:8080/",
          "height": 265
        },
        "outputId": "a44642ca-25b0-43f4-c967-ca73c391f81e"
      },
      "source": [
        "plt.scatter(zcmb, lumdist)\n",
        "plt.show()"
      ],
      "execution_count": 154,
      "outputs": [
        {
          "output_type": "display_data",
          "data": {
            "image/png": "[encoded data removed]",
            "text/plain": [
              "<Figure size 432x288 with 1 Axes>"
            ]
          },
          "metadata": {
            "tags": []
          }
        }
      ]
    },
    {
      "cell_type": "code",
      "metadata": {
        "id": "3XXRdFUzmdmf",
        "colab_type": "code",
        "colab": {
          "base_uri": "https://localhost:8080/",
          "height": 265
        },
        "outputId": "fa59e1c7-02f9-4480-eb28-8f3442a8d97f"
      },
      "source": [
        "plt.scatter(zcmb, mu_obs)\n",
        "plt.scatter(zcmb, lumdist)\n",
        "plt.show()"
      ],
      "execution_count": 155,
      "outputs": [
        {
          "output_type": "display_data",
          "data": {
            "image/png": "[encoded data removed]",
            "text/plain": [
              "<Figure size 432x288 with 1 Axes>"
            ]
          },
          "metadata": {
            "tags": []
          }
        }
      ]
    },
    {
      "cell_type": "code",
      "metadata": {
        "id": "HfXWjBfbGyI6",
        "colab_type": "code",
        "colab": {
          "base_uri": "https://localhost:8080/",
          "height": 284
        },
        "outputId": "2ddd660a-0782-4187-92bd-fe16b356d8ee"
      },
      "source": [
        "matrix_error = []\n",
        "\n",
        "for i in range(740):\n",
        "  matrix_error.append(matriz_cov[i][i])\n",
        "\n",
        "plt.errorbar(zcmb, mu_obs, yerr=matrix_error, marker = '4', c = 'green',linestyle='None')"
      ],
      "execution_count": 156,
      "outputs": [
        {
          "output_type": "execute_result",
          "data": {
            "text/plain": [
              "<ErrorbarContainer object of 3 artists>"
            ]
          },
          "metadata": {
            "tags": []
          },
          "execution_count": 156
        },
        {
          "output_type": "display_data",
          "data": {
            "image/png": "[encoded data removed]",
            "text/plain": [
              "<Figure size 432x288 with 1 Axes>"
            ]
          },
          "metadata": {
            "tags": []
          }
        }
      ]
    },
    {
      "cell_type": "code",
      "metadata": {
        "id": "Abok-cRaHysw",
        "colab_type": "code",
        "colab": {
          "base_uri": "https://localhost:8080/",
          "height": 36
        },
        "outputId": "9cc1b611-e1a9-46d6-f33a-38d1e11fb9eb"
      },
      "source": [
        "theta = [-19.05, 0.141, 3.01, 0.3]\n",
        "chisquare(theta)"
      ],
      "execution_count": 157,
      "outputs": [
        {
          "output_type": "execute_result",
          "data": {
            "text/plain": [
              "2.6682319598192925"
            ]
          },
          "metadata": {
            "tags": []
          },
          "execution_count": 157
        }
      ]
    },
    {
      "cell_type": "code",
      "metadata": {
        "id": "vqnLgxOuP66Q",
        "colab_type": "code",
        "colab": {
          "base_uri": "https://localhost:8080/",
          "height": 185
        },
        "outputId": "1ef98c31-18f8-498d-8dc7-627e80aef6ca"
      },
      "source": [
        "sc.optimize.minimize(chisquare, theta,bounds = ((0, 1), (2.5, 3.5), (-19.5, -18.5), (0, 1)))"
      ],
      "execution_count": 158,
      "outputs": [
        {
          "output_type": "execute_result",
          "data": {
            "text/plain": [
              "      fun: 638617.8983608879\n",
              " hess_inv: <4x4 LbfgsInvHessProduct with dtype=float64>\n",
              "      jac: array([ 67464.70462531,   3185.39096043,  -1322.51298055, -48431.92873523])\n",
              "  message: b'CONVERGENCE: NORM_OF_PROJECTED_GRADIENT_<=_PGTOL'\n",
              "     nfev: 10\n",
              "      nit: 1\n",
              "   status: 0\n",
              "  success: True\n",
              "        x: array([  0. ,   2.5, -18.5,   1. ])"
            ]
          },
          "metadata": {
            "tags": []
          },
          "execution_count": 158
        }
      ]
    }
  ]
}