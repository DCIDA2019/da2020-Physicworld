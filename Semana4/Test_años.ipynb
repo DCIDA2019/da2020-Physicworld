{
  "nbformat": 4,
  "nbformat_minor": 0,
  "metadata": {
    "colab": {
      "name": "Test_años.ipynb",
      "provenance": []
    },
    "kernelspec": {
      "name": "python3",
      "display_name": "Python 3"
    }
  },
  "cells": [
    {
      "cell_type": "code",
      "metadata": {
        "id": "_0RNY9wPZQop",
        "colab_type": "code",
        "colab": {}
      },
      "source": [
        "!wget -cq https://raw.githubusercontent.com/DCIDA2019/da2020-Physicworld/master/Semana4/Tablas%20de%20Homicidios/homicidios_1990.csv\n",
        "!wget -cq https://raw.githubusercontent.com/DCIDA2019/da2020-Physicworld/master/Semana4/Tablas%20de%20Homicidios/homicidios_1991.csv\n",
        "!wget -cq https://raw.githubusercontent.com/DCIDA2019/da2020-Physicworld/master/Semana4/Tablas%20de%20Homicidios/homicidios_1992.csv\n",
        "!wget -cq https://raw.githubusercontent.com/DCIDA2019/da2020-Physicworld/master/Semana4/Tablas%20de%20Homicidios/homicidios_1993.csv\n",
        "!wget -cq https://raw.githubusercontent.com/DCIDA2019/da2020-Physicworld/master/Semana4/Tablas%20de%20Homicidios/homicidios_1994.csv\n",
        "!wget -cq https://raw.githubusercontent.com/DCIDA2019/da2020-Physicworld/master/Semana4/Tablas%20de%20Homicidios/homicidios_1995.csv\n",
        "!wget -cq https://raw.githubusercontent.com/DCIDA2019/da2020-Physicworld/master/Semana4/Tablas%20de%20Homicidios/homicidios_1996.csv\n",
        "!wget -cq https://raw.githubusercontent.com/DCIDA2019/da2020-Physicworld/master/Semana4/Tablas%20de%20Homicidios/homicidios_1997.csv\n",
        "!wget -cq https://raw.githubusercontent.com/DCIDA2019/da2020-Physicworld/master/Semana4/Tablas%20de%20Homicidios/homicidios_1998.csv\n",
        "!wget -cq https://raw.githubusercontent.com/DCIDA2019/da2020-Physicworld/master/Semana4/Tablas%20de%20Homicidios/homicidios_1999.csv\n",
        "!wget -cq https://raw.githubusercontent.com/DCIDA2019/da2020-Physicworld/master/Semana4/Tablas%20de%20Homicidios/homicidios_2000.csv"
      ],
      "execution_count": 0,
      "outputs": []
    },
    {
      "cell_type": "code",
      "metadata": {
        "id": "PngyC3WTZlO5",
        "colab_type": "code",
        "colab": {}
      },
      "source": [
        "import pandas as pd\n",
        "import numpy as np\n",
        "import matplotlib.pyplot as plt"
      ],
      "execution_count": 0,
      "outputs": []
    },
    {
      "cell_type": "code",
      "metadata": {
        "id": "j_tAlhm3Z3Ug",
        "colab_type": "code",
        "colab": {}
      },
      "source": [
        "df_90 = pd.read_csv(\"homicidios_1990.csv\", sep=',', header=0, index_col=0)\n",
        "df_91 = pd.read_csv(\"homicidios_1991.csv\", sep=',', header=0, index_col=0)\n",
        "df_92 = pd.read_csv(\"homicidios_1992.csv\", sep=',', header=0, index_col=0)\n",
        "df_93 = pd.read_csv(\"homicidios_1993.csv\", sep=',', header=0, index_col=0)\n",
        "df_94 = pd.read_csv(\"homicidios_1994.csv\", sep=',', header=0, index_col=0)\n",
        "df_95 = pd.read_csv(\"homicidios_1995.csv\", sep=',', header=0, index_col=0)\n",
        "df_96 = pd.read_csv(\"homicidios_1996.csv\", sep=',', header=0, index_col=0)\n",
        "df_97 = pd.read_csv(\"homicidios_1997.csv\", sep=',', header=0, index_col=0)\n",
        "df_98 = pd.read_csv(\"homicidios_1998.csv\", sep=',', header=0, index_col=0)\n",
        "df_99 = pd.read_csv(\"homicidios_1999.csv\", sep=',', header=0, index_col=0)\n",
        "df_20 = pd.read_csv(\"homicidios_2000.csv\", sep=',', header=0, index_col=0)"
      ],
      "execution_count": 0,
      "outputs": []
    },
    {
      "cell_type": "code",
      "metadata": {
        "id": "4datwv2haIj7",
        "colab_type": "code",
        "colab": {}
      },
      "source": [
        "homicidios = []\n",
        "años = [1990, 1991, 1992, 1993, 1994, 1995, 1996, 1997, 1998, 1999, 2000]\n",
        "\n",
        "suma = df_90[\"Homicides\"].sum()\n",
        "homicidios.append(suma)\n",
        "suma = df_91[\"Homicides\"].sum()\n",
        "homicidios.append(suma)\n",
        "suma = df_92[\"Homicides\"].sum()\n",
        "homicidios.append(suma)\n",
        "suma = df_93[\"Homicides\"].sum()\n",
        "homicidios.append(suma)\n",
        "suma = df_94[\"Homicides\"].sum()\n",
        "homicidios.append(suma)\n",
        "suma = df_95[\"Homicides\"].sum()\n",
        "homicidios.append(suma)\n",
        "suma = df_96[\"Homicides\"].sum()\n",
        "homicidios.append(suma)\n",
        "suma = df_97[\"Homicides\"].sum()\n",
        "homicidios.append(suma)\n",
        "suma = df_98[\"Homicides\"].sum()\n",
        "homicidios.append(suma)\n",
        "suma = df_99[\"Homicides\"].sum()\n",
        "homicidios.append(suma)\n",
        "suma = df_20[\"Homicides\"].sum()\n",
        "homicidios.append(suma)"
      ],
      "execution_count": 0,
      "outputs": []
    },
    {
      "cell_type": "code",
      "metadata": {
        "id": "HuPdPps2aS4U",
        "colab_type": "code",
        "colab": {
          "base_uri": "https://localhost:8080/",
          "height": 219
        },
        "outputId": "3d5901a6-ee38-487a-ee1e-d5ca91d0190d"
      },
      "source": [
        "homicidios"
      ],
      "execution_count": 14,
      "outputs": [
        {
          "output_type": "execute_result",
          "data": {
            "text/plain": [
              "[104636,\n",
              " 110876,\n",
              " 109591,\n",
              " 109591,\n",
              " 111586,\n",
              " 111586,\n",
              " 111586,\n",
              " 111586,\n",
              " 111586,\n",
              " 105520,\n",
              " 108964]"
            ]
          },
          "metadata": {
            "tags": []
          },
          "execution_count": 14
        }
      ]
    },
    {
      "cell_type": "code",
      "metadata": {
        "id": "E_UOAI0pa9Z7",
        "colab_type": "code",
        "colab": {
          "base_uri": "https://localhost:8080/",
          "height": 279
        },
        "outputId": "a8ee37a2-f45f-4e5e-c336-8a36698541ce"
      },
      "source": [
        "plt.plot(años,homicidios)\n",
        "plt.ylabel(\"Muertes\")\n",
        "plt.xlabel(\"Años\")\n",
        "plt.show()"
      ],
      "execution_count": 17,
      "outputs": [
        {
          "output_type": "display_data",
          "data": {
            "image/png": "[encoded data removed]",
            "text/plain": [
              "<Figure size 432x288 with 1 Axes>"
            ]
          },
          "metadata": {
            "tags": []
          }
        }
      ]
    },
    {
      "cell_type": "code",
      "metadata": {
        "id": "qafx_d1zbm37",
        "colab_type": "code",
        "colab": {}
      },
      "source": [
        ""
      ],
      "execution_count": 0,
      "outputs": []
    }
  ]
}