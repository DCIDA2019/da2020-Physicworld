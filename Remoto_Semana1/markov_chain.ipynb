{
  "nbformat": 4,
  "nbformat_minor": 0,
  "metadata": {
    "colab": {
      "name": "markov_chain.ipynb",
      "provenance": []
    },
    "kernelspec": {
      "name": "python3",
      "display_name": "Python 3"
    }
  },
  "cells": [
    {
      "cell_type": "code",
      "metadata": {
        "id": "R8OtJtdVLkk6",
        "colab_type": "code",
        "colab": {}
      },
      "source": [
        "import numpy as np\n",
        "import matplotlib.pyplot as plt"
      ],
      "execution_count": 0,
      "outputs": []
    },
    {
      "cell_type": "code",
      "metadata": {
        "id": "E97Q5cvJRuJO",
        "colab_type": "code",
        "colab": {}
      },
      "source": [
        "def likelihood(x, y, sigma, modelo, parametro):\n",
        "    return (-1/2)*np.sum(((y-modelo(x, parametro))**2)/sigma**2)"
      ],
      "execution_count": 0,
      "outputs": []
    },
    {
      "cell_type": "code",
      "metadata": {
        "id": "aAHi49-bVnHa",
        "colab_type": "code",
        "colab": {}
      },
      "source": [
        "def montecarlo_chain(x, y, sigma, modelo, p_i, n):\n",
        "\n",
        "    L_v = likelihood(x, y, sigma, modelo, p_i)\n",
        "    markov_chain = []\n",
        "    markov_chain.append([p_i, L_v])\n",
        "    \n",
        "    s = [0.1, 0.1]\n",
        "    \n",
        "    for i in range(n):\n",
        "        p_n = []\n",
        "        p_n = [np.random.normal(p_i[0], s[0]), np.random.normal(p_i[1], s[1])]\n",
        "        \n",
        "        L_n = likelihood(x, y, sigma, modelo, p_n)\n",
        "        \n",
        "        if (L_n>L_v):\n",
        "            markov_chain.append([p_n, L_n])\n",
        "            p_i = p_n \n",
        "            L_v = L_n\n",
        "            continue\n",
        "        elif  ((np.exp(L_n)/np.exp(L_v)) > np.random.randn()):\n",
        "            markov_chain.append([p_n, L_n])\n",
        "        \n",
        "    else:     \n",
        "        return markov_chain\n",
        "        \n",
        "    return markov_chain"
      ],
      "execution_count": 0,
      "outputs": []
    },
    {
      "cell_type": "code",
      "metadata": {
        "id": "v_vMtkeFVsSo",
        "colab_type": "code",
        "colab": {}
      },
      "source": [
        "def modelo(x, params):\n",
        "    return x*params[0]+params[1]\n",
        "\n",
        "x = np.linspace(0,10,1000)\n",
        "p_reales = [4, 9]\n",
        "\n",
        "des = np.zeros(len(x))\n",
        "for i in range(len(x)):\n",
        "    des[i] = 0.1\n",
        "\n",
        "y = x*p_reales[0] + p_reales[1]"
      ],
      "execution_count": 0,
      "outputs": []
    },
    {
      "cell_type": "code",
      "metadata": {
        "id": "CCXoamhKV1Ez",
        "colab_type": "code",
        "colab": {}
      },
      "source": [
        "p_i = [2,2]"
      ],
      "execution_count": 0,
      "outputs": []
    },
    {
      "cell_type": "code",
      "metadata": {
        "id": "NWNMXK2sV4F1",
        "colab_type": "code",
        "colab": {
          "base_uri": "https://localhost:8080/",
          "height": 35
        },
        "outputId": "83153950-6903-4442-c85c-ac19b3458d04"
      },
      "source": [
        "a = montecarlo_chain(x,y,des,modelo, p_i, 1000)"
      ],
      "execution_count": 6,
      "outputs": [
        {
          "output_type": "stream",
          "text": [
            "/usr/local/lib/python3.6/dist-packages/ipykernel_launcher.py:20: RuntimeWarning: invalid value encountered in double_scalars\n"
          ],
          "name": "stderr"
        }
      ]
    },
    {
      "cell_type": "code",
      "metadata": {
        "id": "4cSCUq8QV6Ev",
        "colab_type": "code",
        "colab": {
          "base_uri": "https://localhost:8080/",
          "height": 295
        },
        "outputId": "866cc5ae-5594-4834-aa63-8c7fe6b94fee"
      },
      "source": [
        "puntos = [x for x,y in a]\n",
        "lik = [y for x, y in a]\n",
        "\n",
        "x_fin = [x for x, y in puntos]\n",
        "y_fin = [y for x, y in puntos]\n",
        "    \n",
        "plt.plot(lik, color='g')\n",
        "plt.title('Función Likelihood')\n",
        "plt.xlabel('x')\n",
        "plt.ylabel('L(x)')\n",
        "plt.grid()"
      ],
      "execution_count": 7,
      "outputs": [
        {
          "output_type": "display_data",
          "data": {
            "image/png": "[encoded data removed]",
            "text/plain": [
              "<Figure size 432x288 with 1 Axes>"
            ]
          },
          "metadata": {
            "tags": [],
            "needs_background": "light"
          }
        }
      ]
    },
    {
      "cell_type": "code",
      "metadata": {
        "id": "ETkJxLg5V-pI",
        "colab_type": "code",
        "colab": {
          "base_uri": "https://localhost:8080/",
          "height": 295
        },
        "outputId": "02483ea3-2f13-4213-b936-35a67cc30b94"
      },
      "source": [
        "plt.scatter(x_fin, y_fin, color='blue',s=1)\n",
        "plt.title('MonteCarlo Markov Chain')\n",
        "plt.xlabel('Pendiente')\n",
        "plt.ylabel('Ordenada al origen')\n",
        "plt.grid()"
      ],
      "execution_count": 9,
      "outputs": [
        {
          "output_type": "display_data",
          "data": {
            "image/png": "[encoded data removed]",
            "text/plain": [
              "<Figure size 432x288 with 1 Axes>"
            ]
          },
          "metadata": {
            "tags": [],
            "needs_background": "light"
          }
        }
      ]
    },
    {
      "cell_type": "code",
      "metadata": {
        "id": "XUvRb3i0WDgW",
        "colab_type": "code",
        "colab": {}
      },
      "source": [
        ""
      ],
      "execution_count": 0,
      "outputs": []
    }
  ]
}