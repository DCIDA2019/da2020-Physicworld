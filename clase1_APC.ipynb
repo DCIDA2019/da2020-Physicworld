{
  "nbformat": 4,
  "nbformat_minor": 0,
  "metadata": {
    "colab": {
      "name": "clase1_APC.ipynb",
      "provenance": [],
      "collapsed_sections": []
    },
    "kernelspec": {
      "name": "python3",
      "display_name": "Python 3"
    }
  },
  "cells": [
    {
      "cell_type": "code",
      "metadata": {
        "id": "8OSRZy0jSKVz",
        "colab_type": "code",
        "outputId": "cbad27c4-98ab-4137-e77b-e78ca14456d8",
        "colab": {
          "base_uri": "https://localhost:8080/",
          "height": 90
        }
      },
      "source": [
        "import numpy as np\n",
        "import matplotlib.pyplot as plt\n",
        "import time\n",
        "%pylab inline"
      ],
      "execution_count": 6,
      "outputs": [
        {
          "output_type": "stream",
          "text": [
            "Populating the interactive namespace from numpy and matplotlib\n"
          ],
          "name": "stdout"
        },
        {
          "output_type": "stream",
          "text": [
            "/usr/local/lib/python3.6/dist-packages/IPython/core/magics/pylab.py:161: UserWarning: pylab import has clobbered these variables: ['f']\n",
            "`%matplotlib` prevents importing * from pylab and numpy\n",
            "  \"\\n`%matplotlib` prevents importing * from pylab and numpy\"\n"
          ],
          "name": "stderr"
        }
      ]
    },
    {
      "cell_type": "code",
      "metadata": {
        "id": "VyP3C7f8S9IZ",
        "colab_type": "code",
        "outputId": "c4cc3cc1-8725-4b2a-8bc7-91376d8c1304",
        "colab": {
          "base_uri": "https://localhost:8080/",
          "height": 109
        }
      },
      "source": [
        "x = np.arange(-5,5,0.25)\n",
        "x"
      ],
      "execution_count": 0,
      "outputs": [
        {
          "output_type": "execute_result",
          "data": {
            "text/plain": [
              "array([-5.  , -4.75, -4.5 , -4.25, -4.  , -3.75, -3.5 , -3.25, -3.  ,\n",
              "       -2.75, -2.5 , -2.25, -2.  , -1.75, -1.5 , -1.25, -1.  , -0.75,\n",
              "       -0.5 , -0.25,  0.  ,  0.25,  0.5 ,  0.75,  1.  ,  1.25,  1.5 ,\n",
              "        1.75,  2.  ,  2.25,  2.5 ,  2.75,  3.  ,  3.25,  3.5 ,  3.75,\n",
              "        4.  ,  4.25,  4.5 ,  4.75])"
            ]
          },
          "metadata": {
            "tags": []
          },
          "execution_count": 10
        }
      ]
    },
    {
      "cell_type": "code",
      "metadata": {
        "id": "sruXJeklYDpd",
        "colab_type": "code",
        "outputId": "18ec753e-2e8a-4809-8eb2-0f8f6994eee8",
        "colab": {
          "base_uri": "https://localhost:8080/",
          "height": 164
        }
      },
      "source": [
        "# %time operacion\n",
        "fx = lambda x,y: np.cos(x)*np.sqrt(y)\n",
        "fx(x,4)"
      ],
      "execution_count": 0,
      "outputs": [
        {
          "output_type": "execute_result",
          "data": {
            "text/plain": [
              "array([ 0.56732437,  0.07520431, -0.4215916 , -0.89217498, -1.30728724,\n",
              "       -1.64111871, -1.87291337, -1.98825935, -1.97998499, -1.84860476,\n",
              "       -1.60228723, -1.25634725, -0.83229367, -0.35649211,  0.1414744 ,\n",
              "        0.63064472,  1.08060461,  1.46337774,  1.75516512,  1.93782484,\n",
              "        2.        ,  1.93782484,  1.75516512,  1.46337774,  1.08060461,\n",
              "        0.63064472,  0.1414744 , -0.35649211, -0.83229367, -1.25634725,\n",
              "       -1.60228723, -1.84860476, -1.97998499, -1.98825935, -1.87291337,\n",
              "       -1.64111871, -1.30728724, -0.89217498, -0.4215916 ,  0.07520431])"
            ]
          },
          "metadata": {
            "tags": []
          },
          "execution_count": 11
        }
      ]
    },
    {
      "cell_type": "code",
      "metadata": {
        "id": "QZ_P7eRWZ1RY",
        "colab_type": "code",
        "colab": {}
      },
      "source": [
        "plt?\n"
      ],
      "execution_count": 0,
      "outputs": []
    },
    {
      "cell_type": "code",
      "metadata": {
        "id": "Hsjg-IwNcRtn",
        "colab_type": "code",
        "outputId": "e60f8f46-f8b3-4b5d-f76b-4fc1e0b4d3c8",
        "colab": {
          "base_uri": "https://localhost:8080/",
          "height": 265
        }
      },
      "source": [
        "x = np.arange(0,8,0.1)\n",
        "y = np.sin(x)\n",
        "plt.plot(x,y,\"r\",\"--\", label =r\"$sin(x)$\")\n",
        "plt.legend()\n",
        "plt.savefig(\"fig.jpg\")"
      ],
      "execution_count": 0,
      "outputs": [
        {
          "output_type": "display_data",
          "data": {
            "image/png": "iVBORw0KGgoAAAANSUhEUgAAAWsAAAD4CAYAAAAqw8chAAAABHNCSVQICAgIfAhkiAAAAAlwSFlz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\nWNBffU3G4gAAAABJRU5ErkJggg==\n",
            "text/plain": [
              "<Figure size 432x288 with 1 Axes>"
            ]
          },
          "metadata": {
            "tags": []
          }
        }
      ]
    },
    {
      "cell_type": "code",
      "metadata": {
        "id": "glvNIeg7cdmF",
        "colab_type": "code",
        "colab": {}
      },
      "source": [
        ""
      ],
      "execution_count": 0,
      "outputs": []
    },
    {
      "cell_type": "markdown",
      "metadata": {
        "id": "gsI5QdQGhwid",
        "colab_type": "text"
      },
      "source": [
        "TAREA 1\n",
        "Solución Péndulo Simple/(Como si fuera C)"
      ]
    },
    {
      "cell_type": "markdown",
      "metadata": {
        "id": "uFzNklmpigS4",
        "colab_type": "text"
      },
      "source": [
        "*Teoría*\n",
        "\n",
        "Comenzamos por definir nuestra ecuación diferencial\n",
        "la cual es la siguiente: $\\ddot{\\theta}+\\frac{g}{L} sin\\theta = 0$.\n",
        "Es reescrita para angulos pequeños y es la que procederá a resolverse:\n",
        "$\\ddot{\\theta}+\\frac{g}{L} \\theta = 0$\n",
        "La cual es una ecuación diferencial de segundo orden, se procede a separar en dos ecuacuaciones de primer orden de la siguiente manera:\n",
        "\n",
        "\n",
        "\n",
        "1.   $\\dot{z} = - \\frac{g}{L} \\theta$\n",
        "\n",
        "1.   $\\dot{\\theta} = z$\n",
        "\n",
        "Haciendo uso del Método de Euler:\n",
        "\n",
        "$y_{i+1} = y_i + h f(x,y,y')$\n"
      ]
    },
    {
      "cell_type": "code",
      "metadata": {
        "id": "c04lJ9e1h1Yh",
        "colab_type": "code",
        "outputId": "cfc0dc48-7f36-4b9f-ca70-115f9d1a709e",
        "colab": {
          "base_uri": "https://localhost:8080/",
          "height": 283
        }
      },
      "source": [
        "xi = 0  #Intervalos de integracion\n",
        "xf = 20\n",
        "N = 1000 #Partición del intervalo\n",
        "\n",
        "y1 = 1  #Condiciones iniciales\n",
        "y2 = 1\n",
        "\n",
        "h = (xf-xi)/N #Tamaño del paso\n",
        "y_=y2\n",
        "\n",
        "x = []  #Arreglos donde guardaremos los datos de la solución numérica.\n",
        "ysol = []\n",
        "y_sol = []\n",
        "\n",
        "for i in range(0,N):\n",
        "  y = y1 + h*(-9.81/100)*y_ # Solucionamos la ecuación diferencial 1.\n",
        "  y_ = y2 + h * y #Solucionamos la ecuacion diferencial 2.\n",
        "\n",
        "  x.append(xi) #Agregamos los datos en un arreglo para graficar\n",
        "  ysol.append(y)\n",
        "  y_sol.append(y_)\n",
        "\n",
        "  xi = xi + h #Incrementamos el paso\n",
        "  y1 = y  #Actualizamos las variables dependientes de cada ecuacion diferencial\n",
        "  y2 = y_\n",
        "\n",
        "plt.plot(x,ysol)\n",
        "plt.plot(x,y_sol)\n",
        "#x,ysol,y_sol\n",
        "\n",
        "\n",
        "\n"
      ],
      "execution_count": 0,
      "outputs": [
        {
          "output_type": "execute_result",
          "data": {
            "text/plain": [
              "[<matplotlib.lines.Line2D at 0x7ffa44d5f0f0>]"
            ]
          },
          "metadata": {
            "tags": []
          },
          "execution_count": 41
        },
        {
          "output_type": "display_data",
          "data": {
            "image/png": "iVBORw0KGgoAAAANSUhEUgAAAXIAAAD4CAYAAADxeG0DAAAABHNCSVQICAgIfAhkiAAAAAlwSFlz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\nEMLJSSEXQggn9/8ADty9HsYyKiUAAAAASUVORK5CYII=\n",
            "text/plain": [
              "<Figure size 432x288 with 1 Axes>"
            ]
          },
          "metadata": {
            "tags": []
          }
        }
      ]
    },
    {
      "cell_type": "markdown",
      "metadata": {
        "id": "pietZqkODmfG",
        "colab_type": "text"
      },
      "source": [
        "Ahora se buscará solucionar este mismo problema haciendo uso de las librerias de python, aplicando el mismo metodo y solucionando las mismas ecuaciones diferenciales.\n",
        "Las librerias utilizadas ya estan importadas al inicio del sketch pero se mencionan aqui de nuevo:\n",
        "\n",
        "\n",
        "```\n",
        "import numpy as np\n",
        "import matplotlib.pyplot as plt\n",
        "```\n",
        "\n"
      ]
    },
    {
      "cell_type": "code",
      "metadata": {
        "id": "tbH8Hro0YnIf",
        "colab_type": "code",
        "colab": {
          "base_uri": "https://localhost:8080/",
          "height": 35
        },
        "outputId": "cc2a878a-7235-4306-dc8f-b19240351600"
      },
      "source": [
        "#Comenzamos por definir las variables iniciales necesarias.\n",
        "\n",
        "xi = 0  #Intervalos de integracion\n",
        "xf = 20\n",
        "N = 1000 #Partición del intervalo\n",
        "\n",
        "y_1 = 1  #Condiciones iniciales\n",
        "y_2 = 1\n",
        "\n",
        "h = (xf-xi)/N #Tamaño del paso\n",
        "\n",
        "#procedemos a crear los vectores que guardarán la solución numérica:\n",
        "y1 = np.zeros(N)\n",
        "y2 = np.zeros(N)\n",
        "#Definimos x de esta manera, en el intervalo de [xi,xf] en equiparticiones de h.\n",
        "x = np.arange(xi,xf,h) \n",
        "\n",
        "y1[0] = y_1\n",
        "y2[0] = y_2\n",
        "#x[0] = xi\n"
      ],
      "execution_count": 39,
      "outputs": [
        {
          "output_type": "execute_result",
          "data": {
            "text/plain": [
              "19.98"
            ]
          },
          "metadata": {
            "tags": []
          },
          "execution_count": 39
        }
      ]
    },
    {
      "cell_type": "code",
      "metadata": {
        "id": "mcTXsDuiD0hV",
        "colab_type": "code",
        "colab": {}
      },
      "source": [
        "def f(x,y): #Definimos la funcion 1\n",
        "   return (-9.81/100)*y\n"
      ],
      "execution_count": 0,
      "outputs": []
    },
    {
      "cell_type": "code",
      "metadata": {
        "id": "aJBPPT30YYlu",
        "colab_type": "code",
        "colab": {}
      },
      "source": [
        "def g(x,y):  #Definimos la funcion 2\n",
        "  return y"
      ],
      "execution_count": 0,
      "outputs": []
    },
    {
      "cell_type": "code",
      "metadata": {
        "id": "t58rguKVZGQZ",
        "colab_type": "code",
        "colab": {
          "base_uri": "https://localhost:8080/",
          "height": 283
        },
        "outputId": "fe190307-e0fd-4e48-c212-668d25f8f95d"
      },
      "source": [
        "#Main\n",
        "\n",
        "for i in np.arange(1,N):\n",
        "  y1[i] = y1[i-1] + h*f(x[i-1],y2[i-1])\n",
        "  y2[i] = y2[i-1] + h*g(x[i-1],y1[i-1])\n",
        " \n",
        "\n",
        "#print(x,y1,y2)\n",
        "\n",
        "plt.plot(x,y1)\n",
        "plt.plot(x,y2)"
      ],
      "execution_count": 42,
      "outputs": [
        {
          "output_type": "execute_result",
          "data": {
            "text/plain": [
              "[<matplotlib.lines.Line2D at 0x7ff0b871ac50>]"
            ]
          },
          "metadata": {
            "tags": []
          },
          "execution_count": 42
        },
        {
          "output_type": "display_data",
          "data": {
            "image/png": "iVBORw0KGgoAAAANSUhEUgAAAXIAAAD4CAYAAADxeG0DAAAABHNCSVQICAgIfAhkiAAAAAlwSFlz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\n",
            "text/plain": [
              "<Figure size 432x288 with 1 Axes>"
            ]
          },
          "metadata": {
            "tags": []
          }
        }
      ]
    },
    {
      "cell_type": "markdown",
      "metadata": {
        "id": "xL-mx6Wvf--7",
        "colab_type": "text"
      },
      "source": [
        "Y aqui podemos apreciar que llegamos al mismo resultado.\n",
        "La ventaja de usar las librerías de python y los metodos de sus clases, es que facilitan el manejo de los datos a la hora de hacer calculos y organiza de mejor forma la estructura del código."
      ]
    }
  ]
}
        },
        "outputId": "c4cc3cc1-8725-4b2a-8bc7-91376d8c1304"
      },
      "source": [
        "x = np.arange(-5,5,0.25)\n",
        "x"
      ],
      "execution_count": 10,
      "outputs": [
        {
          "output_type": "execute_result",
          "data": {
            "text/plain": [
              "array([-5.  , -4.75, -4.5 , -4.25, -4.  , -3.75, -3.5 , -3.25, -3.  ,\n",
              "       -2.75, -2.5 , -2.25, -2.  , -1.75, -1.5 , -1.25, -1.  , -0.75,\n",
              "       -0.5 , -0.25,  0.  ,  0.25,  0.5 ,  0.75,  1.  ,  1.25,  1.5 ,\n",
              "        1.75,  2.  ,  2.25,  2.5 ,  2.75,  3.  ,  3.25,  3.5 ,  3.75,\n",
              "        4.  ,  4.25,  4.5 ,  4.75])"
            ]
          },
          "metadata": {
            "tags": []
          },
          "execution_count": 10
        }
      ]
    },
    {
      "cell_type": "code",
      "metadata": {
        "id": "sruXJeklYDpd",
        "colab_type": "code",
        "colab": {
          "base_uri": "https://localhost:8080/",
          "height": 164
        },
        "outputId": "18ec753e-2e8a-4809-8eb2-0f8f6994eee8"
      },
      "source": [
        "# %time operacion\n",
        "fx = lambda x,y: np.cos(x)*np.sqrt(y)\n",
        "fx(x,4)"
      ],
      "execution_count": 11,
      "outputs": [
        {
          "output_type": "execute_result",
          "data": {
            "text/plain": [
              "array([ 0.56732437,  0.07520431, -0.4215916 , -0.89217498, -1.30728724,\n",
              "       -1.64111871, -1.87291337, -1.98825935, -1.97998499, -1.84860476,\n",
              "       -1.60228723, -1.25634725, -0.83229367, -0.35649211,  0.1414744 ,\n",
              "        0.63064472,  1.08060461,  1.46337774,  1.75516512,  1.93782484,\n",
              "        2.        ,  1.93782484,  1.75516512,  1.46337774,  1.08060461,\n",
              "        0.63064472,  0.1414744 , -0.35649211, -0.83229367, -1.25634725,\n",
              "       -1.60228723, -1.84860476, -1.97998499, -1.98825935, -1.87291337,\n",
              "       -1.64111871, -1.30728724, -0.89217498, -0.4215916 ,  0.07520431])"
            ]
          },
          "metadata": {
            "tags": []
          },
          "execution_count": 11
        }
      ]
    },
    {
      "cell_type": "code",
      "metadata": {
        "id": "QZ_P7eRWZ1RY",
        "colab_type": "code",
        "colab": {}
      },
      "source": [
        "plt?\n"
      ],
      "execution_count": 0,
      "outputs": []
    },
    {
      "cell_type": "code",
      "metadata": {
        "id": "Hsjg-IwNcRtn",
        "colab_type": "code",
        "colab": {
          "base_uri": "https://localhost:8080/",
          "height": 265
        },
        "outputId": "e60f8f46-f8b3-4b5d-f76b-4fc1e0b4d3c8"
      },
      "source": [
        "x = np.arange(0,8,0.1)\n",
        "y = np.sin(x)\n",
        "plt.plot(x,y,\"r\",\"--\", label =r\"$sin(x)$\")\n",
        "plt.legend()\n",
        "plt.savefig(\"fig.jpg\")"
      ],
      "execution_count": 34,
      "outputs": [
        {
          "output_type": "display_data",
          "data": {
            "image/png": "iVBORw0KGgoAAAANSUhEUgAAAWsAAAD4CAYAAAAqw8chAAAABHNCSVQICAgIfAhkiAAAAAlwSFlz\nAAALEgAACxIB0t1+/AAAADh0RVh0U29mdHdhcmUAbWF0cGxvdGxpYiB2ZXJzaW9uMy4xLjIsIGh0\ndHA6Ly9tYXRwbG90bGliLm9yZy8li6FKAAAgAElEQVR4nO3deZzO5f7H8ddlzJCxLxVJ1GmhzVad\nKNlpJSmSJXvWyEk4pVPKSQmRfSjVoBLR+bVoQ+KcYytr2sgZZM2+j+v3x2dGKpNZ7vu+vsvn+XjM\nQzHd8x7N/b6/9/W9FmOtRSmllLflch1AKaXU2WlZK6WUD2hZK6WUD2hZK6WUD2hZK6WUD+SOxoMW\nL17cli1bNhoPrZRSgbVs2bKd1toSZ/qzqJR12bJlWbp0aTQeWimlAssY81NGf6bDIEop5QNa1kop\n5QNa1kop5QNa1kop5QNa1kop5QNa1kop5QNa1kop5QNRmWetzmLPHvjyS/jlF9i3D/bvB2vh2muh\nalUoccY58UopLzl6FBYtgm++gdRU+Th5Es47D1q0iPiX07KOlU2bYPZs+Zg/H06cyPhzy5SBmjWh\nVy+oVClmEZVSZ7FtG7z2GnzyCXzxBRw+/MfPueEGLWtf+vlneOIJmDxZXnXLl4e//Q1uvRVKlYIC\nBaBgQTh+HFasgKVLYckSmDVLfijq1IG+faFePTDG9XejVDjt3g0vvAAjR8KhQ1ChAnTsCHXrQpUq\nEB8PcXHykTtKtWqtjfhHlSpVbOgdOmTtM89Ymz+/tfHx1vbqZe369Zn/7/fssXbIEGtLlbIWrK1W\nzdrvv49eXqXUHx0+bO3TT1tbsKC1xljbokXWnsdZBCy1GfSq3mCMhhUr4Mor4fHH5Yp4zRoYPhwu\nuyzzj1GokFxRb9gAEybIY1SsCK++KuPbSqno2rABqleHgQOhdm34+mtITs7a8ziCtKwjbfp0+R98\n/Dh8/jnMnAmXXpr9x0tIkLdbK1fK2622beG+++RtmVIqOt57DypXhh9+kPtMs2bB1Vc7jaRlHSmp\nqfDYY3D//VKqS5fKTcJIKVMGPv0UhgyRH55q1SAlJXKPr5SS+0oDBsBdd8HFF8Py5fLPHqBlHQlH\nj8Ldd8Pzz0OXLlKq550X+a8TFydDI59+Clu2wM03w48/Rv7rKBVGJ09C587wz3/Ku9kvv5TC9ggt\n65w6cUKupt97D0aNgjFjZOgimm6+GT77TOZo33wzrFsX3a+nVNCdPCkXWklJ8Pe/w/jxkDev61S/\noWWdE6mp8OCDMp41YgR07x67r121qszXPnkSatSQMW2lVNZZC926yY38/v1h0CBPTpPVss4ua+WV\nODkZnn0WHn449hmuugoWLIA8eeC222RoRCmVedZCz54wbpzcc3r2WU8WNWhZZ1///jBxotyMGDDA\nXY5LL4V//UuWsDdqJBP2lVKZM2oUvPwyPPKIjFV7tKhByzp73npLZmV07gzPPOM6jcy/njYNli2D\n1q1laEQp9ec++0xKulEjWZ3o4aIGLeusW7MG2rWDG2+Upade+R98550wdCi8844sb1dKZWzjRlmv\ncNllsq1DLu9Xoe4NkhV790KTJpCYCG+/Hf1ZH1nVu7fsADZ4sFxt33uv60RKec/Bg9C4sczkmj1b\n9ubxAe+/nHiFtTLz44cfZBjkggtcJ/ojY2D0aNn1q1Mn2elPKfUra+W5sXKlrDbOyeriGNOyzqxh\nw+Ddd2Vs65ZbXKfJWHy8zFA5cULGr1NTXSdSyjumT4epU+Hpp6FhQ9dpskTLOjPWrpUZH40ayR7T\nXnfJJXKHe/58eXFRSsHmzdC1q9xv6tfPdZos07I+mxMnZPijQAFZ1eSVG4pn07q13EB54gnZp0Sp\nMLMW2reHY8dgypTo7TkdRVrWZ/PCC3IYwOjR0dnvI1qMkYn+JUvKqRUHD7pOpJQ748fDRx/J89lH\n49Sn07L+M6tXwz/+AU2bylWq3xQpItOSvvtOxuiUCqPvv4c+fWRv+S5dXKfJNi3rjBw/LsMfhQrJ\n5kx+Gf74vZo15e3fsGGwapXrNErFlrXQoYNMs5082b/PY7SsMzZihKwIHDPG/6eNDxkChQvLiktd\n3ajCZOpUudE+ZAiULu06TY5oWZ/Jli0ybHDnnTIE4nfFisnqxsWLZQtIpcJg7145nPr66+Xq2ue0\nrM+kb18ZBhk+3HWSyGndWoZEHnsMtm1znUap6HvySflZHz3aF8vJz8b/30GkffGFLCp59FGZrxwU\nxsDYsTIrpE8f12mUiq6vv5Yd9Tp3lr3fA0DL+nSpqdCjB1x4oWyBGjRXXCFX1snJsGiR6zRKRUf6\nYQJFi8r+1AGhZX268ePlFfnFFyFfPtdpoqNfP5l73aeP/FArFTRvvCHnJw4ZIoUdEFrW6Xbtgscf\nh1q1gnFTMSOJibIH97//DTNmuE6jVGQdPixbQ1x3nUy9DRAt63SDB8vdYy/tUR0tbdrA1VfLkMjR\no67TKBU5o0ZBSgo8/3wgbiqeLljfTXZt2iQbH7VpI+caBl1cnEzl27BB7pQrFQS7d8vRXLfdJjOf\nAkbLGmRJuTHya1jUrw8NGshJzrt3u06jVM7985/y7vi551wniQot67VrZReubt2gTBnXaWLrhRdg\n3z4pbKX8bNMmGQJp3VqG+AJIy/rvf4f8+d2eUO7K1VfLTZgxY+B//3OdRqnsGzhQfg3whmXhLuvF\ni+X0l0cflSXZYTRwoEzhGzzYdRKlsmfVKtldskePQL87Dm9ZWytzjs87zx+nv0TLRRfJrnyTJsFP\nP7lOo1TW/eMfcjhIEBeynSa8Zf3pp7Bggcytzp/fdRq3BgyQG6wBWu2lQmLlSpg5Uy64ArQA5kzC\nW9aDBskJ5R07uk7i3oUXyt/DK6/IdD6l/GLQIChYMBTvjsNZ1vPny1V1376QJ4/rNN7Qv7/Mv37m\nGddJlMqc1atlFW7PnnIqUsCFs6wHDZKxar2q/tUFF8gOZVOmyDFISnndoEEyVt27t+skMRG+sl68\nWMarH30UzjnHdRpv6dcP4uP16lp539q18PbbMgMk4GPV6cJX1oMGQfHi8NBDrpN4T8mScnWdnKwz\nQ5S3DRokm5I98ojrJDETrrJesgQ++EC2B01MdJ3Gm9J/+IcNc5tDqYx88w28+SZ07x6q9RHhKutn\nnpEbEd26uU7iXWXKQMuWMHEi7NzpOo1SfzR0KOTNG6qraghTWa9ZA3PmwMMPy00JlbG+fWVf4FGj\nXCdR6re2bIHXX4d27aBECddpYio8ZT10qJz+0r276yTeV748NG4sZX3ggOs0Sv3qpZfgxInQXVVD\nWMp682a5adauXajGuHKkXz/45ReYMMF1EqXE3r0wbhzcey9cfLHrNDEXjrIeOVIOww3hq3G23XCD\nHHH24ot6mozyhvHjZUvfvn1dJ3Ei+GW9b5+8GjdtCuXKuU7jL/36yRhhcrLrJCrsjh6FESOgbl2o\nXNl1GieCX9YTJ0phP/qo6yT+U68eVKwoV9d6ErpyKTkZtm4N7VU1BL2sjx+XV+OaNaFqVddp/McY\nGTpauxbmznWdRoXVyZNyqlGlSnJlHVLBLuvp0+WkY72qzr5mzWRl4/DhrpOosPrgA1kI8+ijcgER\nUsEta2tlut6VV8Ktt7pO418JCbKI6KOP5ApbqVgbMUI2Gmva1HUSp4Jb1vPny8bkvXuH+tU4Ijp3\nlhVjI0a4TqLCZvVq+OQTWR8RH+86jVPBLeuXXpI51S1auE7if8WLy6nRr78OO3a4TqPCZORI2R1T\ntzMOaFlv2ACzZ0OnTroNaqT06gVHjsg0SKViYedOuUBo1UoXsxHUsn75ZciVC7p2dZ0kOMqXl7H/\n0aN1kYyKjQkT5ALh4YddJ/GE4JX1gQNyUnfTplC6tOs0wdK7N2zbJrNslIqm48flwqB+fahQwXUa\nTwheWU+ZInsI6Ktx5NWtK0+cUaN0kYyKrhkzZPVsCA7CzaxglfXJk1Ik110Hf/2r6zTBY4zclV+2\nDP77X9dpVJCNGAGXXQYNGrhO4hnBKuu5c2H9ermq1ul60dGqFRQsKPcFlIqG//5XPnr0kHtPCgha\nWY8cCeefL1soqujInx/atIG33pLxa6UibfRo+Tlr3dp1Ek8JTln/8AN8+KEs4EhIcJ0m2Lp2hWPH\nICnJdRIVNDt3yvmKrVvLOzh1SnDKevx4ecukk+ej74orZEe+sWPl1A6lImXyZJkaqtNu/yAYZX34\nsEzXa9xY9hBQ0de9u5zAM3u26yQqKFJT5QKgZk3Z00f9RjDK+q23YPdufTWOpdtvh4su0huNKnI+\n+AA2btTncQaCUdZjxshb81q1XCcJj7g4eVLNmyeb7SiVU6NHQ6lS8g5Z/YH/y3rpUpnm07WrTteL\ntfbtIU8e3S9E5dz338sEgU6dQr+7Xkb8X9Zjx0K+fDrNx4VixWSa5GuvyTJ/pbJr7FjInVvKWp2R\nv8t6926YOhVatoRChVynCaeHHoL9+2HaNNdJlF8dPgyvvAJ33y2nEqkz8ndZv/qq7MrVpYvrJOFV\nrRpcfbVcGel+ISo7ZsyAX37R5/FZ+LesrZW51TfeKCdwKzeMkavrFSvk/oFSWTVunOwDUrOm6ySe\n5t+ynjcPvv1WViwqt1q2hMREvdGosm7VKli0SJ7HOkHgT/m3rMePh8KF4b77XCdRBQvK8WnTpsnb\nWaUya/x4mVHUpo3rJJ7nz7Levh1mzpQZIHpslzd07iw3il5/3XUS5RcHD8rPy7336rFdmeDPsn71\nVTlJQodAvKNKFdlHfNw4vdGoMmf6dNi3T5/HmeS/sj55Us5mu+kmPe7Hax56CNatgy++cJ1E+cH4\n8bIHSPXqrpP4gv/K+rPPZDtUfTX2nmbNZPx64kTXSZTXLV8OS5bojcUs8F9Zjx8PRYvKgbjKWxIT\n4YEH4O23ZcGSUhkZP17uN7Vq5TqJb/irrH/+Gd59V+4c583rOo06k06dZD/iN95wnUR51YEDsvK4\nWTOZ0aUyxV9l/eqrstm97h/gXRUryo3GCRP0RqM6s+nTpbD1oJAs8U9Znzwpx0jVqCHboSrv6tgR\n1qyBf//bdRLlRRMnyo3FG290ncRX/FPW8+bJjUV9Nfa+5s3lwNMJE1wnUV6zcqVsadyxo95YzCL/\nlHVSkoxv3XOP6yTqbAoUkBWNb74Je/e6TqO8ZOJEWbGoNxazzB9lvWsXvPOO/A/WFYv+0LGjrGhM\nTnadRHnFoUOyYvGee2RGl8oSf5T166/DsWPQoYPrJCqzqlSBSpX0RqP61YwZ8k5LhzKzxftlba28\ndbr+erjmGtdpVGYZI0/Kr7+GZctcp1FeMHEiXHop3HKL6yS+5P2yXrwY1q7VV2M/atFChq2Sklwn\nUa6tWwcLF+qNxRzwfllPnCgzC5o3d51EZVWhQrKF7dSpekZj2CUlyRmLuhVqtnm7rPfuhbfegvvv\nl8JW/tOhg5zR+PbbrpMoV44elUOVGzeGc891nca3vF3W06bJHWQdAvGv6tVlEZMOhYTXnDmwc6dO\nEMghb5d1UhJcey1Ureo6icouY+RJumiRrGpU4ZOUBGXKQN26rpP4mnfLesUKmUXQvr3ekPC7Vq0g\nPh4mTXKdRMXaxo3w8cfQrh3ExblO42veLetJk2Sl0wMPuE6icurcc6FRIxm3PHrUdRoVS6+8Ir+2\nbes2RwB4s6wPH5YtNnWlU3B06CArUWfPdp1ExUpqKkyeDA0ayDCIyhFvlvU778hMEL0hERz16sFF\nF+kpMmEydy6kpOjzOEK8WdZJSXDJJbrSKUhy5ZJxy08+gQ0bXKdRsZCUBCVKwJ13uk4SCN4r62+/\nhfnz5cZiLu/FUznQtq3cLE4fx1TBtW2bTNlr0wYSElynCQTvteHkyXLXWFc6Bc+FF0LDhvL/ODXV\ndRoVTa+9Jqc6tW/vOklgeKusjx+Xo7tuvx1KlXKdRkVDhw6weTN89JHrJCparJUhkJtu0lOdIihi\nZW2M6WSMWWqMWbpjx47sPciWLVLSekMiuO64Q8YxdUVjcC1cKMOZ+jyOqIiVtbV2grW2qrW2aokS\nJbL3IBddBMuXyxNaBVNCggxxvfeejGuq4Jk0CQoWhKZNXScJlLOWtTGmmzHmq7SPj9N+je5lka5Y\nDLb27WU887XXXCdRkXb65muJia7TBMpZy9paO9paWzHto17ar/r+RmXfFVfIeGZSkp4iEzTTpsmi\nNh0CiThv3WBU4dGhg4xrLlzoOomKpPTN16pUcZ0kcLSslRtNm8q4pq5oDI70zdc6dNChzCjQslZu\nJCbKsV8zZsCePa7TqEjQzdeiSstaudOhg4xvTp3qOonKqfTN15o2hSJFXKcJJC1r5U6VKlCpks65\nDoIZM2QmiK5YjBota+VWhw4y1rl8ueskKicmToS//AVq1nSdJLC0rJVbLVrAOefojUY/W78evvhC\nbyxGmZa1cqtwYbj3Xhm3PnjQdRqVHUlJkDu3br4WZVrWyr0OHWDfPhn3VP5y7BhMmSJ7Vp9/vus0\ngaZlrdy76Sa4/HIdCvGjOXNgxw7o2NF1ksDTslbuGSNX119+CevWuU6jsmLiRNmnvH5910kCT8ta\neUPr1jLuqdP4/GPjRvj4YzmuLS7OdZrA07JW3nDuudC4sYx/Hj3qOo3KjEmT5Nd27dzmCAkta+Ud\nnTrBrl0wc6brJOpsTpyQszQbNoQyZVynCQUta+UddepAuXIwYYLrJOpsPvhAjmfTrVBjRstaeUeu\nXDKrYN482T5Vedf48TJV7847XScJDS1r5S1t28qNRp3G512bNsmVdfv2EB/vOk1oaFkrbzn/fGjU\nSE651xuN3jRpkpzwo0MgMaVlrbynUyfYuRPefdd1EvV7J05IWTdoAGXLuk4TKlrWynvq1pUi0BuN\n3vP++3JjsXNn10lCR8taeU/6jcbPPoPvvnOdRp1uwgQoWRJuv911ktDRslbe1LatrIrTq2vv0BuL\nTmlZK28qWVJWNL7yChw54jqNAr2x6JiWtfKuLl1kRaNunepe+o3Fhg3hootcpwklLWvlXbVqwaWX\nwtixrpOoOXPkxuJDD7lOElpa1sq7cuWScli0CFaudJ0m3MaOlT1A9MaiM1rWytsefBDy5NGra5fW\nr4dPPpHperoVqjNa1srbihaFZs3gjTdg/37XacJp3DiZ/dG+veskoaZlrbyvSxc4cACSk10nCZ9D\nh2Tp/z33wHnnuU4TalrWyvtuuAEqVpShEGtdpwmX6dNhzx55wVROaVkr7zNGymLlSrnZqGJnzBi4\n8kq4+WbXSUJPy1r5Q4sWUKgQvPyy6yThsWQJLFsGXbvKC6ZySsta+UP+/LIEfcYM2LrVdZpwGDMG\nEhOhZUvXSRRa1spPunWD1FQ5pURF144dMG0atGoFBQu6TqPQslZ+8pe/wK23SlkfO+Y6TbBNnCiH\nP/To4TqJSqNlrfyle3f4+WfdLySajh+XIZC6daFCBddpVBota+UvDRrIfiF6ozF6Zs2SfUB69nSd\nRJ1Gy1r5S65cMna9eLHMVFCRN3IkXHwx3Hab6yTqNFrWyn8efFBmKYwa5TpJ8CxbBl9+KcNNug+I\np2hZK/8pVAjatJHVddu3u04TLKNGyQth27auk6jf0bJW/tSjh8xWGDfOdZLg2L5dpuu1aQOFC7tO\no35Hy1r50xVXyN7Ko0frsV+RMmGCTIns3t11EnUGWtbKvx55RK4GdTe+nDt6VGbYNGgA5cu7TqPO\nQMta+VetWnDttTBsmO7Gl1PJybBtG/ztb66TqAxoWSv/Mgb69IG1a2HuXNdp/OvkSRg6VF746tRx\nnUZlQMta+VuzZlCypFxdq+z58ENYt06uqnV3Pc/Sslb+lpAgM0PmzoVVq1yn8aehQ+GCC+SFT3mW\nlrXyv86dIV8+GD7cdRL/Wb4cPv8cevWScxaVZ2lZK/8rWlRWNSYnw5YtrtP4y4svQoEC0LGj6yTq\nLLSsVTD06SN7XevYdeZt2gRvvilFXaiQ6zTqLLSsVTBcfDE0by4rGnftcp3GH9Jf2B5+2G0OlSla\n1io4+vWDgwd1g6fM2L5dViy2agVlyrhOozJBy1oFx1VXQaNGssXn/v2u03jb8OGyTL9fP9dJVCZp\nWatg6d8ffvlFrhrVme3eLUvL77sPLr/cdRqVSVrWKlhuuAFq15ZZDkePuk7jTaNGwYEDMGCA6yQq\nC7SsVfAMGABbt8KUKa6TeM/+/fDSSzJcdM01rtOoLNCyVsFTuzZcfz0895wc/qp+NXasDBP9/e+u\nk6gs0rJWwWMMPPkkbNgAr7ziOo13HDokw0P168N117lOo7JIy1oF0623wo03wqBBejhBunHjZMre\n44+7TqKyQctaBZMxUtQpKTBxous07u3bB4MHQ716cPPNrtOobNCyVsFVuzbccgs8+6wMAYTZ8OGy\nsnPwYNdJVDbljtUXOn78OCkpKRwJ8VvSvHnzUrp0aeJ1d7PYSL+6rlEDxowJ7ykoO3fKWHWTJlC1\nqus0KptiVtYpKSkUKFCAsmXLYkK4wbm1ll27dpGSkkK5cuVcxwmPm2+WG2rPPSdbqRYo4DpR7A0Z\nIsvwBw1ynUTlQMyGQY4cOUKxYsVCWdQAxhiKFSsW6ncWzgwaJEMAI0a4ThJ7mzfLasVWraBCBddp\nVA7EdMw6rEWdLuzfvzPXXy+LQJ5/Xg6FDZNBg2Tr2CefdJ1E5ZDeYFTh8PzzMoXviSdcJ4mdb7+F\nSZOgUyfQoTff07JW4XDZZdCtm5TXypWu08TGI4/AOeeE6wUqwLSsVXgMHCgnovTpA9a6ThNdH3wA\n//d/8j2fd57rNCoCtKyBRYsWMXDgwD/9nMOHD3PLLbeQmpqa4eccO3aMGjVqcOLEiUhHVJFQtKiM\n3X7yCbz/vus00XP8OPTuDZdeCj17uk6jIkTLGqhWrRpPP/30n37O5MmTadKkCXFxcRl+TkJCAnXq\n1OHNN9+MdEQVKV27ypBInz7B3eTp5Zdh/XpZCJOQ4DqNipCYzbP+jV694KuvIvuYFStmamrWlClT\nGDlyJMePH6dgwYIsXLiQe++9l549ezJ8+HAqVKjAggUL2LhxI5MnT6Zu3boAJCcnM3Xq1FOPU6tW\nLQYMGEC9evV4/PHH2bt3L6NGjaJx48b079+fBx54ILLfn4qM+HgYOhTuuksWygTt/MHt2+Gpp6Bh\nQ7jtNtdpVAS5KWtH9u/fz5AhQ/jqq69ISEhgz549AKxevZprrrmGVatWUa1aNRYsWMCsWbNITk6m\nbt26HDt2jB9//JGyZcueeqynnnqKgQMHsn37dlasWMGcOXMAuOqqq1iyZImLb09l1h13QIMGsqFR\nkyZw4YWuE0XO44/LApjhw2UFpwoMN2XtaHFCXFwchw8fpk+fPrRp04aqVaty5MgRjh07Rnx8PHv3\n7qV3796ALI8vXLgwADt37jz1z+lq1KiBtZZhw4Yxb968U8MjcXFxJCQksH//fgqEcbWcHxgj+zpf\neaXMEJk9OxjFtngxJCXJO9crrnCdRkVYqMas8+XLx+rVq6levTqdOnVizJgxrFmzhgoVKrB27Vqq\nVKlyqnRXrlzJVVddBcA555zzh5WHq1atYuvWrSQkJPyhlI8ePUrevHlj802p7ClXDp5+Gt57D2bO\ndJ0m544cgXbt5F3CU0+5TqOiIFRl/d1335GYmEjz5s254447OHLkCKtWrTo1BFKxYsVTn7ty5Uqu\nSTv2qEiRIqSmpp4q7K1bt/LAAw8we/Zs8ufPz4cffnjqv9u1axfFixfXzZr8oFcvudfRowekDYn5\n1qBB8M03sh2svqMLpFCV9bPPPsvll19O5cqV2bBhA127ds2wrFevXn3qyhqgfv36LFy4kEOHDtGk\nSRNefPFFypcvzxNPPMFTp13JfP7559x+++0x/b5UNuXOLeW2bRv06+c6TfYtXy6bNbVtK5tWqWCy\n1kb8o0qVKvb31q5d+4ff85Nly5bZli1bnvXz7r77brt+/foM/9zvfw+B1Lu3tWDtvHmuk2TdsWPW\nXnuttSVLWrt7t+s0KoeApTaDXg3VlXVOVK5cmVq1ap11UUzjxo257LLLYphM5djTT8Mll0DLlrB7\nt+s0WTNkCHz9tRzZVaSI6zQqirSss6Bdu3ZnXRTTunXrGCZSEZE/P0yfLsMh7dr5Zyn6okVyM/H+\n+2XeuAo0LWulQE5Qee45mcY3ZozrNGe3cyc0awZlysg0RBV4WtZKpevVS05F79NHhha86uRJGbLZ\nsQNmzJDNqVTgaVkrlS5XLnj1VRn7bd4cDhxwnejMnn0WPvoIRo6ESpVcp1ExomWt1OnOPReSk2Xj\n/ubNwWs7KH76qewc2LIldOzoOo2KIS1rpX6vdm0YPVr2g+7Rwzs3HFetgqZNoXx5mf0RhCXyKtNC\ntZGTUpn20EOwcaNMjStXDvr2dZtnwwbZfCpfPnkRSUx0m0fFnJa1UhkZPBh++gkee0xmXTRv7ibH\ntm2yMvHIEViwAE7b/VGFhw6DoCfFqAyk33CsUQNat5aZF7G2d6/sTb1li1xRn7YFggoXLWv0pBj1\nJ/LkgXffheuug/vui+2c5i1bZPx89Wp45x248cbYfW3lOU6GQZ56bw1rt+yL6GNWKFWQJ++88qyf\npyfFqCwrUgQ+/lgWoXTtKsMSTz4Z3Rt8K1bAnXfKlfW778rVtQq1UI1Z60kxKtvy5YNZs6BTJ1ni\nvXkzvPSS/H6kvfeeLCEvWhS+/BLStupV4eakrDNzBRwNelKMypHcuWHSJChZUm4+zp8PkyfDTTdF\n5vEPHpR9qZ9/Xpa/z54tX0spQjZmrSfFqBwzRlYQfvqpnI5eowb07g2HDmX/Ma2VMeny5X/dl3re\nPC1q9RuhKms9KUZFTO3askilSxc5U/SSS2QcOyUl849x4gTMnSv7kTRtKmPjCxfK1Xs0hleUr4Wq\nrPWkGBVR+fPLSscFC6BKFRnCKFsW7rkHXnsNliyB/ft//fwTJ2Sse8EC6NkTLrhAFrr85z9S+MuW\nQfXqzr4d5XEZnUqQkw89KUZPigmlH3+09rHHrC1WTE6eSf8oVcraEiWsNebX38uTx9qmTa2dOdPa\nw4ddJ1cewZ+cFBOq2SA5cZ8JuTIAAAU/SURBVPpJMRnNtdaTYkKuXDnZE/uZZ+D772HdOvn49luZ\nr12yJJx/vlxR16ihW5uqLDE2CpvUVK1a1S5duvQ3v7du3TrKly8f8a/lN/r3oJTKiDFmmbW26pn+\nLFRj1kop5VcxLetoXMX7Sdi/f6VU9sWsrPPmzcuuXbtCW1jWWnbt2qXzr5VS2RKzG4ylS5cmJSWF\nHTt2xOpLek7evHkpXbq06xhKKR+KWVnHx8dTrly5WH05pZQKFL3BqJRSPqBlrZRSPqBlrZRSPhCV\nRTHGmB3ATzl4iOLAzgjFiSSv5gLvZvNqLvBuNq/mAu9m82ouyFq2i6y1Jc70B1Ep65wyxizNaBWP\nS17NBd7N5tVc4N1sXs0F3s3m1VwQuWw6DKKUUj6gZa2UUj7g1bKe4DpABryaC7ybzau5wLvZvJoL\nvJvNq7kgQtk8OWatlFLqt7x6Za2UUuo0WtZKKeUDniprY0xDY8x6Y8z3xph+rvOkM8ZMNsZsN8as\ndp3ldMaYC40xnxtj1hpj1hhjHnadKZ0xJq8x5r/GmK/Tsj119v8qdowxccaYFcaYf7nOcjpjzEZj\nzCpjzFfGmKVn/y9iwxhT2BgzwxjzjTFmnTHmRteZAIwxl6f9XaV/7DPG9HKdC8AY0zvtZ3+1MWaa\nMSZHW256ZszaGBMHfAvUA1KAJcD91tq1ToMBxpgawAHgNWvtVWf7/FgxxpQESlprlxtjCgDLgMYe\n+TszQKK19oAxJh5YCDxsrf2342gAGGMeAaoCBa21d7jOk84YsxGoaq311AIPY8wU4AtrbZIxJgHI\nZ63d4zrX6dI6ZDNwg7U2J4vyIpHlAuRnvoK19rAx5i3gfWvtq9l9TC9dWV8PfG+t/dFaewyYDjRy\nnAkAa+0CYLfrHL9nrd1qrV2e9s/7gXXABW5TibTzPw+k/Wt82ocnrgyMMaWB24Ek11n8wBhTCKgB\nTAKw1h7zWlGnqQP84LqoT5MbOMcYkxvIB2zJyYN5qawvAP532r+n4JHi8QNjTFmgEvAft0l+lTbU\n8BWwHfjYWuuVbCOAvsBJ10HOwAJzjTHLjDGdXIdJUw7YAbySNnSUZIxJdB3qDJoD01yHALDWbgaG\nApuArcBea+3cnDyml8paZZMxJj/wDtDLWrvPdZ501tpUa21FoDRwvTHG+RCSMeYOYLu1dpnrLBm4\nyVpbGbgV6JY2BOdabqAyMNZaWwk4CHjmnhJA2tDMXcDbrrMAGGOKICMD5YBSQKIxpmVOHtNLZb0Z\nuPC0fy+d9nvqT6SNB78DJFtrZ7rOcyZpb5k/Bxq6zgJUB+5KGxueDtQ2xrzhNtKv0q7IsNZuB2Yh\nw4OupQApp70zmoGUt5fcCiy31m5zHSRNXWCDtXaHtfY4MBOolpMH9FJZLwEuNcaUS3uVbA7McZzJ\n09Ju4k0C1llrh7nOczpjTAljTOG0fz4HuXH8jdtUYK3tb60tba0ti/yMfWatzdEVT6QYYxLTbhST\nNsxQH3A+A8la+zPwP2PM5Wm/VQdwfhP7d+7HI0MgaTYBfzXG5Et7ntZB7illW8yO9Toba+0JY0x3\n4CMgDphsrV3jOBYAxphpQE2guDEmBXjSWjvJbSpArhJbAavSxoYBBlhr33eYKV1JYEraHfpcwFvW\nWk9Nk/Og84BZ8twmNzDVWvuh20in9ACS0y6kfgTaOs5zStoLWz2gs+ss6ay1/zHGzACWAyeAFeRw\n2blnpu4ppZTKmJeGQZRSSmVAy1oppXxAy1oppXxAy1oppXxAy1oppXxAy1oppXxAy1oppXzg/wFU\nWNBffU3G4gAAAABJRU5ErkJggg==\n",
            "text/plain": [
              "<Figure size 432x288 with 1 Axes>"
            ]
          },
          "metadata": {
            "tags": []
          }
        }
      ]
    },
    {
      "cell_type": "code",
      "metadata": {
        "id": "glvNIeg7cdmF",
        "colab_type": "code",
        "colab": {}
      },
      "source": [
        ""
      ],
      "execution_count": 0,
      "outputs": []
    },
    {
      "cell_type": "markdown",
      "metadata": {
        "id": "gsI5QdQGhwid",
        "colab_type": "text"
      },
      "source": [
        "Solución Péndulo Simple/(Como si fuera C)"
      ]
    },
    {
      "cell_type": "markdown",
      "metadata": {
        "id": "uFzNklmpigS4",
        "colab_type": "text"
      },
      "source": [
        "*Teoría*\n",
        "\n",
        "Comenzamos por definir nuestra ecuación diferencial\n",
        "la cual es la siguiente: $\\ddot{\\theta}+\\frac{g}{L} sin\\theta = 0$.\n",
        "La cual es una ecuación diferencial de segundo orden, se procede a separar en dos ecuacuaciones de primer orden de la siguiente manera:\n",
        "\n",
        "\n",
        "\n",
        "1.   $\\dot{z} = - \\frac{g}{L} \\theta$\n",
        "\n",
        "1.   $\\dot{\\theta} = z$\n",
        "\n",
        "Haciendo uso del Método de Euler:\n",
        "\n",
        "$y_{i+1} = y_i + h f(x,y,y')$\n"
      ]
    },
    {
      "cell_type": "code",
      "metadata": {
        "id": "c04lJ9e1h1Yh",
        "colab_type": "code",
        "colab": {
          "base_uri": "https://localhost:8080/",
          "height": 1000
        },
        "outputId": "3479f1fe-582e-4729-cdfe-2ea2dfb20613"
      },
      "source": [
        "xi = 0\n",
        "xf = 100\n",
        "N = 100\n",
        "y1 = 0\n",
        "y2 = 0.5\n",
        "h = (xf-xi)/N\n",
        "y_=y2\n",
        "\n",
        "x = []\n",
        "ysol = []\n",
        "y_sol = []\n",
        "\n",
        "for i in range(0,N):\n",
        "  y = y1 + h*(-9.81/2)*y_\n",
        "  y_ = y2 + h * y\n",
        "\n",
        "  x.append(xi)\n",
        "  ysol.append(y)\n",
        "  y_sol.append(y_)\n",
        "\n",
        "  xi = xi + h\n",
        "\n",
        "plt.plot(x,ysol)\n",
        "plt.plot(x,y_sol)\n",
        "x,ysol,y_sol\n",
        "\n",
        "\n",
        "\n"
      ],
      "execution_count": 57,
      "outputs": [
        {
          "output_type": "execute_result",
          "data": {
            "text/plain": [
              "([0,\n",
              "  1.0,\n",
              "  2.0,\n",
              "  3.0,\n",
              "  4.0,\n",
              "  5.0,\n",
              "  6.0,\n",
              "  7.0,\n",
              "  8.0,\n",
              "  9.0,\n",
              "  10.0,\n",
              "  11.0,\n",
              "  12.0,\n",
              "  13.0,\n",
              "  14.0,\n",
              "  15.0,\n",
              "  16.0,\n",
              "  17.0,\n",
              "  18.0,\n",
              "  19.0,\n",
              "  20.0,\n",
              "  21.0,\n",
              "  22.0,\n",
              "  23.0,\n",
              "  24.0,\n",
              "  25.0,\n",
              "  26.0,\n",
              "  27.0,\n",
              "  28.0,\n",
              "  29.0,\n",
              "  30.0,\n",
              "  31.0,\n",
              "  32.0,\n",
              "  33.0,\n",
              "  34.0,\n",
              "  35.0,\n",
              "  36.0,\n",
              "  37.0,\n",
              "  38.0,\n",
              "  39.0,\n",
              "  40.0,\n",
              "  41.0,\n",
              "  42.0,\n",
              "  43.0,\n",
              "  44.0,\n",
              "  45.0,\n",
              "  46.0,\n",
              "  47.0,\n",
              "  48.0,\n",
              "  49.0,\n",
              "  50.0,\n",
              "  51.0,\n",
              "  52.0,\n",
              "  53.0,\n",
              "  54.0,\n",
              "  55.0,\n",
              "  56.0,\n",
              "  57.0,\n",
              "  58.0,\n",
              "  59.0,\n",
              "  60.0,\n",
              "  61.0,\n",
              "  62.0,\n",
              "  63.0,\n",
              "  64.0,\n",
              "  65.0,\n",
              "  66.0,\n",
              "  67.0,\n",
              "  68.0,\n",
              "  69.0,\n",
              "  70.0,\n",
              "  71.0,\n",
              "  72.0,\n",
              "  73.0,\n",
              "  74.0,\n",
              "  75.0,\n",
              "  76.0,\n",
              "  77.0,\n",
              "  78.0,\n",
              "  79.0,\n",
              "  80.0,\n",
              "  81.0,\n",
              "  82.0,\n",
              "  83.0,\n",
              "  84.0,\n",
              "  85.0,\n",
              "  86.0,\n",
              "  87.0,\n",
              "  88.0,\n",
              "  89.0,\n",
              "  90.0,\n",
              "  91.0,\n",
              "  92.0,\n",
              "  93.0,\n",
              "  94.0,\n",
              "  95.0,\n",
              "  96.0,\n",
              "  97.0,\n",
              "  98.0,\n",
              "  99.0],\n",
              " [-2.4525,\n",
              "  9.5770125,\n",
              "  -49.427746312500005,\n",
              "  239.99059566281255,\n",
              "  -1179.6063717260956,\n",
              "  5783.5167533164995,\n",
              "  -28370.602175017433,\n",
              "  139155.3511684605,\n",
              "  -682559.4499812988,\n",
              "  3347951.6496582706,\n",
              "  -16421705.294073818,\n",
              "  80548462.01493208,\n",
              "  -395090208.6357419,\n",
              "  1937917470.9058142,\n",
              "  -9505485197.24552,\n",
              "  46624404890.03677,\n",
              "  -228692705988.0829,\n",
              "  1121737722869.094,\n",
              "  -5502123530675.358,\n",
              "  26987915917960.184,\n",
              "  -132375727577597.16,\n",
              "  649302943768111.6,\n",
              "  -3184830939182590.0,\n",
              "  1.5621595756690602e+16,\n",
              "  -7.662392718656741e+16,\n",
              "  3.7584036285011315e+17,\n",
              "  -1.8434969797798052e+18,\n",
              "  9.042352685819945e+18,\n",
              "  -4.435273992394683e+19,\n",
              "  2.175501893269592e+20,\n",
              "  -1.067083678648735e+21,\n",
              "  5.234045443772046e+21,\n",
              "  -2.5672992901701883e+22,\n",
              "  1.2592603018284775e+23,\n",
              "  -6.176671780468682e+23,\n",
              "  3.029657508319889e+24,\n",
              "  -1.4860470078309056e+25,\n",
              "  7.289060573410592e+25,\n",
              "  -3.5752842112578956e+26,\n",
              "  1.7536769056219978e+27,\n",
              "  -8.6017852220759e+27,\n",
              "  4.219175651428229e+28,\n",
              "  -2.0695056570255466e+29,\n",
              "  1.0150925247710307e+30,\n",
              "  -4.979028834001906e+30,\n",
              "  2.442213643077935e+31,\n",
              "  -1.1979057919297272e+32,\n",
              "  5.8757279094153125e+32,\n",
              "  -2.8820445395682107e+33,\n",
              "  1.4136428466582074e+34,\n",
              "  -6.933918162858508e+34,\n",
              "  3.401086858882098e+35,\n",
              "  -1.6682331042816694e+36,\n",
              "  8.18268337650159e+36,\n",
              "  -4.01360619617403e+37,\n",
              "  1.9686738392233616e+38,\n",
              "  -9.65634518139059e+38,\n",
              "  4.7364373114720846e+39,\n",
              "  -2.3232225012770576e+40,\n",
              "  1.1395406368763967e+41,\n",
              "  -5.589446823878726e+41,\n",
              "  2.7416236671125153e+42,\n",
              "  -1.3447664087186888e+43,\n",
              "  6.596079234765169e+43,\n",
              "  -3.2353768646523156e+44,\n",
              "  1.5869523521119608e+45,\n",
              "  -7.784001287109168e+45,\n",
              "  3.818052631327047e+46,\n",
              "  -1.8727548156659165e+47,\n",
              "  9.185862370841321e+47,\n",
              "  -4.505665492897668e+48,\n",
              "  2.2100289242663063e+49,\n",
              "  -1.0840191873526233e+50,\n",
              "  5.317114113964617e+50,\n",
              "  -2.608044472899645e+51,\n",
              "  1.279245813957276e+52,\n",
              "  -6.274700717460439e+52,\n",
              "  3.0777407019143455e+53,\n",
              "  -1.5096318142889866e+54,\n",
              "  7.40474404908748e+54,\n",
              "  -3.632026956077409e+55,\n",
              "  1.7815092219559692e+56,\n",
              "  -8.738302733694029e+56,\n",
              "  4.286137490876921e+57,\n",
              "  -2.10235043927513e+58,\n",
              "  1.0312028904644513e+59,\n",
              "  -5.058050177728134e+59,\n",
              "  2.48097361217565e+60,\n",
              "  -1.2169175567721563e+61,\n",
              "  5.968980615967426e+61,\n",
              "  -2.927784992132023e+62,\n",
              "  1.4360785386407573e+63,\n",
              "  -7.043965232032915e+63,\n",
              "  3.4550649463121455e+64,\n",
              "  -1.6947093561661074e+65,\n",
              "  8.312549391994757e+65,\n",
              "  -4.0773054767734284e+66,\n",
              "  1.9999183363573666e+67,\n",
              "  -9.809599439832883e+67,\n",
              "  4.81160852523803e+68],\n",
              " [-1.9525000000000001,\n",
              "  10.0770125,\n",
              "  -48.927746312500005,\n",
              "  240.49059566281255,\n",
              "  -1179.1063717260956,\n",
              "  5784.0167533164995,\n",
              "  -28370.102175017433,\n",
              "  139155.8511684605,\n",
              "  -682558.9499812988,\n",
              "  3347952.1496582706,\n",
              "  -16421704.794073818,\n",
              "  80548462.51493208,\n",
              "  -395090208.1357419,\n",
              "  1937917471.4058142,\n",
              "  -9505485196.74552,\n",
              "  46624404890.53677,\n",
              "  -228692705987.5829,\n",
              "  1121737722869.594,\n",
              "  -5502123530674.858,\n",
              "  26987915917960.684,\n",
              "  -132375727577596.66,\n",
              "  649302943768112.1,\n",
              "  -3184830939182589.5,\n",
              "  1.5621595756690602e+16,\n",
              "  -7.662392718656741e+16,\n",
              "  3.7584036285011315e+17,\n",
              "  -1.8434969797798052e+18,\n",
              "  9.042352685819945e+18,\n",
              "  -4.435273992394683e+19,\n",
              "  2.175501893269592e+20,\n",
              "  -1.067083678648735e+21,\n",
              "  5.234045443772046e+21,\n",
              "  -2.5672992901701883e+22,\n",
              "  1.2592603018284775e+23,\n",
              "  -6.176671780468682e+23,\n",
              "  3.029657508319889e+24,\n",
              "  -1.4860470078309056e+25,\n",
              "  7.289060573410592e+25,\n",
              "  -3.5752842112578956e+26,\n",
              "  1.7536769056219978e+27,\n",
              "  -8.6017852220759e+27,\n",
              "  4.219175651428229e+28,\n",
              "  -2.0695056570255466e+29,\n",
              "  1.0150925247710307e+30,\n",
              "  -4.979028834001906e+30,\n",
              "  2.442213643077935e+31,\n",
              "  -1.1979057919297272e+32,\n",
              "  5.8757279094153125e+32,\n",
              "  -2.8820445395682107e+33,\n",
              "  1.4136428466582074e+34,\n",
              "  -6.933918162858508e+34,\n",
              "  3.401086858882098e+35,\n",
              "  -1.6682331042816694e+36,\n",
              "  8.18268337650159e+36,\n",
              "  -4.01360619617403e+37,\n",
              "  1.9686738392233616e+38,\n",
              "  -9.65634518139059e+38,\n",
              "  4.7364373114720846e+39,\n",
              "  -2.3232225012770576e+40,\n",
              "  1.1395406368763967e+41,\n",
              "  -5.589446823878726e+41,\n",
              "  2.7416236671125153e+42,\n",
              "  -1.3447664087186888e+43,\n",
              "  6.596079234765169e+43,\n",
              "  -3.2353768646523156e+44,\n",
              "  1.5869523521119608e+45,\n",
              "  -7.784001287109168e+45,\n",
              "  3.818052631327047e+46,\n",
              "  -1.8727548156659165e+47,\n",
              "  9.185862370841321e+47,\n",
              "  -4.505665492897668e+48,\n",
              "  2.2100289242663063e+49,\n",
              "  -1.0840191873526233e+50,\n",
              "  5.317114113964617e+50,\n",
              "  -2.608044472899645e+51,\n",
              "  1.279245813957276e+52,\n",
              "  -6.274700717460439e+52,\n",
              "  3.0777407019143455e+53,\n",
              "  -1.5096318142889866e+54,\n",
              "  7.40474404908748e+54,\n",
              "  -3.632026956077409e+55,\n",
              "  1.7815092219559692e+56,\n",
              "  -8.738302733694029e+56,\n",
              "  4.286137490876921e+57,\n",
              "  -2.10235043927513e+58,\n",
              "  1.0312028904644513e+59,\n",
              "  -5.058050177728134e+59,\n",
              "  2.48097361217565e+60,\n",
              "  -1.2169175567721563e+61,\n",
              "  5.968980615967426e+61,\n",
              "  -2.927784992132023e+62,\n",
              "  1.4360785386407573e+63,\n",
              "  -7.043965232032915e+63,\n",
              "  3.4550649463121455e+64,\n",
              "  -1.6947093561661074e+65,\n",
              "  8.312549391994757e+65,\n",
              "  -4.0773054767734284e+66,\n",
              "  1.9999183363573666e+67,\n",
              "  -9.809599439832883e+67,\n",
              "  4.81160852523803e+68])"
            ]
          },
          "metadata": {
            "tags": []
          },
          "execution_count": 57
        },
        {
          "output_type": "display_data",
          "data": {
            "image/png": "iVBORw0KGgoAAAANSUhEUgAAAXIAAAEDCAYAAAAoWo9tAAAABHNCSVQICAgIfAhkiAAAAAlwSFlz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\n",
            "text/plain": [
              "<Figure size 432x288 with 1 Axes>"
            ]
          },
          "metadata": {
            "tags": []
          }
        }
      ]
    },
    {
      "cell_type": "code",
      "metadata": {
        "id": "hoQXgVyTnISk",
        "colab_type": "code",
        "colab": {}
      },
      "source": [
        ""
      ],
      "execution_count": 0,
      "outputs": []
    }
  ]
}
