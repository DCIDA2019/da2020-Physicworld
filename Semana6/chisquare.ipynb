{
  "nbformat": 4,
  "nbformat_minor": 0,
  "metadata": {
    "colab": {
      "name": "chisquare.ipynb",
      "provenance": [],
      "collapsed_sections": [],
      "toc_visible": true
    },
    "kernelspec": {
      "name": "python3",
      "display_name": "Python 3"
    }
  },
  "cells": [
    {
      "cell_type": "code",
      "metadata": {
        "id": "iZE0t4MUNXQx",
        "colab_type": "code",
        "colab": {}
      },
      "source": [
        "import matplotlib.pyplot as plt\n",
        "import numpy as np\n",
        "from mpl_toolkits.mplot3d import Axes3D"
      ],
      "execution_count": 0,
      "outputs": []
    },
    {
      "cell_type": "code",
      "metadata": {
        "id": "rC4UORhFRXJm",
        "colab_type": "code",
        "outputId": "e624f2bd-a8a1-4b89-a330-ed52682a74b4",
        "colab": {
          "base_uri": "https://localhost:8080/",
          "height": 129
        }
      },
      "source": [
        "from google.colab import drive\n",
        "drive.mount('/content/gdrive')"
      ],
      "execution_count": 0,
      "outputs": [
        {
          "output_type": "stream",
          "text": [
            "Go to this URL in a browser: https://accounts.google.com/o/oauth2/auth?client_id=947318989803-6bn6qk8qdgf4n4g3pfee6491hc0brc4i.apps.googleusercontent.com&redirect_uri=urn%3aietf%3awg%3aoauth%3a2.0%3aoob&response_type=code&scope=email%20https%3a%2f%2fwww.googleapis.com%2fauth%2fdocs.test%20https%3a%2f%2fwww.googleapis.com%2fauth%2fdrive%20https%3a%2f%2fwww.googleapis.com%2fauth%2fdrive.photos.readonly%20https%3a%2f%2fwww.googleapis.com%2fauth%2fpeopleapi.readonly\n",
            "\n",
            "Enter your authorization code:\n",
            "··········\n",
            "Mounted at /content/gdrive\n"
          ],
          "name": "stdout"
        }
      ]
    },
    {
      "cell_type": "code",
      "metadata": {
        "id": "qc-uwsuVb3SK",
        "colab_type": "code",
        "colab": {}
      },
      "source": [
        "N = 10\n",
        "\n",
        "m = np.linspace(0, -2, N)\n",
        "b = np.linspace(2, 8, N)"
      ],
      "execution_count": 0,
      "outputs": []
    },
    {
      "cell_type": "code",
      "metadata": {
        "id": "Aj5w8XCOV9mb",
        "colab_type": "code",
        "colab": {}
      },
      "source": [
        "def f(x, m, b):\n",
        "  return m*x+b"
      ],
      "execution_count": 0,
      "outputs": []
    },
    {
      "cell_type": "code",
      "metadata": {
        "id": "nkUa8JEXOCf5",
        "colab_type": "code",
        "colab": {}
      },
      "source": [
        "def chi(data, m, b):\n",
        "  chi = ((data[1]-f(data[0], m, b))**2)/data[2]**2\n",
        "  return chi.sum()\n"
      ],
      "execution_count": 0,
      "outputs": []
    },
    {
      "cell_type": "code",
      "metadata": {
        "id": "A1pBL1IyT6CR",
        "colab_type": "code",
        "colab": {}
      },
      "source": [
        "root_path = 'gdrive/My Drive/Colab Notebooks/fit_exercise.npy'"
      ],
      "execution_count": 0,
      "outputs": []
    },
    {
      "cell_type": "code",
      "metadata": {
        "id": "YwExsd0aOH7H",
        "colab_type": "code",
        "colab": {}
      },
      "source": [
        "data = np.load(root_path)"
      ],
      "execution_count": 0,
      "outputs": []
    },
    {
      "cell_type": "code",
      "metadata": {
        "id": "Rx1HfoeDP0D7",
        "colab_type": "code",
        "outputId": "34951411-d8ba-47ad-e5e6-6cec1ecd3ac8",
        "colab": {
          "base_uri": "https://localhost:8080/",
          "height": 265
        }
      },
      "source": [
        "plt.errorbar(data[0], data[1], yerr=data[2])\n",
        "plt.show()"
      ],
      "execution_count": 0,
      "outputs": [
        {
          "output_type": "display_data",
          "data": {
            "image/png": "[encoded data removed]",
            "text/plain": [
              "<Figure size 432x288 with 1 Axes>"
            ]
          },
          "metadata": {
            "tags": []
          }
        }
      ]
    },
    {
      "cell_type": "code",
      "metadata": {
        "id": "Tkqrzyb5SzPG",
        "colab_type": "code",
        "outputId": "6c10866e-3c90-486e-9f30-692ca747619a",
        "colab": {
          "base_uri": "https://localhost:8080/",
          "height": 35
        }
      },
      "source": [
        "Vector = np.zeros((N,N))\n",
        "menor = 1000000000\n",
        "i0 = 0\n",
        "j0 = 0\n",
        "for i in range(len(m)):\n",
        "  for j in range(len(b)):\n",
        "    Vector[i][j] = chi(data, m[i], b[j])\n",
        "    if(Vector[i][j]<menor):\n",
        "      menor = Vector[i][j]\n",
        "      i0 = i\n",
        "      j0 = j\n",
        "\n",
        "print(menor, m[i0], b[j0])\n",
        "\n",
        "\n",
        "\n"
      ],
      "execution_count": 0,
      "outputs": [
        {
          "output_type": "stream",
          "text": [
            "1246.469283469469 -1.1111111111111112 5.333333333333333\n"
          ],
          "name": "stdout"
        }
      ]
    },
    {
      "cell_type": "code",
      "metadata": {
        "id": "bpmGp-qri4z_",
        "colab_type": "code",
        "colab": {}
      },
      "source": [
        "b_min, b_max = 2,8\n",
        "m_min, m_max = 2,0\n",
        "\n",
        "N = 100\n",
        "m0 = np.zeros(N)\n",
        "b0 = np.zeros(N)\n",
        "Vector_ = np.zeros(N)\n",
        "\n",
        "for i in range(N):\n",
        "  m, b = np.random.rand()*(m_max-m_min)+m_min, np.random.rand()*(b_max-b_min)+b_min\n",
        "  Vector_[i] = chi(data, m, b)\n",
        "  m0[i] = m\n",
        "  b0[i] = b\n",
        "\n",
        "#Hacer un histograma con los datos\n",
        "#Ahora Usar funcion optimize\n"
      ],
      "execution_count": 0,
      "outputs": []
    },
    {
      "cell_type": "code",
      "metadata": {
        "id": "u1RMY6L4kGV-",
        "colab_type": "code",
        "outputId": "b62de8d4-46da-41d1-9c94-a37e746835c2",
        "colab": {
          "base_uri": "https://localhost:8080/",
          "height": 476
        }
      },
      "source": [
        "Vector_"
      ],
      "execution_count": 0,
      "outputs": [
        {
          "output_type": "execute_result",
          "data": {
            "text/plain": [
              "array([131151.78153344, 153655.95981936,  58383.86543945, 195138.77231566,\n",
              "        31451.84935244,  78856.40078233,  71395.12347749,  14308.08195883,\n",
              "        61556.26992944,  58074.65788038, 253932.98378735, 154191.53954091,\n",
              "       120966.86022994, 113917.18204249, 103306.88109273, 215323.20723966,\n",
              "       191790.93352398, 110583.40533798, 185408.89215836,  64657.83785293,\n",
              "       165812.88057283,  53998.10450445,  21520.94366306, 106416.92175741,\n",
              "        51877.66672356,  47246.55697254, 157758.36061057,  97876.68615712,\n",
              "       143478.64865334,  49846.94056032, 235057.70668033, 145851.79567197,\n",
              "       109138.27700334, 163347.69780771,  67086.56169159,  66773.2398469 ,\n",
              "        48088.9977992 ,  53136.72601304, 110351.07971205,  56149.97043242,\n",
              "       200976.78139807, 191299.07890727, 189316.89984886, 114246.01524743,\n",
              "       160738.52222111,  90162.96789134, 188041.41936575, 122512.56415539,\n",
              "       127496.90877203,  83484.60831482,  85758.47020219, 184190.48396735,\n",
              "        49109.62757024, 202401.35503045,  70781.28431884, 112821.2673653 ,\n",
              "        24338.926331  , 252989.20196337,  75503.86972633, 235779.53448203,\n",
              "        76927.95323398,  46130.69089134,  83760.82258012,  93641.44964335,\n",
              "       126197.04264886, 123001.33066236,  85448.61059245, 178287.31094297,\n",
              "       142782.41790245, 153981.01779071, 113838.45846008,  49205.07971201,\n",
              "        38111.62964558,  97898.17478239, 170314.38924144,  80523.22907677,\n",
              "       245826.50963526, 127583.95571537, 150983.41756429, 280948.0008909 ,\n",
              "        82623.79266903,  65719.39254228,  34491.99252292, 139586.17657446,\n",
              "        17564.61045163,  66522.82522011,  25760.56392076,  48750.36480995,\n",
              "        55823.49164092, 175366.95647684,  97598.54528041, 147240.07241524,\n",
              "        37648.07256156, 162308.57029262,  37939.7660761 ,  30999.31459561,\n",
              "       263131.89243219,  44747.6521701 ,  66585.43352019, 188206.65792366])"
            ]
          },
          "metadata": {
            "tags": []
          },
          "execution_count": 124
        }
      ]
    },
    {
      "cell_type": "code",
      "metadata": {
        "id": "6sPG69Fg5HIp",
        "colab_type": "code",
        "colab": {}
      },
      "source": [
        ""
      ],
      "execution_count": 0,
      "outputs": []
    }
  ]
}