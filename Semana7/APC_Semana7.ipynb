{
  "nbformat": 4,
  "nbformat_minor": 0,
  "metadata": {
    "colab": {
      "name": "APC_Semana7.ipynb",
      "provenance": []
    },
    "kernelspec": {
      "name": "python3",
      "display_name": "Python 3"
    }
  },
  "cells": [
    {
      "cell_type": "code",
      "metadata": {
        "id": "ks0zeBzZf-rw",
        "colab_type": "code",
        "colab": {
          "base_uri": "https://localhost:8080/",
          "height": 73
        },
        "outputId": "b1532bdc-f8f7-4756-caa9-9a961fa43bc1"
      },
      "source": [
        "!pip install CosmoloPy"
      ],
      "execution_count": 59,
      "outputs": [
        {
          "output_type": "stream",
          "text": [
            "Requirement already satisfied: CosmoloPy in /usr/local/lib/python3.6/dist-packages (0.4)\n",
            "Requirement already satisfied: scipy>=1.0.0 in /usr/local/lib/python3.6/dist-packages (from CosmoloPy) (1.4.1)\n",
            "Requirement already satisfied: numpy>=1.12.0 in /usr/local/lib/python3.6/dist-packages (from CosmoloPy) (1.17.5)\n"
          ],
          "name": "stdout"
        }
      ]
    },
    {
      "cell_type": "code",
      "metadata": {
        "id": "snPXp93lNJNw",
        "colab_type": "code",
        "colab": {}
      },
      "source": [
        "import numpy as np\n",
        "import matplotlib.pyplot as plt\n",
        "import pandas as pd\n",
        "from numpy import matrix\n",
        "from numpy import linalg\n",
        "import cosmolopy.distance as cd\n",
        "#Supernova JL"
      ],
      "execution_count": 0,
      "outputs": []
    },
    {
      "cell_type": "code",
      "metadata": {
        "id": "FvI_IaPHOR44",
        "colab_type": "code",
        "colab": {}
      },
      "source": [
        "!wget -cq https://raw.githubusercontent.com/DCIDA2019/da2020-Physicworld/master/datos/jla_lcparams.txt\n",
        "!wget -cq https://raw.githubusercontent.com/DCIDA2019/da2020-Physicworld/master/datos/jla_v0_covmatrix.dat\n",
        "!wget -cq https://raw.githubusercontent.com/DCIDA2019/da2020-Physicworld/master/datos/jla_v0a_covmatrix.dat\n",
        "!wget -cq https://raw.githubusercontent.com/DCIDA2019/da2020-Physicworld/master/datos/jla_v0b_covmatrix.dat\n",
        "!wget -cq https://raw.githubusercontent.com/DCIDA2019/da2020-Physicworld/master/datos/jla_va_covmatrix.dat\n",
        "!wget -cq https://raw.githubusercontent.com/DCIDA2019/da2020-Physicworld/master/datos/jla_vab_covmatrix.dat\n",
        "!wget -cq https://raw.githubusercontent.com/DCIDA2019/da2020-Physicworld/master/datos/jla_vb_covmatrix.dat"
      ],
      "execution_count": 0,
      "outputs": []
    },
    {
      "cell_type": "code",
      "metadata": {
        "id": "I4kVXNJRXqKt",
        "colab_type": "code",
        "colab": {}
      },
      "source": [
        "data = pd.read_csv(\"jla_lcparams.txt\", encoding='Latin-1', sep=\" \")\n",
        "data = pd.DataFrame(data)\n",
        "\n",
        "data_v0 = pd.read_csv(\"jla_v0_covmatrix.dat\", encoding='Latin-1')\n",
        "data_v0 = pd.DataFrame(data_v0)\n",
        "\n",
        "data_v0a = pd.read_csv(\"jla_v0a_covmatrix.dat\", encoding='Latin-1')\n",
        "data_v0a = pd.DataFrame(data_v0a)\n",
        "\n",
        "data_v0b = pd.read_csv(\"jla_v0b_covmatrix.dat\", encoding='Latin-1')\n",
        "data_v0b = pd.DataFrame(data_v0b)\n",
        "\n",
        "data_va = pd.read_csv(\"jla_va_covmatrix.dat\", encoding='Latin-1')\n",
        "data_va = pd.DataFrame(data_va)\n",
        "\n",
        "data_vab = pd.read_csv(\"jla_vab_covmatrix.dat\", encoding='Latin-1')\n",
        "data_vab = pd.DataFrame(data_vab)\n",
        "\n",
        "data_vb = pd.read_csv(\"jla_vb_covmatrix.dat\", encoding='Latin-1')\n",
        "data_vb = pd.DataFrame(data_vb)"
      ],
      "execution_count": 0,
      "outputs": []
    },
    {
      "cell_type": "code",
      "metadata": {
        "id": "U1b4lZYMa1WH",
        "colab_type": "code",
        "colab": {}
      },
      "source": [
        "zcmb = data[\"zcmb\"]\n",
        "mb = data[\"mb\"]\n",
        "x1 =  data[\"x1\"]\n",
        "C = data[\"color\"]"
      ],
      "execution_count": 0,
      "outputs": []
    },
    {
      "cell_type": "code",
      "metadata": {
        "id": "INjsIaHNpMx5",
        "colab_type": "code",
        "colab": {}
      },
      "source": [
        "matriz_cov = data_v0 + data_v0a + data_v0b + data_va + data_vab + data_vb\n",
        "matriz_cov = matriz_cov.values.reshape(740,740)\n",
        "matriz_cov"
      ],
      "execution_count": 0,
      "outputs": []
    },
    {
      "cell_type": "code",
      "metadata": {
        "id": "-00m2a8OYTsa",
        "colab_type": "code",
        "colab": {}
      },
      "source": [
        "def mu_exp(Mb, alpha, beta):\n",
        "  u = mb - (Mb - alpha * x1 + beta * c)\n",
        "  return u"
      ],
      "execution_count": 0,
      "outputs": []
    },
    {
      "cell_type": "code",
      "metadata": {
        "id": "BoMtoiB7j3mb",
        "colab_type": "code",
        "colab": {}
      },
      "source": [
        "def mu_teo(omega_m):\n",
        "  cosmo = {'omega_M_0':omega_m, 'omega_lambda_0':0.7, 'omega_k_0':0.0, 'h':0.7}\n",
        "  lumdist = 5 * np.log10(cd.luminosity_distance(zcmb,**cosmo)*1e6/10)\n",
        "  return lumdist"
      ],
      "execution_count": 0,
      "outputs": []
    },
    {
      "cell_type": "code",
      "metadata": {
        "id": "PHs6zcFS4pll",
        "colab_type": "code",
        "colab": {
          "base_uri": "https://localhost:8080/",
          "height": 259
        },
        "outputId": "43374f56-c736-4449-989e-4b2ee80bb74a"
      },
      "source": [
        ""
      ],
      "execution_count": 123,
      "outputs": [
        {
          "output_type": "execute_result",
          "data": {
            "text/plain": [
              "matrix([[ 4.49176957e+04,  5.70830489e+02, -4.18546676e+02, ...,\n",
              "         -1.89306478e-01,  6.12485801e+00, -4.54020606e+03],\n",
              "        [ 5.70830489e+02,  4.35383155e+04,  1.82760940e+02, ...,\n",
              "          2.16303120e+00, -2.76715787e+00,  5.51888481e+03],\n",
              "        [-4.18546676e+02,  1.82760940e+02,  1.28949039e+04, ...,\n",
              "          2.98724018e-01, -1.01214807e+00, -6.23992851e+03],\n",
              "        ...,\n",
              "        [-1.89306478e-01,  2.16303120e+00,  2.98724019e-01, ...,\n",
              "          1.56178892e+02, -6.89418422e-03,  6.25035095e+00],\n",
              "        [ 6.12485800e+00, -2.76715787e+00, -1.01214807e+00, ...,\n",
              "         -6.89418422e-03,  1.56167402e+02, -1.61320747e+01],\n",
              "        [-4.54020606e+03,  5.51888481e+03, -6.23992851e+03, ...,\n",
              "          6.25035095e+00, -1.61320747e+01,  4.75691408e+05]])"
            ]
          },
          "metadata": {
            "tags": []
          },
          "execution_count": 123
        }
      ]
    },
    {
      "cell_type": "code",
      "metadata": {
        "id": "0l_H0-Rav-9H",
        "colab_type": "code",
        "colab": {
          "base_uri": "https://localhost:8080/",
          "height": 137
        },
        "outputId": "1e2f3c31-16f9-4297-ae8f-71edb01ce093"
      },
      "source": [
        "def chisquare(alpha, beta, Mb, omega_m):\n",
        "  mu_obs.append(mu_exp(Mb,alpha,beta)\n",
        "  mu_teorico.append(mu_teo(omega_m))\n",
        "  dif = mu_obs - mu_teorico\n",
        "  transpuesta = np.transpose(dif)\n",
        "  aux = np.matrix(matriz_cov)\n",
        "  inverse = inv(aux)\n",
        "  return dif * inverse * transpuesta"
      ],
      "execution_count": 126,
      "outputs": [
        {
          "output_type": "error",
          "ename": "SyntaxError",
          "evalue": "ignored",
          "traceback": [
            "\u001b[0;36m  File \u001b[0;32m\"<ipython-input-126-db1cb19a30f0>\"\u001b[0;36m, line \u001b[0;32m3\u001b[0m\n\u001b[0;31m    transpuesta = np.transpose(dif)\u001b[0m\n\u001b[0m              ^\u001b[0m\n\u001b[0;31mSyntaxError\u001b[0m\u001b[0;31m:\u001b[0m invalid syntax\n"
          ]
        }
      ]
    },
    {
      "cell_type": "code",
      "metadata": {
        "id": "VC7rYbPgbOay",
        "colab_type": "code",
        "colab": {}
      },
      "source": [
        "mu_obs = mu_exp(-19.05, 0.141, 3.01)\n",
        "plt.scatter(zcmb, mu_obs)\n",
        "\n",
        "plt.ylabel(\"$\\mu$\")\n",
        "plt.xlabel(\"Z\")\n",
        "plt.xscale('log')\n",
        "plt.xlim(0.001, 10)\n",
        "plt.grid()\n",
        "plt.ylim(32,46)\n",
        "plt.show()"
      ],
      "execution_count": 0,
      "outputs": []
    },
    {
      "cell_type": "code",
      "metadata": {
        "id": "Jy0zylV0flKE",
        "colab_type": "code",
        "colab": {}
      },
      "source": [
        "cosmo = {'omega_M_0':0.3, 'omega_lambda_0':0.7, 'omega_k_0':0.0, 'h':0.7}\n",
        "lumdist = 5 * np.log10(cd.luminosity_distance(zcmb,**cosmo)*1e6/10)"
      ],
      "execution_count": 0,
      "outputs": []
    },
    {
      "cell_type": "code",
      "metadata": {
        "id": "zOlZ3qjdjkNt",
        "colab_type": "code",
        "colab": {}
      },
      "source": [
        "plt.scatter(zcmb, lumdist)\n",
        "plt.show()"
      ],
      "execution_count": 0,
      "outputs": []
    },
    {
      "cell_type": "code",
      "metadata": {
        "id": "3XXRdFUzmdmf",
        "colab_type": "code",
        "colab": {}
      },
      "source": [
        "plt.scatter(zcmb, mu_obs)\n",
        "plt.scatter(zcmb, lumdist)\n",
        "plt.show()"
      ],
      "execution_count": 0,
      "outputs": []
    },
    {
      "cell_type": "code",
      "metadata": {
        "id": "MbcDOhuE3rfr",
        "colab_type": "code",
        "colab": {}
      },
      "source": [
        ""
      ],
      "execution_count": 0,
      "outputs": []
    }
  ]
}